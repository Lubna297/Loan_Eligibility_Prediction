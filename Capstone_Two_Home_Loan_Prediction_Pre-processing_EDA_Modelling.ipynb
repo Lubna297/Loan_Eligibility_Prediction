{
 "cells": [
  {
   "cell_type": "markdown",
   "id": "38e6c8c0",
   "metadata": {},
   "source": [
    "**HOME LOAN ELIGIBILITY PREDICTION**"
   ]
  },
  {
   "cell_type": "markdown",
   "id": "38ad1087",
   "metadata": {},
   "source": [
    "Risk is always involved in the approval of the loans. Even after analyzing the loan application data numerous times, the loan approval decisions are not always correct. \n",
    "Dream Housing Finance company deals in home loans with presence across all urban, semi- urban and rural areas. \n",
    "The whole process of ascertaining if a burrower would pay back loans might be tedious hence the need to automate the procedure. \n",
    "Dream Housing Finance Company wants automation of this process so that the loan approval is less risky and does not incur loss to the company. \n",
    "We have to identify the factors that make a customer eligible for taking a home loan. The more accurate we are in predicting the eligible customers the more beneficial it would be for the Dream Housing Finance Company."
   ]
  },
  {
   "cell_type": "markdown",
   "id": "b8b2accf",
   "metadata": {},
   "source": [
    "Data source: Kaggle\n",
    "             https://www.kaggle.com/shaijudatascience/loan-prediction/data"
   ]
  },
  {
   "cell_type": "markdown",
   "id": "f1fd6990",
   "metadata": {},
   "source": [
    "The above problem is a classification problem,since we need to classify whether the Loan_Status is approved/Yes (Y) or rejected/No (N) using classification techniques like:\n",
    "1.Logistic Regression \n",
    "2.Random Forest \n",
    "3.Decision Tree "
   ]
  },
  {
   "cell_type": "markdown",
   "id": "ad5fb802",
   "metadata": {},
   "source": [
    " **IMPORT THE REQUIRED LIBRARIES** "
   ]
  },
  {
   "cell_type": "code",
   "execution_count": 1,
   "id": "19fa0472",
   "metadata": {},
   "outputs": [],
   "source": [
    "import pandas as pd\n",
    "import matplotlib.pyplot as plt\n",
    "import seaborn as sns\n",
    "import os\n",
    "import numpy as np\n",
    "%matplotlib inline\n",
    "from sklearn.decomposition import PCA\n",
    "from sklearn.preprocessing import StandardScaler\n",
    "from sklearn.preprocessing import LabelEncoder"
   ]
  },
  {
   "cell_type": "markdown",
   "id": "182c832e",
   "metadata": {},
   "source": [
    "**READ THE DATA**"
   ]
  },
  {
   "cell_type": "code",
   "execution_count": 2,
   "id": "e71fc125",
   "metadata": {},
   "outputs": [],
   "source": [
    "home_loan = pd.read_csv(\"../joshm/loan_train.csv\")"
   ]
  },
  {
   "cell_type": "markdown",
   "id": "c2ce5c5e",
   "metadata": {},
   "source": [
    "**UNDERSTANDING THE DATA**"
   ]
  },
  {
   "cell_type": "code",
   "execution_count": 3,
   "id": "17941e6a",
   "metadata": {},
   "outputs": [
    {
     "data": {
      "text/html": [
       "<div>\n",
       "<style scoped>\n",
       "    .dataframe tbody tr th:only-of-type {\n",
       "        vertical-align: middle;\n",
       "    }\n",
       "\n",
       "    .dataframe tbody tr th {\n",
       "        vertical-align: top;\n",
       "    }\n",
       "\n",
       "    .dataframe thead th {\n",
       "        text-align: right;\n",
       "    }\n",
       "</style>\n",
       "<table border=\"1\" class=\"dataframe\">\n",
       "  <thead>\n",
       "    <tr style=\"text-align: right;\">\n",
       "      <th></th>\n",
       "      <th>Loan_ID</th>\n",
       "      <th>Gender</th>\n",
       "      <th>Married</th>\n",
       "      <th>Dependents</th>\n",
       "      <th>Education</th>\n",
       "      <th>Self_Employed</th>\n",
       "      <th>ApplicantIncome</th>\n",
       "      <th>CoapplicantIncome</th>\n",
       "      <th>LoanAmount</th>\n",
       "      <th>Loan_Amount_Term</th>\n",
       "      <th>Credit_History</th>\n",
       "      <th>Property_Area</th>\n",
       "      <th>Loan_Status</th>\n",
       "    </tr>\n",
       "  </thead>\n",
       "  <tbody>\n",
       "    <tr>\n",
       "      <th>0</th>\n",
       "      <td>LP001002</td>\n",
       "      <td>Male</td>\n",
       "      <td>No</td>\n",
       "      <td>0</td>\n",
       "      <td>Graduate</td>\n",
       "      <td>No</td>\n",
       "      <td>5849</td>\n",
       "      <td>0.0</td>\n",
       "      <td>NaN</td>\n",
       "      <td>360.0</td>\n",
       "      <td>1.0</td>\n",
       "      <td>Urban</td>\n",
       "      <td>Y</td>\n",
       "    </tr>\n",
       "    <tr>\n",
       "      <th>1</th>\n",
       "      <td>LP001003</td>\n",
       "      <td>Male</td>\n",
       "      <td>Yes</td>\n",
       "      <td>1</td>\n",
       "      <td>Graduate</td>\n",
       "      <td>No</td>\n",
       "      <td>4583</td>\n",
       "      <td>1508.0</td>\n",
       "      <td>128.0</td>\n",
       "      <td>360.0</td>\n",
       "      <td>1.0</td>\n",
       "      <td>Rural</td>\n",
       "      <td>N</td>\n",
       "    </tr>\n",
       "    <tr>\n",
       "      <th>2</th>\n",
       "      <td>LP001005</td>\n",
       "      <td>Male</td>\n",
       "      <td>Yes</td>\n",
       "      <td>0</td>\n",
       "      <td>Graduate</td>\n",
       "      <td>Yes</td>\n",
       "      <td>3000</td>\n",
       "      <td>0.0</td>\n",
       "      <td>66.0</td>\n",
       "      <td>360.0</td>\n",
       "      <td>1.0</td>\n",
       "      <td>Urban</td>\n",
       "      <td>Y</td>\n",
       "    </tr>\n",
       "    <tr>\n",
       "      <th>3</th>\n",
       "      <td>LP001006</td>\n",
       "      <td>Male</td>\n",
       "      <td>Yes</td>\n",
       "      <td>0</td>\n",
       "      <td>Not Graduate</td>\n",
       "      <td>No</td>\n",
       "      <td>2583</td>\n",
       "      <td>2358.0</td>\n",
       "      <td>120.0</td>\n",
       "      <td>360.0</td>\n",
       "      <td>1.0</td>\n",
       "      <td>Urban</td>\n",
       "      <td>Y</td>\n",
       "    </tr>\n",
       "    <tr>\n",
       "      <th>4</th>\n",
       "      <td>LP001008</td>\n",
       "      <td>Male</td>\n",
       "      <td>No</td>\n",
       "      <td>0</td>\n",
       "      <td>Graduate</td>\n",
       "      <td>No</td>\n",
       "      <td>6000</td>\n",
       "      <td>0.0</td>\n",
       "      <td>141.0</td>\n",
       "      <td>360.0</td>\n",
       "      <td>1.0</td>\n",
       "      <td>Urban</td>\n",
       "      <td>Y</td>\n",
       "    </tr>\n",
       "  </tbody>\n",
       "</table>\n",
       "</div>"
      ],
      "text/plain": [
       "    Loan_ID Gender Married Dependents     Education Self_Employed  \\\n",
       "0  LP001002   Male      No          0      Graduate            No   \n",
       "1  LP001003   Male     Yes          1      Graduate            No   \n",
       "2  LP001005   Male     Yes          0      Graduate           Yes   \n",
       "3  LP001006   Male     Yes          0  Not Graduate            No   \n",
       "4  LP001008   Male      No          0      Graduate            No   \n",
       "\n",
       "   ApplicantIncome  CoapplicantIncome  LoanAmount  Loan_Amount_Term  \\\n",
       "0             5849                0.0         NaN             360.0   \n",
       "1             4583             1508.0       128.0             360.0   \n",
       "2             3000                0.0        66.0             360.0   \n",
       "3             2583             2358.0       120.0             360.0   \n",
       "4             6000                0.0       141.0             360.0   \n",
       "\n",
       "   Credit_History Property_Area Loan_Status  \n",
       "0             1.0         Urban           Y  \n",
       "1             1.0         Rural           N  \n",
       "2             1.0         Urban           Y  \n",
       "3             1.0         Urban           Y  \n",
       "4             1.0         Urban           Y  "
      ]
     },
     "execution_count": 3,
     "metadata": {},
     "output_type": "execute_result"
    }
   ],
   "source": [
    "home_loan.head()"
   ]
  },
  {
   "cell_type": "markdown",
   "id": "eb3649ed",
   "metadata": {},
   "source": [
    "**NUMBER OF COLUMNS AND ROWS IN THE DATA**"
   ]
  },
  {
   "cell_type": "code",
   "execution_count": 4,
   "id": "2b504649",
   "metadata": {},
   "outputs": [
    {
     "data": {
      "text/plain": [
       "(614, 13)"
      ]
     },
     "execution_count": 4,
     "metadata": {},
     "output_type": "execute_result"
    }
   ],
   "source": [
    "home_loan.shape"
   ]
  },
  {
   "cell_type": "markdown",
   "id": "e024e592",
   "metadata": {},
   "source": [
    "There are 614 rows and 13 columns in our data set. Loan_Status is the target variable and all others are the decision variables that decide whether the loan will be approved or not."
   ]
  },
  {
   "cell_type": "markdown",
   "id": "0e455ac4",
   "metadata": {},
   "source": [
    "**FEATURES/COLUMNS IN THE DATA**"
   ]
  },
  {
   "cell_type": "code",
   "execution_count": 5,
   "id": "4fcf3c9a",
   "metadata": {},
   "outputs": [
    {
     "data": {
      "text/plain": [
       "Index(['Loan_ID', 'Gender', 'Married', 'Dependents', 'Education',\n",
       "       'Self_Employed', 'ApplicantIncome', 'CoapplicantIncome', 'LoanAmount',\n",
       "       'Loan_Amount_Term', 'Credit_History', 'Property_Area', 'Loan_Status'],\n",
       "      dtype='object')"
      ]
     },
     "execution_count": 5,
     "metadata": {},
     "output_type": "execute_result"
    }
   ],
   "source": [
    "home_loan.columns"
   ]
  },
  {
   "cell_type": "markdown",
   "id": "6ac6a489",
   "metadata": {},
   "source": [
    "Brief description of the 13 features in our dataset:\n",
    "1. Loan ID: Each applicant has a unique loan ID.\n",
    "2. Gender:  Male or Female\n",
    "3. Married:  Applicant who is married is represented by 'Yes' and not married is represented as 'No'. \n",
    "4. Dependents: Total number of persons dependent on the applicant.\n",
    "5. Education: It is either 'Graduate' or 'Not Graduate'. \n",
    "6. Self_Employed: An applicant who is self employed is represented by 'Yes' and the one who is not is represented by 'No'.\n",
    "7. Applicant_Income: Income of the applicant.\n",
    "8. Coapplicant_Income: This represents the income of co-applicant.\n",
    "9. LoanAmount: The total loan amount the applicant has applied for. This amount represents the loan amount in thousands.\n",
    "10. Loan_Amount_Term: This represents the number of months required to repay the loan.\n",
    "11. Credit_History: 1 denotes that the credit history is good and 0 otherwise.\n",
    "12. Property_Area:  Three types mentioned: Urban or Semi Urban or Rural.\n",
    "13. Loan_Status: If the applicant is eligible for loan it’s Yes represented by Y else it’s No represented by N."
   ]
  },
  {
   "cell_type": "markdown",
   "id": "81f40f6c",
   "metadata": {},
   "source": [
    "**ABOUT THE DATA**"
   ]
  },
  {
   "cell_type": "code",
   "execution_count": 6,
   "id": "fd6988ad",
   "metadata": {},
   "outputs": [
    {
     "data": {
      "text/plain": [
       "<bound method DataFrame.info of       Loan_ID  Gender Married Dependents     Education Self_Employed  \\\n",
       "0    LP001002    Male      No          0      Graduate            No   \n",
       "1    LP001003    Male     Yes          1      Graduate            No   \n",
       "2    LP001005    Male     Yes          0      Graduate           Yes   \n",
       "3    LP001006    Male     Yes          0  Not Graduate            No   \n",
       "4    LP001008    Male      No          0      Graduate            No   \n",
       "..        ...     ...     ...        ...           ...           ...   \n",
       "609  LP002978  Female      No          0      Graduate            No   \n",
       "610  LP002979    Male     Yes         3+      Graduate            No   \n",
       "611  LP002983    Male     Yes          1      Graduate            No   \n",
       "612  LP002984    Male     Yes          2      Graduate            No   \n",
       "613  LP002990  Female      No          0      Graduate           Yes   \n",
       "\n",
       "     ApplicantIncome  CoapplicantIncome  LoanAmount  Loan_Amount_Term  \\\n",
       "0               5849                0.0         NaN             360.0   \n",
       "1               4583             1508.0       128.0             360.0   \n",
       "2               3000                0.0        66.0             360.0   \n",
       "3               2583             2358.0       120.0             360.0   \n",
       "4               6000                0.0       141.0             360.0   \n",
       "..               ...                ...         ...               ...   \n",
       "609             2900                0.0        71.0             360.0   \n",
       "610             4106                0.0        40.0             180.0   \n",
       "611             8072              240.0       253.0             360.0   \n",
       "612             7583                0.0       187.0             360.0   \n",
       "613             4583                0.0       133.0             360.0   \n",
       "\n",
       "     Credit_History Property_Area Loan_Status  \n",
       "0               1.0         Urban           Y  \n",
       "1               1.0         Rural           N  \n",
       "2               1.0         Urban           Y  \n",
       "3               1.0         Urban           Y  \n",
       "4               1.0         Urban           Y  \n",
       "..              ...           ...         ...  \n",
       "609             1.0         Rural           Y  \n",
       "610             1.0         Rural           Y  \n",
       "611             1.0         Urban           Y  \n",
       "612             1.0         Urban           Y  \n",
       "613             0.0     Semiurban           N  \n",
       "\n",
       "[614 rows x 13 columns]>"
      ]
     },
     "execution_count": 6,
     "metadata": {},
     "output_type": "execute_result"
    }
   ],
   "source": [
    "home_loan.info"
   ]
  },
  {
   "cell_type": "markdown",
   "id": "cf314aa5",
   "metadata": {},
   "source": [
    "**SUMMARY STATISTICS**"
   ]
  },
  {
   "cell_type": "code",
   "execution_count": 7,
   "id": "3348b46d",
   "metadata": {},
   "outputs": [
    {
     "data": {
      "text/html": [
       "<div>\n",
       "<style scoped>\n",
       "    .dataframe tbody tr th:only-of-type {\n",
       "        vertical-align: middle;\n",
       "    }\n",
       "\n",
       "    .dataframe tbody tr th {\n",
       "        vertical-align: top;\n",
       "    }\n",
       "\n",
       "    .dataframe thead th {\n",
       "        text-align: right;\n",
       "    }\n",
       "</style>\n",
       "<table border=\"1\" class=\"dataframe\">\n",
       "  <thead>\n",
       "    <tr style=\"text-align: right;\">\n",
       "      <th></th>\n",
       "      <th>ApplicantIncome</th>\n",
       "      <th>CoapplicantIncome</th>\n",
       "      <th>LoanAmount</th>\n",
       "      <th>Loan_Amount_Term</th>\n",
       "      <th>Credit_History</th>\n",
       "    </tr>\n",
       "  </thead>\n",
       "  <tbody>\n",
       "    <tr>\n",
       "      <th>count</th>\n",
       "      <td>614.000000</td>\n",
       "      <td>614.000000</td>\n",
       "      <td>592.000000</td>\n",
       "      <td>600.00000</td>\n",
       "      <td>564.000000</td>\n",
       "    </tr>\n",
       "    <tr>\n",
       "      <th>mean</th>\n",
       "      <td>5403.459283</td>\n",
       "      <td>1621.245798</td>\n",
       "      <td>146.412162</td>\n",
       "      <td>342.00000</td>\n",
       "      <td>0.842199</td>\n",
       "    </tr>\n",
       "    <tr>\n",
       "      <th>std</th>\n",
       "      <td>6109.041673</td>\n",
       "      <td>2926.248369</td>\n",
       "      <td>85.587325</td>\n",
       "      <td>65.12041</td>\n",
       "      <td>0.364878</td>\n",
       "    </tr>\n",
       "    <tr>\n",
       "      <th>min</th>\n",
       "      <td>150.000000</td>\n",
       "      <td>0.000000</td>\n",
       "      <td>9.000000</td>\n",
       "      <td>12.00000</td>\n",
       "      <td>0.000000</td>\n",
       "    </tr>\n",
       "    <tr>\n",
       "      <th>25%</th>\n",
       "      <td>2877.500000</td>\n",
       "      <td>0.000000</td>\n",
       "      <td>100.000000</td>\n",
       "      <td>360.00000</td>\n",
       "      <td>1.000000</td>\n",
       "    </tr>\n",
       "    <tr>\n",
       "      <th>50%</th>\n",
       "      <td>3812.500000</td>\n",
       "      <td>1188.500000</td>\n",
       "      <td>128.000000</td>\n",
       "      <td>360.00000</td>\n",
       "      <td>1.000000</td>\n",
       "    </tr>\n",
       "    <tr>\n",
       "      <th>75%</th>\n",
       "      <td>5795.000000</td>\n",
       "      <td>2297.250000</td>\n",
       "      <td>168.000000</td>\n",
       "      <td>360.00000</td>\n",
       "      <td>1.000000</td>\n",
       "    </tr>\n",
       "    <tr>\n",
       "      <th>max</th>\n",
       "      <td>81000.000000</td>\n",
       "      <td>41667.000000</td>\n",
       "      <td>700.000000</td>\n",
       "      <td>480.00000</td>\n",
       "      <td>1.000000</td>\n",
       "    </tr>\n",
       "  </tbody>\n",
       "</table>\n",
       "</div>"
      ],
      "text/plain": [
       "       ApplicantIncome  CoapplicantIncome  LoanAmount  Loan_Amount_Term  \\\n",
       "count       614.000000         614.000000  592.000000         600.00000   \n",
       "mean       5403.459283        1621.245798  146.412162         342.00000   \n",
       "std        6109.041673        2926.248369   85.587325          65.12041   \n",
       "min         150.000000           0.000000    9.000000          12.00000   \n",
       "25%        2877.500000           0.000000  100.000000         360.00000   \n",
       "50%        3812.500000        1188.500000  128.000000         360.00000   \n",
       "75%        5795.000000        2297.250000  168.000000         360.00000   \n",
       "max       81000.000000       41667.000000  700.000000         480.00000   \n",
       "\n",
       "       Credit_History  \n",
       "count      564.000000  \n",
       "mean         0.842199  \n",
       "std          0.364878  \n",
       "min          0.000000  \n",
       "25%          1.000000  \n",
       "50%          1.000000  \n",
       "75%          1.000000  \n",
       "max          1.000000  "
      ]
     },
     "execution_count": 7,
     "metadata": {},
     "output_type": "execute_result"
    }
   ],
   "source": [
    "home_loan.describe()"
   ]
  },
  {
   "cell_type": "markdown",
   "id": "94d2d41f",
   "metadata": {},
   "source": [
    "The above table shows the summary statistics of our dataset such as mean, standard deviation(std), count, percentiles and more."
   ]
  },
  {
   "cell_type": "markdown",
   "id": "b3a58adb",
   "metadata": {},
   "source": [
    "**DATA WRANGLING/CLEANING**"
   ]
  },
  {
   "cell_type": "markdown",
   "id": "143b50fa",
   "metadata": {},
   "source": [
    "Formatting and cleaning the messy datasets and making it more suitable for easy access and data analysis. This includes:\n",
    "1.Finding the data types of the features: Categorical/Numerical\n",
    "2. Find missing values\n",
    "3. Figure out Duplicate values\n",
    "4. Replace the NaN numbers"
   ]
  },
  {
   "cell_type": "markdown",
   "id": "a1e3c423",
   "metadata": {},
   "source": [
    "**CHECK THE DATA TYPES OF THE VARIABLES**"
   ]
  },
  {
   "cell_type": "code",
   "execution_count": 8,
   "id": "b8b8db0a",
   "metadata": {},
   "outputs": [
    {
     "data": {
      "text/plain": [
       "Loan_ID               object\n",
       "Gender                object\n",
       "Married               object\n",
       "Dependents            object\n",
       "Education             object\n",
       "Self_Employed         object\n",
       "ApplicantIncome        int64\n",
       "CoapplicantIncome    float64\n",
       "LoanAmount           float64\n",
       "Loan_Amount_Term     float64\n",
       "Credit_History       float64\n",
       "Property_Area         object\n",
       "Loan_Status           object\n",
       "dtype: object"
      ]
     },
     "execution_count": 8,
     "metadata": {},
     "output_type": "execute_result"
    }
   ],
   "source": [
    "home_loan.dtypes"
   ]
  },
  {
   "cell_type": "markdown",
   "id": "1c1b8df1",
   "metadata": {},
   "source": [
    "Our dataset has 3 data types:\n",
    "\n",
    "1. object: Object datatype implies that the variables are categorical. Hence, there are 8 categorical variables in our dataset which are: Loan_ID, Gender, Married, Dependents, Education, Self_Employed, Property_Area and Loan_Status.\n",
    "\n",
    "2. int64: this datatype represents the integer variables and there is only 1 integer variable in our dataset, 'Applicant_Income'.\n",
    "\n",
    "3. float64: This datatype represents the numerical variable which have some decimal values involved. There are 4 such numerical variables in our dataset which are: Coapplicant_Income, LoanAmount, Loan_Amount_Term, and Credit_History."
   ]
  },
  {
   "cell_type": "markdown",
   "id": "7065c24d",
   "metadata": {},
   "source": [
    "Cleaning and formatting the messy datasets and making it more suitable for easy access and data anaylsis."
   ]
  },
  {
   "cell_type": "markdown",
   "id": "34fdd8ed",
   "metadata": {},
   "source": [
    "**TOTAL NUMBER OF MISSING VALUES IN THE DATA**"
   ]
  },
  {
   "cell_type": "code",
   "execution_count": 9,
   "id": "b43660dd",
   "metadata": {},
   "outputs": [],
   "source": [
    "missing = home_loan.isnull().sum()"
   ]
  },
  {
   "cell_type": "code",
   "execution_count": 10,
   "id": "649364ee",
   "metadata": {},
   "outputs": [
    {
     "data": {
      "text/plain": [
       "Loan_ID               0\n",
       "Gender               13\n",
       "Married               3\n",
       "Dependents           15\n",
       "Education             0\n",
       "Self_Employed        32\n",
       "ApplicantIncome       0\n",
       "CoapplicantIncome     0\n",
       "LoanAmount           22\n",
       "Loan_Amount_Term     14\n",
       "Credit_History       50\n",
       "Property_Area         0\n",
       "Loan_Status           0\n",
       "dtype: int64"
      ]
     },
     "execution_count": 10,
     "metadata": {},
     "output_type": "execute_result"
    }
   ],
   "source": [
    "missing"
   ]
  },
  {
   "cell_type": "markdown",
   "id": "83edf887",
   "metadata": {},
   "source": [
    "There are some missing values in Gender, Married, Dependents, Self_Employed, LoanAmount, Loan_Amount_Term and Credit_History features."
   ]
  },
  {
   "cell_type": "markdown",
   "id": "fd516d08",
   "metadata": {},
   "source": [
    "**PERCENTAGE OF MISSING VALUES**"
   ]
  },
  {
   "cell_type": "code",
   "execution_count": 11,
   "id": "dcbdb7ff",
   "metadata": {},
   "outputs": [
    {
     "data": {
      "text/html": [
       "<div>\n",
       "<style scoped>\n",
       "    .dataframe tbody tr th:only-of-type {\n",
       "        vertical-align: middle;\n",
       "    }\n",
       "\n",
       "    .dataframe tbody tr th {\n",
       "        vertical-align: top;\n",
       "    }\n",
       "\n",
       "    .dataframe thead th {\n",
       "        text-align: right;\n",
       "    }\n",
       "</style>\n",
       "<table border=\"1\" class=\"dataframe\">\n",
       "  <thead>\n",
       "    <tr style=\"text-align: right;\">\n",
       "      <th></th>\n",
       "      <th>count</th>\n",
       "      <th>%</th>\n",
       "    </tr>\n",
       "  </thead>\n",
       "  <tbody>\n",
       "    <tr>\n",
       "      <th>Credit_History</th>\n",
       "      <td>50</td>\n",
       "      <td>8.143322</td>\n",
       "    </tr>\n",
       "    <tr>\n",
       "      <th>Self_Employed</th>\n",
       "      <td>32</td>\n",
       "      <td>5.211726</td>\n",
       "    </tr>\n",
       "    <tr>\n",
       "      <th>LoanAmount</th>\n",
       "      <td>22</td>\n",
       "      <td>3.583062</td>\n",
       "    </tr>\n",
       "    <tr>\n",
       "      <th>Dependents</th>\n",
       "      <td>15</td>\n",
       "      <td>2.442997</td>\n",
       "    </tr>\n",
       "    <tr>\n",
       "      <th>Loan_Amount_Term</th>\n",
       "      <td>14</td>\n",
       "      <td>2.280130</td>\n",
       "    </tr>\n",
       "    <tr>\n",
       "      <th>Gender</th>\n",
       "      <td>13</td>\n",
       "      <td>2.117264</td>\n",
       "    </tr>\n",
       "    <tr>\n",
       "      <th>Married</th>\n",
       "      <td>3</td>\n",
       "      <td>0.488599</td>\n",
       "    </tr>\n",
       "    <tr>\n",
       "      <th>Loan_ID</th>\n",
       "      <td>0</td>\n",
       "      <td>0.000000</td>\n",
       "    </tr>\n",
       "    <tr>\n",
       "      <th>Education</th>\n",
       "      <td>0</td>\n",
       "      <td>0.000000</td>\n",
       "    </tr>\n",
       "    <tr>\n",
       "      <th>ApplicantIncome</th>\n",
       "      <td>0</td>\n",
       "      <td>0.000000</td>\n",
       "    </tr>\n",
       "    <tr>\n",
       "      <th>CoapplicantIncome</th>\n",
       "      <td>0</td>\n",
       "      <td>0.000000</td>\n",
       "    </tr>\n",
       "    <tr>\n",
       "      <th>Property_Area</th>\n",
       "      <td>0</td>\n",
       "      <td>0.000000</td>\n",
       "    </tr>\n",
       "    <tr>\n",
       "      <th>Loan_Status</th>\n",
       "      <td>0</td>\n",
       "      <td>0.000000</td>\n",
       "    </tr>\n",
       "  </tbody>\n",
       "</table>\n",
       "</div>"
      ],
      "text/plain": [
       "                   count         %\n",
       "Credit_History        50  8.143322\n",
       "Self_Employed         32  5.211726\n",
       "LoanAmount            22  3.583062\n",
       "Dependents            15  2.442997\n",
       "Loan_Amount_Term      14  2.280130\n",
       "Gender                13  2.117264\n",
       "Married                3  0.488599\n",
       "Loan_ID                0  0.000000\n",
       "Education              0  0.000000\n",
       "ApplicantIncome        0  0.000000\n",
       "CoapplicantIncome      0  0.000000\n",
       "Property_Area          0  0.000000\n",
       "Loan_Status            0  0.000000"
      ]
     },
     "execution_count": 11,
     "metadata": {},
     "output_type": "execute_result"
    }
   ],
   "source": [
    "missing = pd.concat([home_loan.isnull().sum(), 100 * home_loan.isnull().mean()], axis=1)\n",
    "missing.columns=['count', '%']\n",
    "missing.sort_values(by='%', ascending = False)"
   ]
  },
  {
   "cell_type": "markdown",
   "id": "4972dfbb",
   "metadata": {},
   "source": [
    "The variable 'Credit_History' has the most number of missing values in our dataset."
   ]
  },
  {
   "cell_type": "markdown",
   "id": "8b8c80a6",
   "metadata": {},
   "source": [
    "**DUPLICATE VALUES IN THE DATASET**"
   ]
  },
  {
   "cell_type": "code",
   "execution_count": 12,
   "id": "e0913665",
   "metadata": {},
   "outputs": [
    {
     "data": {
      "text/plain": [
       "0      False\n",
       "1      False\n",
       "2      False\n",
       "3      False\n",
       "4      False\n",
       "       ...  \n",
       "609    False\n",
       "610    False\n",
       "611    False\n",
       "612    False\n",
       "613    False\n",
       "Length: 614, dtype: bool"
      ]
     },
     "execution_count": 12,
     "metadata": {},
     "output_type": "execute_result"
    }
   ],
   "source": [
    "home_loan.duplicated(subset=None, keep='first')"
   ]
  },
  {
   "cell_type": "code",
   "execution_count": 13,
   "id": "239b6e16",
   "metadata": {},
   "outputs": [
    {
     "data": {
      "text/plain": [
       "0"
      ]
     },
     "execution_count": 13,
     "metadata": {},
     "output_type": "execute_result"
    }
   ],
   "source": [
    "home_loan.duplicated().sum()"
   ]
  },
  {
   "cell_type": "markdown",
   "id": "0bba8f24",
   "metadata": {},
   "source": [
    "Our dataset has NO duplicate values."
   ]
  },
  {
   "cell_type": "markdown",
   "id": "b5476e7a",
   "metadata": {},
   "source": [
    "**Transposing the dataset to get a clear view of all the features/columns**"
   ]
  },
  {
   "cell_type": "code",
   "execution_count": 14,
   "id": "f872bdf6",
   "metadata": {},
   "outputs": [
    {
     "data": {
      "text/html": [
       "<div>\n",
       "<style scoped>\n",
       "    .dataframe tbody tr th:only-of-type {\n",
       "        vertical-align: middle;\n",
       "    }\n",
       "\n",
       "    .dataframe tbody tr th {\n",
       "        vertical-align: top;\n",
       "    }\n",
       "\n",
       "    .dataframe thead th {\n",
       "        text-align: right;\n",
       "    }\n",
       "</style>\n",
       "<table border=\"1\" class=\"dataframe\">\n",
       "  <thead>\n",
       "    <tr style=\"text-align: right;\">\n",
       "      <th></th>\n",
       "      <th>0</th>\n",
       "      <th>1</th>\n",
       "      <th>2</th>\n",
       "      <th>3</th>\n",
       "      <th>4</th>\n",
       "      <th>5</th>\n",
       "      <th>6</th>\n",
       "      <th>7</th>\n",
       "      <th>8</th>\n",
       "      <th>9</th>\n",
       "      <th>...</th>\n",
       "      <th>604</th>\n",
       "      <th>605</th>\n",
       "      <th>606</th>\n",
       "      <th>607</th>\n",
       "      <th>608</th>\n",
       "      <th>609</th>\n",
       "      <th>610</th>\n",
       "      <th>611</th>\n",
       "      <th>612</th>\n",
       "      <th>613</th>\n",
       "    </tr>\n",
       "  </thead>\n",
       "  <tbody>\n",
       "    <tr>\n",
       "      <th>Loan_ID</th>\n",
       "      <td>LP001002</td>\n",
       "      <td>LP001003</td>\n",
       "      <td>LP001005</td>\n",
       "      <td>LP001006</td>\n",
       "      <td>LP001008</td>\n",
       "      <td>LP001011</td>\n",
       "      <td>LP001013</td>\n",
       "      <td>LP001014</td>\n",
       "      <td>LP001018</td>\n",
       "      <td>LP001020</td>\n",
       "      <td>...</td>\n",
       "      <td>LP002959</td>\n",
       "      <td>LP002960</td>\n",
       "      <td>LP002961</td>\n",
       "      <td>LP002964</td>\n",
       "      <td>LP002974</td>\n",
       "      <td>LP002978</td>\n",
       "      <td>LP002979</td>\n",
       "      <td>LP002983</td>\n",
       "      <td>LP002984</td>\n",
       "      <td>LP002990</td>\n",
       "    </tr>\n",
       "    <tr>\n",
       "      <th>Gender</th>\n",
       "      <td>Male</td>\n",
       "      <td>Male</td>\n",
       "      <td>Male</td>\n",
       "      <td>Male</td>\n",
       "      <td>Male</td>\n",
       "      <td>Male</td>\n",
       "      <td>Male</td>\n",
       "      <td>Male</td>\n",
       "      <td>Male</td>\n",
       "      <td>Male</td>\n",
       "      <td>...</td>\n",
       "      <td>Female</td>\n",
       "      <td>Male</td>\n",
       "      <td>Male</td>\n",
       "      <td>Male</td>\n",
       "      <td>Male</td>\n",
       "      <td>Female</td>\n",
       "      <td>Male</td>\n",
       "      <td>Male</td>\n",
       "      <td>Male</td>\n",
       "      <td>Female</td>\n",
       "    </tr>\n",
       "    <tr>\n",
       "      <th>Married</th>\n",
       "      <td>No</td>\n",
       "      <td>Yes</td>\n",
       "      <td>Yes</td>\n",
       "      <td>Yes</td>\n",
       "      <td>No</td>\n",
       "      <td>Yes</td>\n",
       "      <td>Yes</td>\n",
       "      <td>Yes</td>\n",
       "      <td>Yes</td>\n",
       "      <td>Yes</td>\n",
       "      <td>...</td>\n",
       "      <td>Yes</td>\n",
       "      <td>Yes</td>\n",
       "      <td>Yes</td>\n",
       "      <td>Yes</td>\n",
       "      <td>Yes</td>\n",
       "      <td>No</td>\n",
       "      <td>Yes</td>\n",
       "      <td>Yes</td>\n",
       "      <td>Yes</td>\n",
       "      <td>No</td>\n",
       "    </tr>\n",
       "    <tr>\n",
       "      <th>Dependents</th>\n",
       "      <td>0</td>\n",
       "      <td>1</td>\n",
       "      <td>0</td>\n",
       "      <td>0</td>\n",
       "      <td>0</td>\n",
       "      <td>2</td>\n",
       "      <td>0</td>\n",
       "      <td>3+</td>\n",
       "      <td>2</td>\n",
       "      <td>1</td>\n",
       "      <td>...</td>\n",
       "      <td>1</td>\n",
       "      <td>0</td>\n",
       "      <td>1</td>\n",
       "      <td>2</td>\n",
       "      <td>0</td>\n",
       "      <td>0</td>\n",
       "      <td>3+</td>\n",
       "      <td>1</td>\n",
       "      <td>2</td>\n",
       "      <td>0</td>\n",
       "    </tr>\n",
       "    <tr>\n",
       "      <th>Education</th>\n",
       "      <td>Graduate</td>\n",
       "      <td>Graduate</td>\n",
       "      <td>Graduate</td>\n",
       "      <td>Not Graduate</td>\n",
       "      <td>Graduate</td>\n",
       "      <td>Graduate</td>\n",
       "      <td>Not Graduate</td>\n",
       "      <td>Graduate</td>\n",
       "      <td>Graduate</td>\n",
       "      <td>Graduate</td>\n",
       "      <td>...</td>\n",
       "      <td>Graduate</td>\n",
       "      <td>Not Graduate</td>\n",
       "      <td>Graduate</td>\n",
       "      <td>Not Graduate</td>\n",
       "      <td>Graduate</td>\n",
       "      <td>Graduate</td>\n",
       "      <td>Graduate</td>\n",
       "      <td>Graduate</td>\n",
       "      <td>Graduate</td>\n",
       "      <td>Graduate</td>\n",
       "    </tr>\n",
       "    <tr>\n",
       "      <th>Self_Employed</th>\n",
       "      <td>No</td>\n",
       "      <td>No</td>\n",
       "      <td>Yes</td>\n",
       "      <td>No</td>\n",
       "      <td>No</td>\n",
       "      <td>Yes</td>\n",
       "      <td>No</td>\n",
       "      <td>No</td>\n",
       "      <td>No</td>\n",
       "      <td>No</td>\n",
       "      <td>...</td>\n",
       "      <td>No</td>\n",
       "      <td>No</td>\n",
       "      <td>No</td>\n",
       "      <td>No</td>\n",
       "      <td>No</td>\n",
       "      <td>No</td>\n",
       "      <td>No</td>\n",
       "      <td>No</td>\n",
       "      <td>No</td>\n",
       "      <td>Yes</td>\n",
       "    </tr>\n",
       "    <tr>\n",
       "      <th>ApplicantIncome</th>\n",
       "      <td>5849</td>\n",
       "      <td>4583</td>\n",
       "      <td>3000</td>\n",
       "      <td>2583</td>\n",
       "      <td>6000</td>\n",
       "      <td>5417</td>\n",
       "      <td>2333</td>\n",
       "      <td>3036</td>\n",
       "      <td>4006</td>\n",
       "      <td>12841</td>\n",
       "      <td>...</td>\n",
       "      <td>12000</td>\n",
       "      <td>2400</td>\n",
       "      <td>3400</td>\n",
       "      <td>3987</td>\n",
       "      <td>3232</td>\n",
       "      <td>2900</td>\n",
       "      <td>4106</td>\n",
       "      <td>8072</td>\n",
       "      <td>7583</td>\n",
       "      <td>4583</td>\n",
       "    </tr>\n",
       "    <tr>\n",
       "      <th>CoapplicantIncome</th>\n",
       "      <td>0.0</td>\n",
       "      <td>1508.0</td>\n",
       "      <td>0.0</td>\n",
       "      <td>2358.0</td>\n",
       "      <td>0.0</td>\n",
       "      <td>4196.0</td>\n",
       "      <td>1516.0</td>\n",
       "      <td>2504.0</td>\n",
       "      <td>1526.0</td>\n",
       "      <td>10968.0</td>\n",
       "      <td>...</td>\n",
       "      <td>0.0</td>\n",
       "      <td>3800.0</td>\n",
       "      <td>2500.0</td>\n",
       "      <td>1411.0</td>\n",
       "      <td>1950.0</td>\n",
       "      <td>0.0</td>\n",
       "      <td>0.0</td>\n",
       "      <td>240.0</td>\n",
       "      <td>0.0</td>\n",
       "      <td>0.0</td>\n",
       "    </tr>\n",
       "    <tr>\n",
       "      <th>LoanAmount</th>\n",
       "      <td>NaN</td>\n",
       "      <td>128.0</td>\n",
       "      <td>66.0</td>\n",
       "      <td>120.0</td>\n",
       "      <td>141.0</td>\n",
       "      <td>267.0</td>\n",
       "      <td>95.0</td>\n",
       "      <td>158.0</td>\n",
       "      <td>168.0</td>\n",
       "      <td>349.0</td>\n",
       "      <td>...</td>\n",
       "      <td>496.0</td>\n",
       "      <td>NaN</td>\n",
       "      <td>173.0</td>\n",
       "      <td>157.0</td>\n",
       "      <td>108.0</td>\n",
       "      <td>71.0</td>\n",
       "      <td>40.0</td>\n",
       "      <td>253.0</td>\n",
       "      <td>187.0</td>\n",
       "      <td>133.0</td>\n",
       "    </tr>\n",
       "    <tr>\n",
       "      <th>Loan_Amount_Term</th>\n",
       "      <td>360.0</td>\n",
       "      <td>360.0</td>\n",
       "      <td>360.0</td>\n",
       "      <td>360.0</td>\n",
       "      <td>360.0</td>\n",
       "      <td>360.0</td>\n",
       "      <td>360.0</td>\n",
       "      <td>360.0</td>\n",
       "      <td>360.0</td>\n",
       "      <td>360.0</td>\n",
       "      <td>...</td>\n",
       "      <td>360.0</td>\n",
       "      <td>180.0</td>\n",
       "      <td>360.0</td>\n",
       "      <td>360.0</td>\n",
       "      <td>360.0</td>\n",
       "      <td>360.0</td>\n",
       "      <td>180.0</td>\n",
       "      <td>360.0</td>\n",
       "      <td>360.0</td>\n",
       "      <td>360.0</td>\n",
       "    </tr>\n",
       "    <tr>\n",
       "      <th>Credit_History</th>\n",
       "      <td>1.0</td>\n",
       "      <td>1.0</td>\n",
       "      <td>1.0</td>\n",
       "      <td>1.0</td>\n",
       "      <td>1.0</td>\n",
       "      <td>1.0</td>\n",
       "      <td>1.0</td>\n",
       "      <td>0.0</td>\n",
       "      <td>1.0</td>\n",
       "      <td>1.0</td>\n",
       "      <td>...</td>\n",
       "      <td>1.0</td>\n",
       "      <td>1.0</td>\n",
       "      <td>1.0</td>\n",
       "      <td>1.0</td>\n",
       "      <td>1.0</td>\n",
       "      <td>1.0</td>\n",
       "      <td>1.0</td>\n",
       "      <td>1.0</td>\n",
       "      <td>1.0</td>\n",
       "      <td>0.0</td>\n",
       "    </tr>\n",
       "    <tr>\n",
       "      <th>Property_Area</th>\n",
       "      <td>Urban</td>\n",
       "      <td>Rural</td>\n",
       "      <td>Urban</td>\n",
       "      <td>Urban</td>\n",
       "      <td>Urban</td>\n",
       "      <td>Urban</td>\n",
       "      <td>Urban</td>\n",
       "      <td>Semiurban</td>\n",
       "      <td>Urban</td>\n",
       "      <td>Semiurban</td>\n",
       "      <td>...</td>\n",
       "      <td>Semiurban</td>\n",
       "      <td>Urban</td>\n",
       "      <td>Semiurban</td>\n",
       "      <td>Rural</td>\n",
       "      <td>Rural</td>\n",
       "      <td>Rural</td>\n",
       "      <td>Rural</td>\n",
       "      <td>Urban</td>\n",
       "      <td>Urban</td>\n",
       "      <td>Semiurban</td>\n",
       "    </tr>\n",
       "    <tr>\n",
       "      <th>Loan_Status</th>\n",
       "      <td>Y</td>\n",
       "      <td>N</td>\n",
       "      <td>Y</td>\n",
       "      <td>Y</td>\n",
       "      <td>Y</td>\n",
       "      <td>Y</td>\n",
       "      <td>Y</td>\n",
       "      <td>N</td>\n",
       "      <td>Y</td>\n",
       "      <td>N</td>\n",
       "      <td>...</td>\n",
       "      <td>Y</td>\n",
       "      <td>N</td>\n",
       "      <td>Y</td>\n",
       "      <td>Y</td>\n",
       "      <td>Y</td>\n",
       "      <td>Y</td>\n",
       "      <td>Y</td>\n",
       "      <td>Y</td>\n",
       "      <td>Y</td>\n",
       "      <td>N</td>\n",
       "    </tr>\n",
       "  </tbody>\n",
       "</table>\n",
       "<p>13 rows × 614 columns</p>\n",
       "</div>"
      ],
      "text/plain": [
       "                        0         1         2             3         4    \\\n",
       "Loan_ID            LP001002  LP001003  LP001005      LP001006  LP001008   \n",
       "Gender                 Male      Male      Male          Male      Male   \n",
       "Married                  No       Yes       Yes           Yes        No   \n",
       "Dependents                0         1         0             0         0   \n",
       "Education          Graduate  Graduate  Graduate  Not Graduate  Graduate   \n",
       "Self_Employed            No        No       Yes            No        No   \n",
       "ApplicantIncome        5849      4583      3000          2583      6000   \n",
       "CoapplicantIncome       0.0    1508.0       0.0        2358.0       0.0   \n",
       "LoanAmount              NaN     128.0      66.0         120.0     141.0   \n",
       "Loan_Amount_Term      360.0     360.0     360.0         360.0     360.0   \n",
       "Credit_History          1.0       1.0       1.0           1.0       1.0   \n",
       "Property_Area         Urban     Rural     Urban         Urban     Urban   \n",
       "Loan_Status               Y         N         Y             Y         Y   \n",
       "\n",
       "                        5             6          7         8          9    \\\n",
       "Loan_ID            LP001011      LP001013   LP001014  LP001018   LP001020   \n",
       "Gender                 Male          Male       Male      Male       Male   \n",
       "Married                 Yes           Yes        Yes       Yes        Yes   \n",
       "Dependents                2             0         3+         2          1   \n",
       "Education          Graduate  Not Graduate   Graduate  Graduate   Graduate   \n",
       "Self_Employed           Yes            No         No        No         No   \n",
       "ApplicantIncome        5417          2333       3036      4006      12841   \n",
       "CoapplicantIncome    4196.0        1516.0     2504.0    1526.0    10968.0   \n",
       "LoanAmount            267.0          95.0      158.0     168.0      349.0   \n",
       "Loan_Amount_Term      360.0         360.0      360.0     360.0      360.0   \n",
       "Credit_History          1.0           1.0        0.0       1.0        1.0   \n",
       "Property_Area         Urban         Urban  Semiurban     Urban  Semiurban   \n",
       "Loan_Status               Y             Y          N         Y          N   \n",
       "\n",
       "                   ...        604           605        606           607  \\\n",
       "Loan_ID            ...   LP002959      LP002960   LP002961      LP002964   \n",
       "Gender             ...     Female          Male       Male          Male   \n",
       "Married            ...        Yes           Yes        Yes           Yes   \n",
       "Dependents         ...          1             0          1             2   \n",
       "Education          ...   Graduate  Not Graduate   Graduate  Not Graduate   \n",
       "Self_Employed      ...         No            No         No            No   \n",
       "ApplicantIncome    ...      12000          2400       3400          3987   \n",
       "CoapplicantIncome  ...        0.0        3800.0     2500.0        1411.0   \n",
       "LoanAmount         ...      496.0           NaN      173.0         157.0   \n",
       "Loan_Amount_Term   ...      360.0         180.0      360.0         360.0   \n",
       "Credit_History     ...        1.0           1.0        1.0           1.0   \n",
       "Property_Area      ...  Semiurban         Urban  Semiurban         Rural   \n",
       "Loan_Status        ...          Y             N          Y             Y   \n",
       "\n",
       "                        608       609       610       611       612        613  \n",
       "Loan_ID            LP002974  LP002978  LP002979  LP002983  LP002984   LP002990  \n",
       "Gender                 Male    Female      Male      Male      Male     Female  \n",
       "Married                 Yes        No       Yes       Yes       Yes         No  \n",
       "Dependents                0         0        3+         1         2          0  \n",
       "Education          Graduate  Graduate  Graduate  Graduate  Graduate   Graduate  \n",
       "Self_Employed            No        No        No        No        No        Yes  \n",
       "ApplicantIncome        3232      2900      4106      8072      7583       4583  \n",
       "CoapplicantIncome    1950.0       0.0       0.0     240.0       0.0        0.0  \n",
       "LoanAmount            108.0      71.0      40.0     253.0     187.0      133.0  \n",
       "Loan_Amount_Term      360.0     360.0     180.0     360.0     360.0      360.0  \n",
       "Credit_History          1.0       1.0       1.0       1.0       1.0        0.0  \n",
       "Property_Area         Rural     Rural     Rural     Urban     Urban  Semiurban  \n",
       "Loan_Status               Y         Y         Y         Y         Y          N  \n",
       "\n",
       "[13 rows x 614 columns]"
      ]
     },
     "execution_count": 14,
     "metadata": {},
     "output_type": "execute_result"
    }
   ],
   "source": [
    "home_loan.T"
   ]
  },
  {
   "cell_type": "markdown",
   "id": "f6bec94c",
   "metadata": {},
   "source": [
    "**EXPLORATORY DATA ANALYSIS(EDA) AND VISUALIZATION**"
   ]
  },
  {
   "cell_type": "markdown",
   "id": "3440e82a",
   "metadata": {},
   "source": [
    "**Histogram of the numerical features**"
   ]
  },
  {
   "cell_type": "code",
   "execution_count": 15,
   "id": "dc2b79a3",
   "metadata": {},
   "outputs": [
    {
     "data": {
      "text/plain": [
       "array([[<AxesSubplot:title={'center':'ApplicantIncome'}>,\n",
       "        <AxesSubplot:title={'center':'CoapplicantIncome'}>],\n",
       "       [<AxesSubplot:title={'center':'LoanAmount'}>,\n",
       "        <AxesSubplot:title={'center':'Loan_Amount_Term'}>],\n",
       "       [<AxesSubplot:title={'center':'Credit_History'}>, <AxesSubplot:>]],\n",
       "      dtype=object)"
      ]
     },
     "execution_count": 15,
     "metadata": {},
     "output_type": "execute_result"
    },
    {
     "data": {
      "image/png": "[encoded data removed]",
      "text/plain": [
       "<Figure size 1080x720 with 6 Axes>"
      ]
     },
     "metadata": {
      "needs_background": "light"
     },
     "output_type": "display_data"
    }
   ],
   "source": [
    "home_loan.hist(figsize=(15,10))"
   ]
  },
  {
   "cell_type": "markdown",
   "id": "19e52d02",
   "metadata": {},
   "source": [
    "**1. UNIVARIATE ANALYSIS**"
   ]
  },
  {
   "cell_type": "markdown",
   "id": "dd2514d8",
   "metadata": {},
   "source": [
    "  **CREDIT HISTORY**"
   ]
  },
  {
   "cell_type": "code",
   "execution_count": 16,
   "id": "d7c6a29a",
   "metadata": {},
   "outputs": [
    {
     "data": {
      "text/plain": [
       "564"
      ]
     },
     "execution_count": 16,
     "metadata": {},
     "output_type": "execute_result"
    }
   ],
   "source": [
    "home_loan[\"Credit_History\"].count()"
   ]
  },
  {
   "cell_type": "code",
   "execution_count": 17,
   "id": "722a1349",
   "metadata": {},
   "outputs": [
    {
     "data": {
      "text/plain": [
       "1.0    475\n",
       "0.0     89\n",
       "Name: Credit_History, dtype: int64"
      ]
     },
     "execution_count": 17,
     "metadata": {},
     "output_type": "execute_result"
    }
   ],
   "source": [
    "home_loan[\"Credit_History\"].value_counts()"
   ]
  },
  {
   "cell_type": "markdown",
   "id": "cb616ee1",
   "metadata": {},
   "source": [
    "In our dataset, 475 applicants have a good credit history whereas 89 of them do not."
   ]
  },
  {
   "cell_type": "markdown",
   "id": "30496366",
   "metadata": {},
   "source": [
    "**Normalize: Normalize can be set to True to print proportions instead of numbers.**"
   ]
  },
  {
   "cell_type": "code",
   "execution_count": 18,
   "id": "33191101",
   "metadata": {},
   "outputs": [
    {
     "data": {
      "text/plain": [
       "1.0    84.219858\n",
       "0.0    15.780142\n",
       "Name: Credit_History, dtype: float64"
      ]
     },
     "execution_count": 18,
     "metadata": {},
     "output_type": "execute_result"
    }
   ],
   "source": [
    "home_loan[\"Credit_History\"].value_counts(normalize=True)*100"
   ]
  },
  {
   "cell_type": "code",
   "execution_count": 19,
   "id": "44d0aea7",
   "metadata": {},
   "outputs": [
    {
     "data": {
      "text/plain": [
       "<AxesSubplot:title={'center':'Credit_History'}>"
      ]
     },
     "execution_count": 19,
     "metadata": {},
     "output_type": "execute_result"
    },
    {
     "data": {
      "image/png": "[encoded data removed]",
      "text/plain": [
       "<Figure size 432x288 with 1 Axes>"
      ]
     },
     "metadata": {
      "needs_background": "light"
     },
     "output_type": "display_data"
    }
   ],
   "source": [
    "home_loan[\"Credit_History\"].value_counts(normalize=True).plot.bar(title=\"Credit_History\", color= ['blue','pink'])"
   ]
  },
  {
   "cell_type": "markdown",
   "id": "5c12b31a",
   "metadata": {},
   "source": [
    "**TARGET VARIABLE: LOAN_STATUS**"
   ]
  },
  {
   "cell_type": "code",
   "execution_count": 20,
   "id": "b252e7ea",
   "metadata": {},
   "outputs": [
    {
     "data": {
      "text/plain": [
       "614"
      ]
     },
     "execution_count": 20,
     "metadata": {},
     "output_type": "execute_result"
    }
   ],
   "source": [
    "home_loan[\"Loan_Status\"].count()"
   ]
  },
  {
   "cell_type": "code",
   "execution_count": 21,
   "id": "1e5b1d48",
   "metadata": {},
   "outputs": [
    {
     "data": {
      "text/plain": [
       "Y    422\n",
       "N    192\n",
       "Name: Loan_Status, dtype: int64"
      ]
     },
     "execution_count": 21,
     "metadata": {},
     "output_type": "execute_result"
    }
   ],
   "source": [
    "home_loan[\"Loan_Status\"].value_counts()"
   ]
  },
  {
   "cell_type": "markdown",
   "id": "db712a96",
   "metadata": {},
   "source": [
    "Out of 614 applications, Approved(Y) : 422 Rejected(N) : 192"
   ]
  },
  {
   "cell_type": "code",
   "execution_count": 22,
   "id": "f464bd5b",
   "metadata": {},
   "outputs": [
    {
     "data": {
      "text/plain": [
       "Y    68.729642\n",
       "N    31.270358\n",
       "Name: Loan_Status, dtype: float64"
      ]
     },
     "execution_count": 22,
     "metadata": {},
     "output_type": "execute_result"
    }
   ],
   "source": [
    "home_loan[\"Loan_Status\"].value_counts(normalize=True)*100"
   ]
  },
  {
   "cell_type": "code",
   "execution_count": 23,
   "id": "16956197",
   "metadata": {},
   "outputs": [
    {
     "data": {
      "text/plain": [
       "<AxesSubplot:title={'center':'Loan_Status'}>"
      ]
     },
     "execution_count": 23,
     "metadata": {},
     "output_type": "execute_result"
    },
    {
     "data": {
      "image/png": "[encoded data removed]",
      "text/plain": [
       "<Figure size 432x288 with 1 Axes>"
      ]
     },
     "metadata": {
      "needs_background": "light"
     },
     "output_type": "display_data"
    }
   ],
   "source": [
    "home_loan[\"Loan_Status\"].value_counts(normalize=True).plot.bar(title = \"Loan_Status\", color= ['blue','pink'])"
   ]
  },
  {
   "cell_type": "markdown",
   "id": "a942ec16",
   "metadata": {},
   "source": [
    "The loan of 422(around 69%) applicants was approved and 192(around 31%) was rejected."
   ]
  },
  {
   "cell_type": "code",
   "execution_count": 24,
   "id": "8cef56d9",
   "metadata": {},
   "outputs": [
    {
     "data": {
      "text/plain": [
       "601"
      ]
     },
     "execution_count": 24,
     "metadata": {},
     "output_type": "execute_result"
    }
   ],
   "source": [
    "home_loan[\"Gender\"].count()"
   ]
  },
  {
   "cell_type": "code",
   "execution_count": 25,
   "id": "966fbd2d",
   "metadata": {},
   "outputs": [
    {
     "data": {
      "text/plain": [
       "Male      489\n",
       "Female    112\n",
       "Name: Gender, dtype: int64"
      ]
     },
     "execution_count": 25,
     "metadata": {},
     "output_type": "execute_result"
    }
   ],
   "source": [
    "home_loan[\"Gender\"].value_counts()"
   ]
  },
  {
   "cell_type": "markdown",
   "id": "88d73968",
   "metadata": {},
   "source": [
    "Our dataset has 489(around 81%) male applicants and 112(around 19%) female applicants."
   ]
  },
  {
   "cell_type": "code",
   "execution_count": 26,
   "id": "f30b4fb3",
   "metadata": {},
   "outputs": [
    {
     "data": {
      "text/plain": [
       "Male      81.364393\n",
       "Female    18.635607\n",
       "Name: Gender, dtype: float64"
      ]
     },
     "execution_count": 26,
     "metadata": {},
     "output_type": "execute_result"
    }
   ],
   "source": [
    "home_loan[\"Gender\"].value_counts(normalize=True)*100"
   ]
  },
  {
   "cell_type": "code",
   "execution_count": 27,
   "id": "f8b566f5",
   "metadata": {},
   "outputs": [
    {
     "data": {
      "text/plain": [
       "<AxesSubplot:title={'center':'Gender'}>"
      ]
     },
     "execution_count": 27,
     "metadata": {},
     "output_type": "execute_result"
    },
    {
     "data": {
      "image/png": "[encoded data removed]",
      "text/plain": [
       "<Figure size 432x288 with 1 Axes>"
      ]
     },
     "metadata": {
      "needs_background": "light"
     },
     "output_type": "display_data"
    }
   ],
   "source": [
    "home_loan[\"Gender\"].value_counts(normalize=True).plot.bar(title=\"Gender\", color = ['blue', 'pink'])"
   ]
  },
  {
   "cell_type": "markdown",
   "id": "d83a0f8f",
   "metadata": {},
   "source": [
    "Our dataset has 398(around 65%) married applicants and 213(around 35%) unmarried applicants."
   ]
  },
  {
   "cell_type": "code",
   "execution_count": 28,
   "id": "342b9118",
   "metadata": {},
   "outputs": [
    {
     "data": {
      "text/plain": [
       "Yes    398\n",
       "No     213\n",
       "Name: Married, dtype: int64"
      ]
     },
     "execution_count": 28,
     "metadata": {},
     "output_type": "execute_result"
    }
   ],
   "source": [
    "home_loan[\"Married\"].value_counts()"
   ]
  },
  {
   "cell_type": "code",
   "execution_count": 29,
   "id": "a1294823",
   "metadata": {},
   "outputs": [
    {
     "data": {
      "text/plain": [
       "Yes    65.139116\n",
       "No     34.860884\n",
       "Name: Married, dtype: float64"
      ]
     },
     "execution_count": 29,
     "metadata": {},
     "output_type": "execute_result"
    }
   ],
   "source": [
    "home_loan[\"Married\"].value_counts(normalize=True)*100"
   ]
  },
  {
   "cell_type": "code",
   "execution_count": 30,
   "id": "004a571f",
   "metadata": {},
   "outputs": [
    {
     "data": {
      "text/plain": [
       "<AxesSubplot:title={'center':'Married'}>"
      ]
     },
     "execution_count": 30,
     "metadata": {},
     "output_type": "execute_result"
    },
    {
     "data": {
      "image/png": "[encoded data removed]",
      "text/plain": [
       "<Figure size 432x288 with 1 Axes>"
      ]
     },
     "metadata": {
      "needs_background": "light"
     },
     "output_type": "display_data"
    }
   ],
   "source": [
    "home_loan[\"Married\"].value_counts(normalize=True).plot.bar(title=\"Married\", color = ['blue', 'pink'])"
   ]
  },
  {
   "cell_type": "code",
   "execution_count": 31,
   "id": "656f243c",
   "metadata": {},
   "outputs": [
    {
     "data": {
      "text/plain": [
       "599"
      ]
     },
     "execution_count": 31,
     "metadata": {},
     "output_type": "execute_result"
    }
   ],
   "source": [
    "home_loan[\"Dependents\"].count()"
   ]
  },
  {
   "cell_type": "code",
   "execution_count": 32,
   "id": "a759944e",
   "metadata": {},
   "outputs": [
    {
     "data": {
      "text/plain": [
       "0     345\n",
       "1     102\n",
       "2     101\n",
       "3+     51\n",
       "Name: Dependents, dtype: int64"
      ]
     },
     "execution_count": 32,
     "metadata": {},
     "output_type": "execute_result"
    }
   ],
   "source": [
    "home_loan[\"Dependents\"].value_counts()"
   ]
  },
  {
   "cell_type": "code",
   "execution_count": 33,
   "id": "3c8c4f33",
   "metadata": {},
   "outputs": [
    {
     "data": {
      "text/plain": [
       "0     57.595993\n",
       "1     17.028381\n",
       "2     16.861436\n",
       "3+     8.514190\n",
       "Name: Dependents, dtype: float64"
      ]
     },
     "execution_count": 33,
     "metadata": {},
     "output_type": "execute_result"
    }
   ],
   "source": [
    "home_loan[\"Dependents\"].value_counts(normalize=True)*100"
   ]
  },
  {
   "cell_type": "code",
   "execution_count": 34,
   "id": "f2170d1f",
   "metadata": {},
   "outputs": [
    {
     "data": {
      "text/plain": [
       "<AxesSubplot:title={'center':'Dependents'}>"
      ]
     },
     "execution_count": 34,
     "metadata": {},
     "output_type": "execute_result"
    },
    {
     "data": {
      "image/png": "[encoded data removed]",
      "text/plain": [
       "<Figure size 432x288 with 1 Axes>"
      ]
     },
     "metadata": {
      "needs_background": "light"
     },
     "output_type": "display_data"
    }
   ],
   "source": [
    "home_loan[\"Dependents\"].value_counts(normalize=True).plot.bar(title='Dependents', color=['blue','pink','purple','green'])"
   ]
  },
  {
   "cell_type": "markdown",
   "id": "e70e5a0d",
   "metadata": {},
   "source": [
    "57% of our applicants have no dependents, 17% have only 1 dependent, 16% have 2 dependents and 8% have more than 3 dependents."
   ]
  },
  {
   "cell_type": "code",
   "execution_count": 35,
   "id": "426b3946",
   "metadata": {},
   "outputs": [
    {
     "data": {
      "text/plain": [
       "614"
      ]
     },
     "execution_count": 35,
     "metadata": {},
     "output_type": "execute_result"
    }
   ],
   "source": [
    "home_loan[\"Education\"].count()"
   ]
  },
  {
   "cell_type": "code",
   "execution_count": 36,
   "id": "5b7e1857",
   "metadata": {},
   "outputs": [
    {
     "data": {
      "text/plain": [
       "Graduate        480\n",
       "Not Graduate    134\n",
       "Name: Education, dtype: int64"
      ]
     },
     "execution_count": 36,
     "metadata": {},
     "output_type": "execute_result"
    }
   ],
   "source": [
    "home_loan[\"Education\"].value_counts()"
   ]
  },
  {
   "cell_type": "code",
   "execution_count": 37,
   "id": "23b630a9",
   "metadata": {},
   "outputs": [
    {
     "data": {
      "text/plain": [
       "Graduate        78.175896\n",
       "Not Graduate    21.824104\n",
       "Name: Education, dtype: float64"
      ]
     },
     "execution_count": 37,
     "metadata": {},
     "output_type": "execute_result"
    }
   ],
   "source": [
    "home_loan[\"Education\"].value_counts(normalize=True)*100"
   ]
  },
  {
   "cell_type": "code",
   "execution_count": 38,
   "id": "fc0f4a1e",
   "metadata": {},
   "outputs": [
    {
     "data": {
      "text/plain": [
       "<AxesSubplot:title={'center':'Education'}>"
      ]
     },
     "execution_count": 38,
     "metadata": {},
     "output_type": "execute_result"
    },
    {
     "data": {
      "image/png": "[encoded data removed]",
      "text/plain": [
       "<Figure size 432x288 with 1 Axes>"
      ]
     },
     "metadata": {
      "needs_background": "light"
     },
     "output_type": "display_data"
    }
   ],
   "source": [
    "home_loan[\"Education\"].value_counts(normalize=True).plot.bar(title=\"Education\", color = ['blue', 'orange'])"
   ]
  },
  {
   "cell_type": "markdown",
   "id": "50175b55",
   "metadata": {},
   "source": [
    "Here we observed that majority(around 78%) of our applicants are 'Graduates' and only around 22% are 'Not Graduates'."
   ]
  },
  {
   "cell_type": "code",
   "execution_count": 39,
   "id": "377af6b0",
   "metadata": {},
   "outputs": [
    {
     "data": {
      "text/plain": [
       "614"
      ]
     },
     "execution_count": 39,
     "metadata": {},
     "output_type": "execute_result"
    }
   ],
   "source": [
    "home_loan[\"Property_Area\"].count()"
   ]
  },
  {
   "cell_type": "code",
   "execution_count": 40,
   "id": "b6d22876",
   "metadata": {},
   "outputs": [
    {
     "data": {
      "text/plain": [
       "Semiurban    233\n",
       "Urban        202\n",
       "Rural        179\n",
       "Name: Property_Area, dtype: int64"
      ]
     },
     "execution_count": 40,
     "metadata": {},
     "output_type": "execute_result"
    }
   ],
   "source": [
    "home_loan[\"Property_Area\"].value_counts()"
   ]
  },
  {
   "cell_type": "code",
   "execution_count": 41,
   "id": "7e377764",
   "metadata": {},
   "outputs": [
    {
     "data": {
      "text/plain": [
       "Semiurban    37.947883\n",
       "Urban        32.899023\n",
       "Rural        29.153094\n",
       "Name: Property_Area, dtype: float64"
      ]
     },
     "execution_count": 41,
     "metadata": {},
     "output_type": "execute_result"
    }
   ],
   "source": [
    "home_loan[\"Property_Area\"].value_counts(normalize=True)*100"
   ]
  },
  {
   "cell_type": "code",
   "execution_count": 42,
   "id": "7009c485",
   "metadata": {},
   "outputs": [
    {
     "data": {
      "text/plain": [
       "<AxesSubplot:title={'center':'Property_Area'}>"
      ]
     },
     "execution_count": 42,
     "metadata": {},
     "output_type": "execute_result"
    },
    {
     "data": {
      "image/png": "[encoded data removed]",
      "text/plain": [
       "<Figure size 432x288 with 1 Axes>"
      ]
     },
     "metadata": {
      "needs_background": "light"
     },
     "output_type": "display_data"
    }
   ],
   "source": [
    "home_loan[\"Property_Area\"].value_counts(normalize=True).plot.bar(title=\"Property_Area\", color = ['blue', 'orange','green'])"
   ]
  },
  {
   "cell_type": "markdown",
   "id": "06ba304a",
   "metadata": {},
   "source": [
    "Out of total 614 properties, around 38%(233) are Semiurban, 33%(202) are urban and around 29%(179) are Rural."
   ]
  },
  {
   "cell_type": "code",
   "execution_count": 43,
   "id": "1907d6ce",
   "metadata": {},
   "outputs": [
    {
     "data": {
      "text/plain": [
       "582"
      ]
     },
     "execution_count": 43,
     "metadata": {},
     "output_type": "execute_result"
    }
   ],
   "source": [
    "home_loan[\"Self_Employed\"].count()"
   ]
  },
  {
   "cell_type": "code",
   "execution_count": 44,
   "id": "c5c59e60",
   "metadata": {},
   "outputs": [
    {
     "data": {
      "text/plain": [
       "No     500\n",
       "Yes     82\n",
       "Name: Self_Employed, dtype: int64"
      ]
     },
     "execution_count": 44,
     "metadata": {},
     "output_type": "execute_result"
    }
   ],
   "source": [
    "home_loan[\"Self_Employed\"].value_counts()"
   ]
  },
  {
   "cell_type": "code",
   "execution_count": 45,
   "id": "3df16a5a",
   "metadata": {},
   "outputs": [
    {
     "data": {
      "text/plain": [
       "No     85.910653\n",
       "Yes    14.089347\n",
       "Name: Self_Employed, dtype: float64"
      ]
     },
     "execution_count": 45,
     "metadata": {},
     "output_type": "execute_result"
    }
   ],
   "source": [
    "home_loan[\"Self_Employed\"].value_counts(normalize=True)*100"
   ]
  },
  {
   "cell_type": "code",
   "execution_count": 46,
   "id": "6e747b42",
   "metadata": {},
   "outputs": [
    {
     "data": {
      "text/plain": [
       "<AxesSubplot:title={'center':'Self_Employed'}>"
      ]
     },
     "execution_count": 46,
     "metadata": {},
     "output_type": "execute_result"
    },
    {
     "data": {
      "image/png": "[encoded data removed]",
      "text/plain": [
       "<Figure size 432x288 with 1 Axes>"
      ]
     },
     "metadata": {
      "needs_background": "light"
     },
     "output_type": "display_data"
    }
   ],
   "source": [
    "home_loan[\"Self_Employed\"].value_counts(normalize=True).plot.bar(title = \"Self_Employed\", color= ['blue', 'orange'])"
   ]
  },
  {
   "cell_type": "markdown",
   "id": "737acce2",
   "metadata": {},
   "source": [
    "Out of 582, only 82 (14%) are Self-Employed and the rest 500(86%) are Not Self-Employed."
   ]
  },
  {
   "cell_type": "code",
   "execution_count": 47,
   "id": "0157e88e",
   "metadata": {},
   "outputs": [
    {
     "data": {
      "text/plain": [
       "<seaborn.axisgrid.FacetGrid at 0x1de2a267190>"
      ]
     },
     "execution_count": 47,
     "metadata": {},
     "output_type": "execute_result"
    },
    {
     "data": {
      "image/png": "[encoded data removed]",
      "text/plain": [
       "<Figure size 360x360 with 1 Axes>"
      ]
     },
     "metadata": {
      "needs_background": "light"
     },
     "output_type": "display_data"
    }
   ],
   "source": [
    "sns.displot(home_loan.ApplicantIncome)"
   ]
  },
  {
   "cell_type": "markdown",
   "id": "a8c9f9bc",
   "metadata": {},
   "source": [
    "**CHECKING OUTLIERS**"
   ]
  },
  {
   "cell_type": "code",
   "execution_count": 48,
   "id": "40afcc84",
   "metadata": {},
   "outputs": [
    {
     "data": {
      "text/plain": [
       "<AxesSubplot:>"
      ]
     },
     "execution_count": 48,
     "metadata": {},
     "output_type": "execute_result"
    },
    {
     "data": {
      "image/png": "[encoded data removed]",
      "text/plain": [
       "<Figure size 504x432 with 1 Axes>"
      ]
     },
     "metadata": {
      "needs_background": "light"
     },
     "output_type": "display_data"
    }
   ],
   "source": [
    "home_loan[\"ApplicantIncome\"].plot.box(figsize=(7,6))"
   ]
  },
  {
   "cell_type": "markdown",
   "id": "d4dc8d5e",
   "metadata": {},
   "source": [
    "The boxplot shows presence of outliers in the 'ApplicantIncome' variable. This can be attributed to the income disparity in the society."
   ]
  },
  {
   "cell_type": "code",
   "execution_count": 49,
   "id": "28353e4e",
   "metadata": {},
   "outputs": [
    {
     "data": {
      "text/plain": [
       "<seaborn.axisgrid.FacetGrid at 0x1de2a933790>"
      ]
     },
     "execution_count": 49,
     "metadata": {},
     "output_type": "execute_result"
    },
    {
     "data": {
      "image/png": "[encoded data removed]",
      "text/plain": [
       "<Figure size 360x360 with 1 Axes>"
      ]
     },
     "metadata": {
      "needs_background": "light"
     },
     "output_type": "display_data"
    }
   ],
   "source": [
    "sns.displot(home_loan.CoapplicantIncome)"
   ]
  },
  {
   "cell_type": "code",
   "execution_count": 50,
   "id": "9f77f66c",
   "metadata": {},
   "outputs": [
    {
     "data": {
      "text/plain": [
       "<seaborn.axisgrid.FacetGrid at 0x1de2ba06b80>"
      ]
     },
     "execution_count": 50,
     "metadata": {},
     "output_type": "execute_result"
    },
    {
     "data": {
      "image/png": "[encoded data removed]",
      "text/plain": [
       "<Figure size 360x360 with 1 Axes>"
      ]
     },
     "metadata": {
      "needs_background": "light"
     },
     "output_type": "display_data"
    }
   ],
   "source": [
    "sns.displot(home_loan.Loan_Amount_Term)"
   ]
  },
  {
   "cell_type": "code",
   "execution_count": 51,
   "id": "dd05f1b0",
   "metadata": {},
   "outputs": [
    {
     "data": {
      "text/plain": [
       "<AxesSubplot:>"
      ]
     },
     "execution_count": 51,
     "metadata": {},
     "output_type": "execute_result"
    },
    {
     "data": {
      "image/png": "[encoded data removed]",
      "text/plain": [
       "<Figure size 720x720 with 2 Axes>"
      ]
     },
     "metadata": {
      "needs_background": "light"
     },
     "output_type": "display_data"
    }
   ],
   "source": [
    "corr = home_loan.corr()\n",
    "plt.figure(figsize=(10,10))\n",
    "sns.heatmap(corr, annot = True, cmap= \"BuPu\")"
   ]
  },
  {
   "cell_type": "code",
   "execution_count": 52,
   "id": "b4352bbb",
   "metadata": {},
   "outputs": [],
   "source": [
    "home_loan['CoapplicantIncome']=home_loan['CoapplicantIncome'].astype(int)"
   ]
  },
  {
   "cell_type": "code",
   "execution_count": 53,
   "id": "859bb7d8",
   "metadata": {},
   "outputs": [
    {
     "data": {
      "text/plain": [
       "Loan_ID               object\n",
       "Gender                object\n",
       "Married               object\n",
       "Dependents            object\n",
       "Education             object\n",
       "Self_Employed         object\n",
       "ApplicantIncome        int64\n",
       "CoapplicantIncome      int32\n",
       "LoanAmount           float64\n",
       "Loan_Amount_Term     float64\n",
       "Credit_History       float64\n",
       "Property_Area         object\n",
       "Loan_Status           object\n",
       "dtype: object"
      ]
     },
     "execution_count": 53,
     "metadata": {},
     "output_type": "execute_result"
    }
   ],
   "source": [
    "home_loan.dtypes"
   ]
  },
  {
   "cell_type": "markdown",
   "id": "9d14073b",
   "metadata": {},
   "source": [
    "**BIVARIATE ANALYSIS**"
   ]
  },
  {
   "cell_type": "markdown",
   "id": "b84e53a2",
   "metadata": {},
   "source": [
    "Relationship analysis between the target feature/variable (Loan_Status) and the rest of the predictor variables/features."
   ]
  },
  {
   "cell_type": "markdown",
   "id": "ea2b3ceb",
   "metadata": {},
   "source": [
    "**Relation between \"Loan_Status\" and \"Gender\"**"
   ]
  },
  {
   "cell_type": "code",
   "execution_count": 54,
   "id": "ed613c93",
   "metadata": {},
   "outputs": [
    {
     "name": "stdout",
     "output_type": "stream",
     "text": [
      "Loan_Status    N    Y\n",
      "Gender               \n",
      "Female        37   75\n",
      "Male         150  339\n"
     ]
    },
    {
     "data": {
      "image/png": "[encoded data removed]",
      "text/plain": [
       "<Figure size 288x288 with 1 Axes>"
      ]
     },
     "metadata": {
      "needs_background": "light"
     },
     "output_type": "display_data"
    }
   ],
   "source": [
    "print(pd.crosstab(home_loan[\"Gender\"],home_loan[\"Loan_Status\"]))\n",
    "Gender = pd.crosstab(home_loan[\"Gender\"],home_loan[\"Loan_Status\"])\n",
    "Gender.div(Gender.sum(1).astype(float),axis=0).plot(kind=\"bar\",stacked=True,figsize=(4,4))\n",
    "plt.xlabel(\"Gender\")\n",
    "plt.ylabel(\"Percentage\")\n",
    "plt.show()"
   ]
  },
  {
   "cell_type": "markdown",
   "id": "3fcc11d0",
   "metadata": {},
   "source": [
    "Number of Female whose Loan was approved : 75\n",
    "\n",
    "Number of Male whose Loan was approved : 339\n",
    "\n",
    "Number of Female whose Loan was not approved : 37\n",
    "\n",
    "Number of Male whose Loan was not approved : 150\n",
    "\n",
    "Proportion of Male applicants is higher for the approved loans."
   ]
  },
  {
   "cell_type": "code",
   "execution_count": 55,
   "id": "9ada28e2",
   "metadata": {},
   "outputs": [
    {
     "data": {
      "text/plain": [
       "<AxesSubplot:xlabel='count', ylabel='Gender'>"
      ]
     },
     "execution_count": 55,
     "metadata": {},
     "output_type": "execute_result"
    },
    {
     "data": {
      "image/png": "[encoded data removed]",
      "text/plain": [
       "<Figure size 432x288 with 1 Axes>"
      ]
     },
     "metadata": {
      "needs_background": "light"
     },
     "output_type": "display_data"
    }
   ],
   "source": [
    "sns.countplot(y='Gender', hue='Loan_Status', data= home_loan)"
   ]
  },
  {
   "cell_type": "markdown",
   "id": "1a051f8e",
   "metadata": {},
   "source": [
    "**Relation between \"Loan_Status\" and \"Married\"**"
   ]
  },
  {
   "cell_type": "code",
   "execution_count": 56,
   "id": "8a854919",
   "metadata": {},
   "outputs": [
    {
     "name": "stdout",
     "output_type": "stream",
     "text": [
      "Loan_Status    N    Y\n",
      "Married              \n",
      "No            79  134\n",
      "Yes          113  285\n"
     ]
    },
    {
     "data": {
      "image/png": "[encoded data removed]",
      "text/plain": [
       "<Figure size 288x288 with 1 Axes>"
      ]
     },
     "metadata": {
      "needs_background": "light"
     },
     "output_type": "display_data"
    }
   ],
   "source": [
    "print(pd.crosstab(home_loan[\"Married\"],home_loan[\"Loan_Status\"]))\n",
    "Gender = pd.crosstab(home_loan[\"Married\"],home_loan[\"Loan_Status\"])\n",
    "Gender.div(Gender.sum(1).astype(float),axis=0).plot(kind=\"bar\",stacked=True,figsize=(4,4))\n",
    "plt.xlabel(\"Married\")\n",
    "plt.ylabel(\"Percentage\")\n",
    "plt.show()"
   ]
  },
  {
   "cell_type": "markdown",
   "id": "b4318afa",
   "metadata": {},
   "source": [
    "Result:\n",
    "Number of married people whose Loan was approved : 285\n",
    "\n",
    "Number of married people whose Loan was not approved : 113\n",
    "\n",
    "Number of unmarried people whose Loan was approved : 134\n",
    "\n",
    "Number of unmarried people whose Loan was not approved : 79\n",
    "\n",
    "Hence, Proportion of Married applicants is higher for the approved loans."
   ]
  },
  {
   "cell_type": "code",
   "execution_count": 57,
   "id": "6559c133",
   "metadata": {},
   "outputs": [
    {
     "data": {
      "text/plain": [
       "<AxesSubplot:xlabel='count', ylabel='Married'>"
      ]
     },
     "execution_count": 57,
     "metadata": {},
     "output_type": "execute_result"
    },
    {
     "data": {
      "image/png": "[encoded data removed]",
      "text/plain": [
       "<Figure size 432x288 with 1 Axes>"
      ]
     },
     "metadata": {
      "needs_background": "light"
     },
     "output_type": "display_data"
    }
   ],
   "source": [
    "sns.countplot(y='Married', hue='Loan_Status', data= home_loan)"
   ]
  },
  {
   "cell_type": "markdown",
   "id": "47e40203",
   "metadata": {},
   "source": [
    "**Relation between \"Loan_Status\" and \"Dependents\"**"
   ]
  },
  {
   "cell_type": "code",
   "execution_count": 58,
   "id": "75b17bd6",
   "metadata": {},
   "outputs": [
    {
     "name": "stdout",
     "output_type": "stream",
     "text": [
      "Loan_Status    N    Y\n",
      "Dependents           \n",
      "0            107  238\n",
      "1             36   66\n",
      "2             25   76\n",
      "3+            18   33\n"
     ]
    },
    {
     "data": {
      "image/png": "[encoded data removed]",
      "text/plain": [
       "<Figure size 288x288 with 1 Axes>"
      ]
     },
     "metadata": {
      "needs_background": "light"
     },
     "output_type": "display_data"
    }
   ],
   "source": [
    "print(pd.crosstab(home_loan[\"Dependents\"],home_loan[\"Loan_Status\"]))\n",
    "Gender = pd.crosstab(home_loan[\"Dependents\"],home_loan[\"Loan_Status\"])\n",
    "Gender.div(Gender.sum(1).astype(float),axis=0).plot(kind=\"bar\",stacked=True,figsize=(4,4))\n",
    "plt.xlabel(\"Dependents\")\n",
    "plt.ylabel(\"Percentage\")\n",
    "plt.show()"
   ]
  },
  {
   "cell_type": "markdown",
   "id": "3fb022c7",
   "metadata": {},
   "source": [
    "Result:\n",
    "Loan applicants with 0 dependent whose Loan was Approved : 238\n",
    "Loan applicants with 0 dependent whose Loan was NOT approved: 107\n",
    "\n",
    "Loan applicants with 1 dependent whose Loan was approved: 66\n",
    "Loan applicants with 1 dependents whose Loan was NOT approved: 36\n",
    "\n",
    "Loan applicants with 2 dependents whose Loan was approved: 76\n",
    "Loan applicants with 2 dependents whose Loan was NOT approved:25\n",
    "\n",
    "Loan applicants with 3+ dependents whose Loan was approved:33\n",
    "Loan applicants with 3+ dependents whose Loan was NOT approved:18"
   ]
  },
  {
   "cell_type": "code",
   "execution_count": 59,
   "id": "f6f3184a",
   "metadata": {},
   "outputs": [
    {
     "data": {
      "text/plain": [
       "<AxesSubplot:xlabel='count', ylabel='Dependents'>"
      ]
     },
     "execution_count": 59,
     "metadata": {},
     "output_type": "execute_result"
    },
    {
     "data": {
      "image/png": "[encoded data removed]",
      "text/plain": [
       "<Figure size 432x288 with 1 Axes>"
      ]
     },
     "metadata": {
      "needs_background": "light"
     },
     "output_type": "display_data"
    }
   ],
   "source": [
    "sns.countplot(y='Dependents', hue='Loan_Status', data= home_loan)"
   ]
  },
  {
   "cell_type": "markdown",
   "id": "a20d9d55",
   "metadata": {},
   "source": [
    "**Relation between \"Loan_Status\" and \"Education\"**"
   ]
  },
  {
   "cell_type": "code",
   "execution_count": 60,
   "id": "2cef972c",
   "metadata": {},
   "outputs": [
    {
     "name": "stdout",
     "output_type": "stream",
     "text": [
      "Loan_Status     N    Y\n",
      "Education             \n",
      "Graduate      140  340\n",
      "Not Graduate   52   82\n"
     ]
    },
    {
     "data": {
      "image/png": "[encoded data removed]",
      "text/plain": [
       "<Figure size 288x288 with 1 Axes>"
      ]
     },
     "metadata": {
      "needs_background": "light"
     },
     "output_type": "display_data"
    }
   ],
   "source": [
    "print(pd.crosstab(home_loan[\"Education\"],home_loan[\"Loan_Status\"]))\n",
    "Gender = pd.crosstab(home_loan[\"Education\"],home_loan[\"Loan_Status\"])\n",
    "Gender.div(Gender.sum(1).astype(float),axis=0).plot(kind=\"bar\",stacked=True,figsize=(4,4))\n",
    "plt.xlabel(\"Education\")\n",
    "plt.ylabel(\"Percentage\")\n",
    "plt.show()"
   ]
  },
  {
   "cell_type": "markdown",
   "id": "e97dd589",
   "metadata": {},
   "source": [
    "Result:\n",
    "Graduate applicants whose Loan was approved : 340\n",
    "\n",
    "Graduate applicants whose Loan was NOT approved : 140\n",
    "\n",
    "Not Graduate applicants whose Loan was approved : 82\n",
    "\n",
    "Not Graduate applicants whose Loan was not approved : 52\n",
    "\n",
    "Hence, Proportion of Graduate applicants is higher for the approved loans."
   ]
  },
  {
   "cell_type": "code",
   "execution_count": 61,
   "id": "bad697d8",
   "metadata": {},
   "outputs": [
    {
     "data": {
      "text/plain": [
       "<AxesSubplot:xlabel='count', ylabel='Education'>"
      ]
     },
     "execution_count": 61,
     "metadata": {},
     "output_type": "execute_result"
    },
    {
     "data": {
      "image/png": "[encoded data removed]",
      "text/plain": [
       "<Figure size 432x288 with 1 Axes>"
      ]
     },
     "metadata": {
      "needs_background": "light"
     },
     "output_type": "display_data"
    }
   ],
   "source": [
    "sns.countplot(y='Education', hue='Loan_Status', data= home_loan)"
   ]
  },
  {
   "cell_type": "markdown",
   "id": "1bb6a1c2",
   "metadata": {},
   "source": [
    "**Relation between \"Loan_Status\" and \"Self_Employed\"**"
   ]
  },
  {
   "cell_type": "code",
   "execution_count": 62,
   "id": "69619461",
   "metadata": {},
   "outputs": [
    {
     "name": "stdout",
     "output_type": "stream",
     "text": [
      "Loan_Status      N    Y\n",
      "Self_Employed          \n",
      "No             157  343\n",
      "Yes             26   56\n"
     ]
    },
    {
     "data": {
      "image/png": "[encoded data removed]",
      "text/plain": [
       "<Figure size 288x288 with 1 Axes>"
      ]
     },
     "metadata": {
      "needs_background": "light"
     },
     "output_type": "display_data"
    }
   ],
   "source": [
    "print(pd.crosstab(home_loan[\"Self_Employed\"],home_loan[\"Loan_Status\"]))\n",
    "Gender = pd.crosstab(home_loan[\"Self_Employed\"],home_loan[\"Loan_Status\"])\n",
    "Gender.div(Gender.sum(1).astype(float),axis=0).plot(kind=\"bar\",stacked=True,figsize=(4,4))\n",
    "plt.xlabel(\"Self_Employed\")\n",
    "plt.ylabel(\"Percentage\")\n",
    "plt.show()"
   ]
  },
  {
   "cell_type": "markdown",
   "id": "dcf57d38",
   "metadata": {},
   "source": [
    "Result:\n",
    "Self_Employed applicants whose Loan was approved : 56\n",
    "\n",
    "Self_Employed applicants whose Loan was NOT approved : 26\n",
    "\n",
    "Applicants who are not Self_Employed with Loan approved : 343\n",
    "\n",
    "Applicants who are not Self_Employed whose Loan was not approved : 157\n",
    "\n",
    "Nothing significant was concluded from the Self_Employed vs Loan_Status plot."
   ]
  },
  {
   "cell_type": "code",
   "execution_count": 63,
   "id": "2b53bcd3",
   "metadata": {},
   "outputs": [
    {
     "data": {
      "text/plain": [
       "<AxesSubplot:xlabel='count', ylabel='Self_Employed'>"
      ]
     },
     "execution_count": 63,
     "metadata": {},
     "output_type": "execute_result"
    },
    {
     "data": {
      "image/png": "[encoded data removed]",
      "text/plain": [
       "<Figure size 432x288 with 1 Axes>"
      ]
     },
     "metadata": {
      "needs_background": "light"
     },
     "output_type": "display_data"
    }
   ],
   "source": [
    "sns.countplot(y='Self_Employed', hue='Loan_Status', data= home_loan)"
   ]
  },
  {
   "cell_type": "markdown",
   "id": "a512baaf",
   "metadata": {},
   "source": [
    "**Relation between \"Loan_Status\" and \"Credit_History\"**"
   ]
  },
  {
   "cell_type": "code",
   "execution_count": 64,
   "id": "e3d117c4",
   "metadata": {},
   "outputs": [
    {
     "name": "stdout",
     "output_type": "stream",
     "text": [
      "Loan_Status      N    Y\n",
      "Credit_History         \n",
      "0.0             82    7\n",
      "1.0             97  378\n"
     ]
    },
    {
     "data": {
      "image/png": "[encoded data removed]",
      "text/plain": [
       "<Figure size 288x288 with 1 Axes>"
      ]
     },
     "metadata": {
      "needs_background": "light"
     },
     "output_type": "display_data"
    }
   ],
   "source": [
    "print(pd.crosstab(home_loan[\"Credit_History\"],home_loan[\"Loan_Status\"]))\n",
    "Gender = pd.crosstab(home_loan[\"Credit_History\"],home_loan[\"Loan_Status\"])\n",
    "Gender.div(Gender.sum(1).astype(float),axis=0).plot(kind=\"bar\",stacked=True,figsize=(4,4))\n",
    "plt.xlabel(\"Credit_History\")\n",
    "plt.ylabel(\"Percentage\")\n",
    "plt.show()"
   ]
  },
  {
   "cell_type": "markdown",
   "id": "5e131c71",
   "metadata": {},
   "source": [
    "Result:\n",
    "Applicants with good credit history of 1 whose loan was approved : 378\n",
    "\n",
    "Applicants with good credit history of 1 whose loan was not approved : 97\n",
    "\n",
    "Applicants with credit history of 0 whose loan was approved : 7\n",
    "\n",
    "Applicants with credit history of 0 whose loan was not approved : 82\n",
    "\n",
    "It implies applicants with good credit history of 1 are more likely to get their loans approved."
   ]
  },
  {
   "cell_type": "code",
   "execution_count": 65,
   "id": "4d5efaed",
   "metadata": {},
   "outputs": [
    {
     "data": {
      "text/plain": [
       "<AxesSubplot:xlabel='count', ylabel='Credit_History'>"
      ]
     },
     "execution_count": 65,
     "metadata": {},
     "output_type": "execute_result"
    },
    {
     "data": {
      "image/png": "[encoded data removed]",
      "text/plain": [
       "<Figure size 432x288 with 1 Axes>"
      ]
     },
     "metadata": {
      "needs_background": "light"
     },
     "output_type": "display_data"
    }
   ],
   "source": [
    "sns.countplot(y='Credit_History', hue='Loan_Status', data= home_loan)"
   ]
  },
  {
   "cell_type": "markdown",
   "id": "365c7b83",
   "metadata": {},
   "source": [
    "**Relation between \"Loan_Status\" and \"Property_Area\"**"
   ]
  },
  {
   "cell_type": "code",
   "execution_count": 66,
   "id": "a0305ca8",
   "metadata": {},
   "outputs": [
    {
     "name": "stdout",
     "output_type": "stream",
     "text": [
      "Loan_Status     N    Y\n",
      "Property_Area         \n",
      "Rural          69  110\n",
      "Semiurban      54  179\n",
      "Urban          69  133\n"
     ]
    },
    {
     "data": {
      "image/png": "[encoded data removed]",
      "text/plain": [
       "<Figure size 288x288 with 1 Axes>"
      ]
     },
     "metadata": {
      "needs_background": "light"
     },
     "output_type": "display_data"
    }
   ],
   "source": [
    "print(pd.crosstab(home_loan[\"Property_Area\"],home_loan[\"Loan_Status\"]))\n",
    "Gender = pd.crosstab(home_loan[\"Property_Area\"],home_loan[\"Loan_Status\"])\n",
    "Gender.div(Gender.sum(1).astype(float),axis=0).plot(kind=\"bar\",stacked=True,figsize=(4,4))\n",
    "plt.xlabel(\"Property_Area\")\n",
    "plt.ylabel(\"Percentage\")\n",
    "plt.show()"
   ]
  },
  {
   "cell_type": "markdown",
   "id": "98279f8a",
   "metadata": {},
   "source": [
    "Result:\n",
    "Loan approved for rural area property : 110\n",
    "\n",
    "Loan not approved for rural area property  : 69\n",
    "\n",
    "Loan approved for semi urban area property : 179\n",
    "\n",
    "Loan not approved for semi urban area property : 54\n",
    "\n",
    "Loan approved for urban area property: 133\n",
    "\n",
    "Loan not approved for urban area property : 69\n",
    "\n",
    "Proportion of loans getting approved in semiurban area is higher as compared to that in rural or urban areas."
   ]
  },
  {
   "cell_type": "code",
   "execution_count": 67,
   "id": "3c9a31a6",
   "metadata": {},
   "outputs": [
    {
     "data": {
      "text/plain": [
       "<AxesSubplot:xlabel='count', ylabel='Property_Area'>"
      ]
     },
     "execution_count": 67,
     "metadata": {},
     "output_type": "execute_result"
    },
    {
     "data": {
      "image/png": "[encoded data removed]",
      "text/plain": [
       "<Figure size 432x288 with 1 Axes>"
      ]
     },
     "metadata": {
      "needs_background": "light"
     },
     "output_type": "display_data"
    }
   ],
   "source": [
    "sns.countplot(y='Property_Area', hue='Loan_Status', data= home_loan)"
   ]
  },
  {
   "cell_type": "code",
   "execution_count": 68,
   "id": "b67b83dc",
   "metadata": {},
   "outputs": [
    {
     "data": {
      "text/html": [
       "<div>\n",
       "<style scoped>\n",
       "    .dataframe tbody tr th:only-of-type {\n",
       "        vertical-align: middle;\n",
       "    }\n",
       "\n",
       "    .dataframe tbody tr th {\n",
       "        vertical-align: top;\n",
       "    }\n",
       "\n",
       "    .dataframe thead th {\n",
       "        text-align: right;\n",
       "    }\n",
       "</style>\n",
       "<table border=\"1\" class=\"dataframe\">\n",
       "  <thead>\n",
       "    <tr style=\"text-align: right;\">\n",
       "      <th></th>\n",
       "      <th>Loan_ID</th>\n",
       "      <th>Gender</th>\n",
       "      <th>Married</th>\n",
       "      <th>Dependents</th>\n",
       "      <th>Education</th>\n",
       "      <th>Self_Employed</th>\n",
       "      <th>ApplicantIncome</th>\n",
       "      <th>CoapplicantIncome</th>\n",
       "      <th>LoanAmount</th>\n",
       "      <th>Loan_Amount_Term</th>\n",
       "      <th>Credit_History</th>\n",
       "      <th>Property_Area</th>\n",
       "      <th>Loan_Status</th>\n",
       "    </tr>\n",
       "  </thead>\n",
       "  <tbody>\n",
       "    <tr>\n",
       "      <th>0</th>\n",
       "      <td>LP001002</td>\n",
       "      <td>Male</td>\n",
       "      <td>No</td>\n",
       "      <td>0</td>\n",
       "      <td>Graduate</td>\n",
       "      <td>No</td>\n",
       "      <td>5849</td>\n",
       "      <td>0</td>\n",
       "      <td>NaN</td>\n",
       "      <td>360.0</td>\n",
       "      <td>1.0</td>\n",
       "      <td>Urban</td>\n",
       "      <td>Y</td>\n",
       "    </tr>\n",
       "    <tr>\n",
       "      <th>1</th>\n",
       "      <td>LP001003</td>\n",
       "      <td>Male</td>\n",
       "      <td>Yes</td>\n",
       "      <td>1</td>\n",
       "      <td>Graduate</td>\n",
       "      <td>No</td>\n",
       "      <td>4583</td>\n",
       "      <td>1508</td>\n",
       "      <td>128.0</td>\n",
       "      <td>360.0</td>\n",
       "      <td>1.0</td>\n",
       "      <td>Rural</td>\n",
       "      <td>N</td>\n",
       "    </tr>\n",
       "    <tr>\n",
       "      <th>2</th>\n",
       "      <td>LP001005</td>\n",
       "      <td>Male</td>\n",
       "      <td>Yes</td>\n",
       "      <td>0</td>\n",
       "      <td>Graduate</td>\n",
       "      <td>Yes</td>\n",
       "      <td>3000</td>\n",
       "      <td>0</td>\n",
       "      <td>66.0</td>\n",
       "      <td>360.0</td>\n",
       "      <td>1.0</td>\n",
       "      <td>Urban</td>\n",
       "      <td>Y</td>\n",
       "    </tr>\n",
       "    <tr>\n",
       "      <th>3</th>\n",
       "      <td>LP001006</td>\n",
       "      <td>Male</td>\n",
       "      <td>Yes</td>\n",
       "      <td>0</td>\n",
       "      <td>Not Graduate</td>\n",
       "      <td>No</td>\n",
       "      <td>2583</td>\n",
       "      <td>2358</td>\n",
       "      <td>120.0</td>\n",
       "      <td>360.0</td>\n",
       "      <td>1.0</td>\n",
       "      <td>Urban</td>\n",
       "      <td>Y</td>\n",
       "    </tr>\n",
       "    <tr>\n",
       "      <th>4</th>\n",
       "      <td>LP001008</td>\n",
       "      <td>Male</td>\n",
       "      <td>No</td>\n",
       "      <td>0</td>\n",
       "      <td>Graduate</td>\n",
       "      <td>No</td>\n",
       "      <td>6000</td>\n",
       "      <td>0</td>\n",
       "      <td>141.0</td>\n",
       "      <td>360.0</td>\n",
       "      <td>1.0</td>\n",
       "      <td>Urban</td>\n",
       "      <td>Y</td>\n",
       "    </tr>\n",
       "  </tbody>\n",
       "</table>\n",
       "</div>"
      ],
      "text/plain": [
       "    Loan_ID Gender Married Dependents     Education Self_Employed  \\\n",
       "0  LP001002   Male      No          0      Graduate            No   \n",
       "1  LP001003   Male     Yes          1      Graduate            No   \n",
       "2  LP001005   Male     Yes          0      Graduate           Yes   \n",
       "3  LP001006   Male     Yes          0  Not Graduate            No   \n",
       "4  LP001008   Male      No          0      Graduate            No   \n",
       "\n",
       "   ApplicantIncome  CoapplicantIncome  LoanAmount  Loan_Amount_Term  \\\n",
       "0             5849                  0         NaN             360.0   \n",
       "1             4583               1508       128.0             360.0   \n",
       "2             3000                  0        66.0             360.0   \n",
       "3             2583               2358       120.0             360.0   \n",
       "4             6000                  0       141.0             360.0   \n",
       "\n",
       "   Credit_History Property_Area Loan_Status  \n",
       "0             1.0         Urban           Y  \n",
       "1             1.0         Rural           N  \n",
       "2             1.0         Urban           Y  \n",
       "3             1.0         Urban           Y  \n",
       "4             1.0         Urban           Y  "
      ]
     },
     "execution_count": 68,
     "metadata": {},
     "output_type": "execute_result"
    }
   ],
   "source": [
    "home_loan.head()"
   ]
  },
  {
   "cell_type": "markdown",
   "id": "07f2d9ec",
   "metadata": {},
   "source": [
    "**Relation between \"Loan_Status\" and \"Loan_Amount_Term\"**"
   ]
  },
  {
   "cell_type": "code",
   "execution_count": 69,
   "id": "e1082f83",
   "metadata": {},
   "outputs": [
    {
     "data": {
      "text/plain": [
       "<AxesSubplot:xlabel='count', ylabel='Loan_Amount_Term'>"
      ]
     },
     "execution_count": 69,
     "metadata": {},
     "output_type": "execute_result"
    },
    {
     "data": {
      "image/png": "[encoded data removed]",
      "text/plain": [
       "<Figure size 432x288 with 1 Axes>"
      ]
     },
     "metadata": {
      "needs_background": "light"
     },
     "output_type": "display_data"
    }
   ],
   "source": [
    "sns.countplot(y='Loan_Amount_Term', hue='Loan_Status', data= home_loan)"
   ]
  },
  {
   "cell_type": "markdown",
   "id": "9c07a01f",
   "metadata": {},
   "source": [
    "Result: \n",
    "Most of the loans are approved for term of 360 months(3 years)."
   ]
  },
  {
   "cell_type": "markdown",
   "id": "e59d4247",
   "metadata": {},
   "source": [
    "**Relation between \"Loan_Status\" and \"LoanAmount\"**"
   ]
  },
  {
   "cell_type": "code",
   "execution_count": 70,
   "id": "32ee5d94",
   "metadata": {},
   "outputs": [],
   "source": [
    "bins = [0,100,200,700]\n",
    "group=['Low','Average','High']\n",
    "home_loan[\"LoanAmount_bin\"]=pd.cut(home_loan[\"LoanAmount\"],bins,labels=group)"
   ]
  },
  {
   "cell_type": "code",
   "execution_count": 71,
   "id": "e890eed2",
   "metadata": {},
   "outputs": [
    {
     "name": "stdout",
     "output_type": "stream",
     "text": [
      "Loan_Status       N    Y\n",
      "LoanAmount_bin          \n",
      "Low              47  107\n",
      "Average         103  255\n",
      "High             31   49\n"
     ]
    },
    {
     "data": {
      "image/png": "[encoded data removed]",
      "text/plain": [
       "<Figure size 288x288 with 1 Axes>"
      ]
     },
     "metadata": {
      "needs_background": "light"
     },
     "output_type": "display_data"
    }
   ],
   "source": [
    "print(pd.crosstab(home_loan[\"LoanAmount_bin\"],home_loan[\"Loan_Status\"]))\n",
    "LoanAmount=pd.crosstab(home_loan[\"LoanAmount_bin\"],home_loan[\"Loan_Status\"])\n",
    "LoanAmount.div(LoanAmount.sum(1).astype(float),axis=0).plot(kind='bar',stacked=True,figsize=(4,4))\n",
    "plt.xlabel(\"LoanAmount\")\n",
    "plt.ylabel(\"Percentage\")\n",
    "plt.show()"
   ]
  },
  {
   "cell_type": "markdown",
   "id": "f613ab5d",
   "metadata": {},
   "source": [
    "Result: \n",
    "Whose Loan Amount was low and Loan was approved : 107\n",
    "\n",
    "Whose Loan Amount was low and Loan was not approved : 47\n",
    "\n",
    "Whose Loan Amount was Average and Loan was approved : 255\n",
    "\n",
    "Whose Loan Amount was Average and Loan was not approved : 103\n",
    "\n",
    "Whose Loan Amount was High and Loan was approved : 49\n",
    "\n",
    "Whose Loan Amount was High and Loan was not approved : 31\n",
    "\n",
    "It shows that the proportion of approved loans is higher for Low and Average Loan Amount as compared to that of High Loan Amount which implies the chances of loan approval will be high when the loan amount is less."
   ]
  },
  {
   "cell_type": "markdown",
   "id": "ee0b77d8",
   "metadata": {},
   "source": [
    "**Relation between \"Loan_Status\" and \"ApplicantIncome\"**"
   ]
  },
  {
   "cell_type": "markdown",
   "id": "2b33faf4",
   "metadata": {},
   "source": [
    "Find the mean income of people for which the loan has been approved vs the mean income of people for which the loan has not been approved."
   ]
  },
  {
   "cell_type": "code",
   "execution_count": 72,
   "id": "6ca0ed10",
   "metadata": {},
   "outputs": [
    {
     "data": {
      "text/plain": [
       "<AxesSubplot:xlabel='Loan_Status'>"
      ]
     },
     "execution_count": 72,
     "metadata": {},
     "output_type": "execute_result"
    },
    {
     "data": {
      "image/png": "[encoded data removed]",
      "text/plain": [
       "<Figure size 432x288 with 1 Axes>"
      ]
     },
     "metadata": {
      "needs_background": "light"
     },
     "output_type": "display_data"
    }
   ],
   "source": [
    "home_loan.groupby(\"Loan_Status\")['ApplicantIncome'].mean().plot.bar(color= ['blue', 'pink'])"
   ]
  },
  {
   "cell_type": "markdown",
   "id": "e646e108",
   "metadata": {},
   "source": [
    "Here the y-axis represents the mean applicant income. There is not any change in the mean income. So, we have make bins for the applicant income variable based on the values in it and analyze the corresponding loan status for each bin."
   ]
  },
  {
   "cell_type": "code",
   "execution_count": 73,
   "id": "64ac9526",
   "metadata": {},
   "outputs": [],
   "source": [
    "bins=[0,2500,4000,6000,81000]\n",
    "group=['Low','Average','High','Very High']\n",
    "home_loan['Income_bins']=pd.cut(home_loan['ApplicantIncome'],bins,labels=group)"
   ]
  },
  {
   "cell_type": "code",
   "execution_count": 74,
   "id": "f2e2f484",
   "metadata": {},
   "outputs": [
    {
     "name": "stdout",
     "output_type": "stream",
     "text": [
      "Loan_Status   N    Y\n",
      "Income_bins         \n",
      "Low          34   74\n",
      "Average      67  159\n",
      "High         45   98\n",
      "Very High    46   91\n"
     ]
    },
    {
     "data": {
      "image/png": "[encoded data removed]",
      "text/plain": [
       "<Figure size 288x288 with 1 Axes>"
      ]
     },
     "metadata": {
      "needs_background": "light"
     },
     "output_type": "display_data"
    }
   ],
   "source": [
    "print(pd.crosstab(home_loan[\"Income_bins\"],home_loan[\"Loan_Status\"]))\n",
    "Income_bins = pd.crosstab(home_loan[\"Income_bins\"],home_loan[\"Loan_Status\"])\n",
    "Income_bins.div(Income_bins.sum(1).astype(float),axis=0).plot(kind=\"bar\",stacked=True,figsize=(4,4))\n",
    "plt.xlabel(\"ApplicantIncome\")\n",
    "plt.ylabel(\"Percentage\")\n",
    "plt.show()"
   ]
  },
  {
   "cell_type": "markdown",
   "id": "67b9725e",
   "metadata": {},
   "source": [
    "It shows that Applicant income does not affect the chances of loan approval which does not seem correct as usually if the applicant income is high the chances of loan approval is high because he is eligible to repay the loan. Hence, we have to look into some other features related to Applicant Income."
   ]
  },
  {
   "cell_type": "code",
   "execution_count": 75,
   "id": "f48aa950",
   "metadata": {},
   "outputs": [
    {
     "data": {
      "text/html": [
       "<div>\n",
       "<style scoped>\n",
       "    .dataframe tbody tr th:only-of-type {\n",
       "        vertical-align: middle;\n",
       "    }\n",
       "\n",
       "    .dataframe tbody tr th {\n",
       "        vertical-align: top;\n",
       "    }\n",
       "\n",
       "    .dataframe thead th {\n",
       "        text-align: right;\n",
       "    }\n",
       "</style>\n",
       "<table border=\"1\" class=\"dataframe\">\n",
       "  <thead>\n",
       "    <tr style=\"text-align: right;\">\n",
       "      <th></th>\n",
       "      <th>Loan_ID</th>\n",
       "      <th>Gender</th>\n",
       "      <th>Married</th>\n",
       "      <th>Dependents</th>\n",
       "      <th>Education</th>\n",
       "      <th>Self_Employed</th>\n",
       "      <th>ApplicantIncome</th>\n",
       "      <th>CoapplicantIncome</th>\n",
       "      <th>LoanAmount</th>\n",
       "      <th>Loan_Amount_Term</th>\n",
       "      <th>Credit_History</th>\n",
       "      <th>Property_Area</th>\n",
       "      <th>Loan_Status</th>\n",
       "      <th>LoanAmount_bin</th>\n",
       "      <th>Income_bins</th>\n",
       "    </tr>\n",
       "  </thead>\n",
       "  <tbody>\n",
       "    <tr>\n",
       "      <th>0</th>\n",
       "      <td>LP001002</td>\n",
       "      <td>Male</td>\n",
       "      <td>No</td>\n",
       "      <td>0</td>\n",
       "      <td>Graduate</td>\n",
       "      <td>No</td>\n",
       "      <td>5849</td>\n",
       "      <td>0</td>\n",
       "      <td>NaN</td>\n",
       "      <td>360.0</td>\n",
       "      <td>1.0</td>\n",
       "      <td>Urban</td>\n",
       "      <td>Y</td>\n",
       "      <td>NaN</td>\n",
       "      <td>High</td>\n",
       "    </tr>\n",
       "    <tr>\n",
       "      <th>1</th>\n",
       "      <td>LP001003</td>\n",
       "      <td>Male</td>\n",
       "      <td>Yes</td>\n",
       "      <td>1</td>\n",
       "      <td>Graduate</td>\n",
       "      <td>No</td>\n",
       "      <td>4583</td>\n",
       "      <td>1508</td>\n",
       "      <td>128.0</td>\n",
       "      <td>360.0</td>\n",
       "      <td>1.0</td>\n",
       "      <td>Rural</td>\n",
       "      <td>N</td>\n",
       "      <td>Average</td>\n",
       "      <td>High</td>\n",
       "    </tr>\n",
       "    <tr>\n",
       "      <th>2</th>\n",
       "      <td>LP001005</td>\n",
       "      <td>Male</td>\n",
       "      <td>Yes</td>\n",
       "      <td>0</td>\n",
       "      <td>Graduate</td>\n",
       "      <td>Yes</td>\n",
       "      <td>3000</td>\n",
       "      <td>0</td>\n",
       "      <td>66.0</td>\n",
       "      <td>360.0</td>\n",
       "      <td>1.0</td>\n",
       "      <td>Urban</td>\n",
       "      <td>Y</td>\n",
       "      <td>Low</td>\n",
       "      <td>Average</td>\n",
       "    </tr>\n",
       "    <tr>\n",
       "      <th>3</th>\n",
       "      <td>LP001006</td>\n",
       "      <td>Male</td>\n",
       "      <td>Yes</td>\n",
       "      <td>0</td>\n",
       "      <td>Not Graduate</td>\n",
       "      <td>No</td>\n",
       "      <td>2583</td>\n",
       "      <td>2358</td>\n",
       "      <td>120.0</td>\n",
       "      <td>360.0</td>\n",
       "      <td>1.0</td>\n",
       "      <td>Urban</td>\n",
       "      <td>Y</td>\n",
       "      <td>Average</td>\n",
       "      <td>Average</td>\n",
       "    </tr>\n",
       "    <tr>\n",
       "      <th>4</th>\n",
       "      <td>LP001008</td>\n",
       "      <td>Male</td>\n",
       "      <td>No</td>\n",
       "      <td>0</td>\n",
       "      <td>Graduate</td>\n",
       "      <td>No</td>\n",
       "      <td>6000</td>\n",
       "      <td>0</td>\n",
       "      <td>141.0</td>\n",
       "      <td>360.0</td>\n",
       "      <td>1.0</td>\n",
       "      <td>Urban</td>\n",
       "      <td>Y</td>\n",
       "      <td>Average</td>\n",
       "      <td>High</td>\n",
       "    </tr>\n",
       "  </tbody>\n",
       "</table>\n",
       "</div>"
      ],
      "text/plain": [
       "    Loan_ID Gender Married Dependents     Education Self_Employed  \\\n",
       "0  LP001002   Male      No          0      Graduate            No   \n",
       "1  LP001003   Male     Yes          1      Graduate            No   \n",
       "2  LP001005   Male     Yes          0      Graduate           Yes   \n",
       "3  LP001006   Male     Yes          0  Not Graduate            No   \n",
       "4  LP001008   Male      No          0      Graduate            No   \n",
       "\n",
       "   ApplicantIncome  CoapplicantIncome  LoanAmount  Loan_Amount_Term  \\\n",
       "0             5849                  0         NaN             360.0   \n",
       "1             4583               1508       128.0             360.0   \n",
       "2             3000                  0        66.0             360.0   \n",
       "3             2583               2358       120.0             360.0   \n",
       "4             6000                  0       141.0             360.0   \n",
       "\n",
       "   Credit_History Property_Area Loan_Status LoanAmount_bin Income_bins  \n",
       "0             1.0         Urban           Y            NaN        High  \n",
       "1             1.0         Rural           N        Average        High  \n",
       "2             1.0         Urban           Y            Low     Average  \n",
       "3             1.0         Urban           Y        Average     Average  \n",
       "4             1.0         Urban           Y        Average        High  "
      ]
     },
     "execution_count": 75,
     "metadata": {},
     "output_type": "execute_result"
    }
   ],
   "source": [
    "home_loan.head()"
   ]
  },
  {
   "cell_type": "markdown",
   "id": "03c295b1",
   "metadata": {},
   "source": [
    "**Relation between \"Loan_Status\" and \"CoapplicantIncome\"**"
   ]
  },
  {
   "cell_type": "code",
   "execution_count": 76,
   "id": "0c5e4194",
   "metadata": {},
   "outputs": [],
   "source": [
    "bins=[0,1000,3000,42000]\n",
    "group =['Low','Average','High']\n",
    "home_loan['CoapplicantIncome_bin']=pd.cut(home_loan[\"CoapplicantIncome\"],bins,labels=group)"
   ]
  },
  {
   "cell_type": "code",
   "execution_count": 77,
   "id": "4be92abb",
   "metadata": {},
   "outputs": [
    {
     "name": "stdout",
     "output_type": "stream",
     "text": [
      "Loan_Status             N    Y\n",
      "CoapplicantIncome_bin         \n",
      "Low                     3   19\n",
      "Average                61  161\n",
      "High                   32   65\n"
     ]
    },
    {
     "data": {
      "image/png": "[encoded data removed]",
      "text/plain": [
       "<Figure size 288x288 with 1 Axes>"
      ]
     },
     "metadata": {
      "needs_background": "light"
     },
     "output_type": "display_data"
    }
   ],
   "source": [
    "print(pd.crosstab(home_loan[\"CoapplicantIncome_bin\"],home_loan[\"Loan_Status\"]))\n",
    "CoapplicantIncome_Bin = pd.crosstab(home_loan[\"CoapplicantIncome_bin\"],home_loan[\"Loan_Status\"])\n",
    "CoapplicantIncome_Bin.div(CoapplicantIncome_Bin.sum(1).astype(float),axis=0).plot(kind='bar',stacked=True,figsize=(4,4))\n",
    "plt.xlabel(\"CoapplicantIncome\")\n",
    "plt.ylabel(\"Percentage\")\n",
    "plt.show()"
   ]
  },
  {
   "cell_type": "markdown",
   "id": "69eca19a",
   "metadata": {},
   "source": [
    "It shows that if coapplicant’s income is less then the chances of loan approval are high. But this also does not look right. The possible reason for this result may be because most of the applicants don’t have any coapplicant so the coapplicant income for such applicants is 0 and hence the loan approval is not dependent on it. So we have to make a new variable (Total Income) in the Feature Engineering section by combining the applicant’s and coapplicant’s income to visualize the combined effect of income on loan approval."
   ]
  },
  {
   "cell_type": "markdown",
   "id": "adb14f01",
   "metadata": {},
   "source": [
    "**IMPUTING THE MISSING VALUES**"
   ]
  },
  {
   "cell_type": "markdown",
   "id": "fd956464",
   "metadata": {},
   "source": [
    "Methods to fill the missing values:\n",
    "\n",
    "For numerical variables: imputation using mean or median\n",
    "\n",
    "For categorical variables: imputation using mode"
   ]
  },
  {
   "cell_type": "code",
   "execution_count": 78,
   "id": "f4b83383",
   "metadata": {},
   "outputs": [],
   "source": [
    "home_loan['LoanAmount']=home_loan['LoanAmount'].fillna(home_loan['LoanAmount'].mean())"
   ]
  },
  {
   "cell_type": "code",
   "execution_count": 79,
   "id": "e5ac7581",
   "metadata": {},
   "outputs": [],
   "source": [
    "home_loan['Loan_Amount_Term']=home_loan['Loan_Amount_Term'].fillna(home_loan['Loan_Amount_Term'].mode()[0])"
   ]
  },
  {
   "cell_type": "code",
   "execution_count": 80,
   "id": "f543884f",
   "metadata": {},
   "outputs": [],
   "source": [
    "home_loan['Credit_History']=home_loan['Credit_History'].fillna(home_loan['Credit_History'].mode()[0])"
   ]
  },
  {
   "cell_type": "code",
   "execution_count": 81,
   "id": "1f470ad5",
   "metadata": {},
   "outputs": [],
   "source": [
    "home_loan['Gender']=home_loan['Gender'].fillna(home_loan['Gender'].mode()[0])"
   ]
  },
  {
   "cell_type": "code",
   "execution_count": 82,
   "id": "a93dd5db",
   "metadata": {},
   "outputs": [],
   "source": [
    "home_loan['Married']=home_loan['Married'].fillna(home_loan['Married'].mode()[0])"
   ]
  },
  {
   "cell_type": "code",
   "execution_count": 83,
   "id": "cf433569",
   "metadata": {},
   "outputs": [],
   "source": [
    "home_loan['Dependents']=home_loan['Dependents'].fillna(home_loan['Dependents'].mode()[0])"
   ]
  },
  {
   "cell_type": "code",
   "execution_count": 84,
   "id": "5279c6e3",
   "metadata": {},
   "outputs": [],
   "source": [
    "home_loan['Self_Employed']=home_loan['Self_Employed'].fillna(home_loan['Self_Employed'].mode()[0])"
   ]
  },
  {
   "cell_type": "code",
   "execution_count": 85,
   "id": "460e3b30",
   "metadata": {},
   "outputs": [],
   "source": [
    "missing = home_loan.isnull().sum()"
   ]
  },
  {
   "cell_type": "code",
   "execution_count": 86,
   "id": "bb87342e",
   "metadata": {},
   "outputs": [
    {
     "data": {
      "text/plain": [
       "Loan_ID                    0\n",
       "Gender                     0\n",
       "Married                    0\n",
       "Dependents                 0\n",
       "Education                  0\n",
       "Self_Employed              0\n",
       "ApplicantIncome            0\n",
       "CoapplicantIncome          0\n",
       "LoanAmount                 0\n",
       "Loan_Amount_Term           0\n",
       "Credit_History             0\n",
       "Property_Area              0\n",
       "Loan_Status                0\n",
       "LoanAmount_bin            22\n",
       "Income_bins                0\n",
       "CoapplicantIncome_bin    273\n",
       "dtype: int64"
      ]
     },
     "execution_count": 86,
     "metadata": {},
     "output_type": "execute_result"
    }
   ],
   "source": [
    "missing"
   ]
  },
  {
   "cell_type": "markdown",
   "id": "7c654865",
   "metadata": {},
   "source": [
    "**FEATURE ENGINEERING**"
   ]
  },
  {
   "cell_type": "markdown",
   "id": "dc7164da",
   "metadata": {},
   "source": [
    "1. **TOTAL INCOME**"
   ]
  },
  {
   "cell_type": "code",
   "execution_count": 87,
   "id": "64b2a651",
   "metadata": {},
   "outputs": [],
   "source": [
    "home_loan['TotalIncome']= home_loan['ApplicantIncome']+ home_loan['CoapplicantIncome']"
   ]
  },
  {
   "cell_type": "code",
   "execution_count": 88,
   "id": "688308d6",
   "metadata": {},
   "outputs": [
    {
     "data": {
      "text/plain": [
       "0    5849\n",
       "1    6091\n",
       "2    3000\n",
       "3    4941\n",
       "4    6000\n",
       "Name: TotalIncome, dtype: int64"
      ]
     },
     "execution_count": 88,
     "metadata": {},
     "output_type": "execute_result"
    }
   ],
   "source": [
    "home_loan[\"TotalIncome\"].head()"
   ]
  },
  {
   "cell_type": "markdown",
   "id": "f5834ecc",
   "metadata": {},
   "source": [
    "**Relation between \"Loan_Status\" and \"TotalIncome\"**"
   ]
  },
  {
   "cell_type": "code",
   "execution_count": 89,
   "id": "d7ef6d1b",
   "metadata": {},
   "outputs": [],
   "source": [
    "bins =[0,2500,4000,6000,81000]\n",
    "group=['Low','Average','High','Very High']\n",
    "home_loan[\"TotalIncome_bin\"]=pd.cut(home_loan[\"TotalIncome\"],bins,labels=group)"
   ]
  },
  {
   "cell_type": "code",
   "execution_count": 90,
   "id": "bf443af0",
   "metadata": {},
   "outputs": [
    {
     "name": "stdout",
     "output_type": "stream",
     "text": [
      "Loan_Status       N    Y\n",
      "TotalIncome_bin         \n",
      "Low              14   10\n",
      "Average          32   87\n",
      "High             65  159\n",
      "Very High        81  166\n"
     ]
    },
    {
     "data": {
      "image/png": "[encoded data removed]",
      "text/plain": [
       "<Figure size 144x144 with 1 Axes>"
      ]
     },
     "metadata": {
      "needs_background": "light"
     },
     "output_type": "display_data"
    }
   ],
   "source": [
    "print(pd.crosstab(home_loan[\"TotalIncome_bin\"],home_loan[\"Loan_Status\"]))\n",
    "TotalIncome = pd.crosstab(home_loan[\"TotalIncome_bin\"],home_loan[\"Loan_Status\"])\n",
    "TotalIncome.div(TotalIncome.sum(1).astype(float),axis=0).plot(kind='bar',stacked=True,figsize=(2,2))\n",
    "plt.xlabel(\"TotalIncome\")\n",
    "plt.ylabel(\"Percentage\")\n",
    "plt.show()"
   ]
  },
  {
   "cell_type": "markdown",
   "id": "be75b58f",
   "metadata": {},
   "source": [
    "Results:\n",
    "\n",
    "TotalIncome was Low and loan was approved : 10\n",
    "\n",
    "Whose TotalIncome was Low and loan was not approved : 14\n",
    "\n",
    "Whose TotalIncome was Aerage and loan was apprvoed : 87\n",
    "\n",
    "Whose TotalIncome was Average and loan was not approved : 32\n",
    "\n",
    "Whose TotalIncome was High and loan was approved : 159\n",
    "\n",
    "Whose TotalIncome was High and loan was not approved : 65\n",
    "\n",
    "Whose TotalIncome was Very High and loan was approved : 166\n",
    "\n",
    "Whose TotalIncome was Very High and loan was not approed : 81\n",
    "\n",
    "It shows that the proportion of loans getting approved for applicants having low Total_Income is very less as compared to that of applicants with Average, High and Very High Income."
   ]
  },
  {
   "cell_type": "code",
   "execution_count": 91,
   "id": "78717a09",
   "metadata": {},
   "outputs": [
    {
     "data": {
      "text/html": [
       "<div>\n",
       "<style scoped>\n",
       "    .dataframe tbody tr th:only-of-type {\n",
       "        vertical-align: middle;\n",
       "    }\n",
       "\n",
       "    .dataframe tbody tr th {\n",
       "        vertical-align: top;\n",
       "    }\n",
       "\n",
       "    .dataframe thead th {\n",
       "        text-align: right;\n",
       "    }\n",
       "</style>\n",
       "<table border=\"1\" class=\"dataframe\">\n",
       "  <thead>\n",
       "    <tr style=\"text-align: right;\">\n",
       "      <th></th>\n",
       "      <th>Loan_ID</th>\n",
       "      <th>Gender</th>\n",
       "      <th>Married</th>\n",
       "      <th>Dependents</th>\n",
       "      <th>Education</th>\n",
       "      <th>Self_Employed</th>\n",
       "      <th>ApplicantIncome</th>\n",
       "      <th>CoapplicantIncome</th>\n",
       "      <th>LoanAmount</th>\n",
       "      <th>Loan_Amount_Term</th>\n",
       "      <th>Credit_History</th>\n",
       "      <th>Property_Area</th>\n",
       "      <th>Loan_Status</th>\n",
       "      <th>LoanAmount_bin</th>\n",
       "      <th>Income_bins</th>\n",
       "      <th>CoapplicantIncome_bin</th>\n",
       "      <th>TotalIncome</th>\n",
       "      <th>TotalIncome_bin</th>\n",
       "    </tr>\n",
       "  </thead>\n",
       "  <tbody>\n",
       "    <tr>\n",
       "      <th>0</th>\n",
       "      <td>LP001002</td>\n",
       "      <td>Male</td>\n",
       "      <td>No</td>\n",
       "      <td>0</td>\n",
       "      <td>Graduate</td>\n",
       "      <td>No</td>\n",
       "      <td>5849</td>\n",
       "      <td>0</td>\n",
       "      <td>146.412162</td>\n",
       "      <td>360.0</td>\n",
       "      <td>1.0</td>\n",
       "      <td>Urban</td>\n",
       "      <td>Y</td>\n",
       "      <td>NaN</td>\n",
       "      <td>High</td>\n",
       "      <td>NaN</td>\n",
       "      <td>5849</td>\n",
       "      <td>High</td>\n",
       "    </tr>\n",
       "    <tr>\n",
       "      <th>1</th>\n",
       "      <td>LP001003</td>\n",
       "      <td>Male</td>\n",
       "      <td>Yes</td>\n",
       "      <td>1</td>\n",
       "      <td>Graduate</td>\n",
       "      <td>No</td>\n",
       "      <td>4583</td>\n",
       "      <td>1508</td>\n",
       "      <td>128.000000</td>\n",
       "      <td>360.0</td>\n",
       "      <td>1.0</td>\n",
       "      <td>Rural</td>\n",
       "      <td>N</td>\n",
       "      <td>Average</td>\n",
       "      <td>High</td>\n",
       "      <td>Average</td>\n",
       "      <td>6091</td>\n",
       "      <td>Very High</td>\n",
       "    </tr>\n",
       "    <tr>\n",
       "      <th>2</th>\n",
       "      <td>LP001005</td>\n",
       "      <td>Male</td>\n",
       "      <td>Yes</td>\n",
       "      <td>0</td>\n",
       "      <td>Graduate</td>\n",
       "      <td>Yes</td>\n",
       "      <td>3000</td>\n",
       "      <td>0</td>\n",
       "      <td>66.000000</td>\n",
       "      <td>360.0</td>\n",
       "      <td>1.0</td>\n",
       "      <td>Urban</td>\n",
       "      <td>Y</td>\n",
       "      <td>Low</td>\n",
       "      <td>Average</td>\n",
       "      <td>NaN</td>\n",
       "      <td>3000</td>\n",
       "      <td>Average</td>\n",
       "    </tr>\n",
       "    <tr>\n",
       "      <th>3</th>\n",
       "      <td>LP001006</td>\n",
       "      <td>Male</td>\n",
       "      <td>Yes</td>\n",
       "      <td>0</td>\n",
       "      <td>Not Graduate</td>\n",
       "      <td>No</td>\n",
       "      <td>2583</td>\n",
       "      <td>2358</td>\n",
       "      <td>120.000000</td>\n",
       "      <td>360.0</td>\n",
       "      <td>1.0</td>\n",
       "      <td>Urban</td>\n",
       "      <td>Y</td>\n",
       "      <td>Average</td>\n",
       "      <td>Average</td>\n",
       "      <td>Average</td>\n",
       "      <td>4941</td>\n",
       "      <td>High</td>\n",
       "    </tr>\n",
       "    <tr>\n",
       "      <th>4</th>\n",
       "      <td>LP001008</td>\n",
       "      <td>Male</td>\n",
       "      <td>No</td>\n",
       "      <td>0</td>\n",
       "      <td>Graduate</td>\n",
       "      <td>No</td>\n",
       "      <td>6000</td>\n",
       "      <td>0</td>\n",
       "      <td>141.000000</td>\n",
       "      <td>360.0</td>\n",
       "      <td>1.0</td>\n",
       "      <td>Urban</td>\n",
       "      <td>Y</td>\n",
       "      <td>Average</td>\n",
       "      <td>High</td>\n",
       "      <td>NaN</td>\n",
       "      <td>6000</td>\n",
       "      <td>High</td>\n",
       "    </tr>\n",
       "  </tbody>\n",
       "</table>\n",
       "</div>"
      ],
      "text/plain": [
       "    Loan_ID Gender Married Dependents     Education Self_Employed  \\\n",
       "0  LP001002   Male      No          0      Graduate            No   \n",
       "1  LP001003   Male     Yes          1      Graduate            No   \n",
       "2  LP001005   Male     Yes          0      Graduate           Yes   \n",
       "3  LP001006   Male     Yes          0  Not Graduate            No   \n",
       "4  LP001008   Male      No          0      Graduate            No   \n",
       "\n",
       "   ApplicantIncome  CoapplicantIncome  LoanAmount  Loan_Amount_Term  \\\n",
       "0             5849                  0  146.412162             360.0   \n",
       "1             4583               1508  128.000000             360.0   \n",
       "2             3000                  0   66.000000             360.0   \n",
       "3             2583               2358  120.000000             360.0   \n",
       "4             6000                  0  141.000000             360.0   \n",
       "\n",
       "   Credit_History Property_Area Loan_Status LoanAmount_bin Income_bins  \\\n",
       "0             1.0         Urban           Y            NaN        High   \n",
       "1             1.0         Rural           N        Average        High   \n",
       "2             1.0         Urban           Y            Low     Average   \n",
       "3             1.0         Urban           Y        Average     Average   \n",
       "4             1.0         Urban           Y        Average        High   \n",
       "\n",
       "  CoapplicantIncome_bin  TotalIncome TotalIncome_bin  \n",
       "0                   NaN         5849            High  \n",
       "1               Average         6091       Very High  \n",
       "2                   NaN         3000         Average  \n",
       "3               Average         4941            High  \n",
       "4                   NaN         6000            High  "
      ]
     },
     "execution_count": 91,
     "metadata": {},
     "output_type": "execute_result"
    }
   ],
   "source": [
    "home_loan.head()"
   ]
  },
  {
   "cell_type": "markdown",
   "id": "249e26c1",
   "metadata": {},
   "source": [
    "**Drop the bins created for the Exploratory Data Analysis**"
   ]
  },
  {
   "cell_type": "code",
   "execution_count": 92,
   "id": "0c75e02c",
   "metadata": {},
   "outputs": [],
   "source": [
    "home_loan=home_loan.drop([\"Income_bins\",\"CoapplicantIncome_bin\",\"LoanAmount_bin\",\"TotalIncome_bin\"],axis=1)"
   ]
  },
  {
   "cell_type": "code",
   "execution_count": 93,
   "id": "02f47821",
   "metadata": {},
   "outputs": [
    {
     "data": {
      "text/html": [
       "<div>\n",
       "<style scoped>\n",
       "    .dataframe tbody tr th:only-of-type {\n",
       "        vertical-align: middle;\n",
       "    }\n",
       "\n",
       "    .dataframe tbody tr th {\n",
       "        vertical-align: top;\n",
       "    }\n",
       "\n",
       "    .dataframe thead th {\n",
       "        text-align: right;\n",
       "    }\n",
       "</style>\n",
       "<table border=\"1\" class=\"dataframe\">\n",
       "  <thead>\n",
       "    <tr style=\"text-align: right;\">\n",
       "      <th></th>\n",
       "      <th>Loan_ID</th>\n",
       "      <th>Gender</th>\n",
       "      <th>Married</th>\n",
       "      <th>Dependents</th>\n",
       "      <th>Education</th>\n",
       "      <th>Self_Employed</th>\n",
       "      <th>ApplicantIncome</th>\n",
       "      <th>CoapplicantIncome</th>\n",
       "      <th>LoanAmount</th>\n",
       "      <th>Loan_Amount_Term</th>\n",
       "      <th>Credit_History</th>\n",
       "      <th>Property_Area</th>\n",
       "      <th>Loan_Status</th>\n",
       "      <th>TotalIncome</th>\n",
       "    </tr>\n",
       "  </thead>\n",
       "  <tbody>\n",
       "    <tr>\n",
       "      <th>0</th>\n",
       "      <td>LP001002</td>\n",
       "      <td>Male</td>\n",
       "      <td>No</td>\n",
       "      <td>0</td>\n",
       "      <td>Graduate</td>\n",
       "      <td>No</td>\n",
       "      <td>5849</td>\n",
       "      <td>0</td>\n",
       "      <td>146.412162</td>\n",
       "      <td>360.0</td>\n",
       "      <td>1.0</td>\n",
       "      <td>Urban</td>\n",
       "      <td>Y</td>\n",
       "      <td>5849</td>\n",
       "    </tr>\n",
       "    <tr>\n",
       "      <th>1</th>\n",
       "      <td>LP001003</td>\n",
       "      <td>Male</td>\n",
       "      <td>Yes</td>\n",
       "      <td>1</td>\n",
       "      <td>Graduate</td>\n",
       "      <td>No</td>\n",
       "      <td>4583</td>\n",
       "      <td>1508</td>\n",
       "      <td>128.000000</td>\n",
       "      <td>360.0</td>\n",
       "      <td>1.0</td>\n",
       "      <td>Rural</td>\n",
       "      <td>N</td>\n",
       "      <td>6091</td>\n",
       "    </tr>\n",
       "    <tr>\n",
       "      <th>2</th>\n",
       "      <td>LP001005</td>\n",
       "      <td>Male</td>\n",
       "      <td>Yes</td>\n",
       "      <td>0</td>\n",
       "      <td>Graduate</td>\n",
       "      <td>Yes</td>\n",
       "      <td>3000</td>\n",
       "      <td>0</td>\n",
       "      <td>66.000000</td>\n",
       "      <td>360.0</td>\n",
       "      <td>1.0</td>\n",
       "      <td>Urban</td>\n",
       "      <td>Y</td>\n",
       "      <td>3000</td>\n",
       "    </tr>\n",
       "    <tr>\n",
       "      <th>3</th>\n",
       "      <td>LP001006</td>\n",
       "      <td>Male</td>\n",
       "      <td>Yes</td>\n",
       "      <td>0</td>\n",
       "      <td>Not Graduate</td>\n",
       "      <td>No</td>\n",
       "      <td>2583</td>\n",
       "      <td>2358</td>\n",
       "      <td>120.000000</td>\n",
       "      <td>360.0</td>\n",
       "      <td>1.0</td>\n",
       "      <td>Urban</td>\n",
       "      <td>Y</td>\n",
       "      <td>4941</td>\n",
       "    </tr>\n",
       "    <tr>\n",
       "      <th>4</th>\n",
       "      <td>LP001008</td>\n",
       "      <td>Male</td>\n",
       "      <td>No</td>\n",
       "      <td>0</td>\n",
       "      <td>Graduate</td>\n",
       "      <td>No</td>\n",
       "      <td>6000</td>\n",
       "      <td>0</td>\n",
       "      <td>141.000000</td>\n",
       "      <td>360.0</td>\n",
       "      <td>1.0</td>\n",
       "      <td>Urban</td>\n",
       "      <td>Y</td>\n",
       "      <td>6000</td>\n",
       "    </tr>\n",
       "  </tbody>\n",
       "</table>\n",
       "</div>"
      ],
      "text/plain": [
       "    Loan_ID Gender Married Dependents     Education Self_Employed  \\\n",
       "0  LP001002   Male      No          0      Graduate            No   \n",
       "1  LP001003   Male     Yes          1      Graduate            No   \n",
       "2  LP001005   Male     Yes          0      Graduate           Yes   \n",
       "3  LP001006   Male     Yes          0  Not Graduate            No   \n",
       "4  LP001008   Male      No          0      Graduate            No   \n",
       "\n",
       "   ApplicantIncome  CoapplicantIncome  LoanAmount  Loan_Amount_Term  \\\n",
       "0             5849                  0  146.412162             360.0   \n",
       "1             4583               1508  128.000000             360.0   \n",
       "2             3000                  0   66.000000             360.0   \n",
       "3             2583               2358  120.000000             360.0   \n",
       "4             6000                  0  141.000000             360.0   \n",
       "\n",
       "   Credit_History Property_Area Loan_Status  TotalIncome  \n",
       "0             1.0         Urban           Y         5849  \n",
       "1             1.0         Rural           N         6091  \n",
       "2             1.0         Urban           Y         3000  \n",
       "3             1.0         Urban           Y         4941  \n",
       "4             1.0         Urban           Y         6000  "
      ]
     },
     "execution_count": 93,
     "metadata": {},
     "output_type": "execute_result"
    }
   ],
   "source": [
    "home_loan.head()"
   ]
  },
  {
   "cell_type": "markdown",
   "id": "81b93702",
   "metadata": {},
   "source": [
    "**Distribution of Total Income**"
   ]
  },
  {
   "cell_type": "code",
   "execution_count": 94,
   "id": "06df53ed",
   "metadata": {},
   "outputs": [
    {
     "data": {
      "text/plain": [
       "<seaborn.axisgrid.FacetGrid at 0x1de2c2ed910>"
      ]
     },
     "execution_count": 94,
     "metadata": {},
     "output_type": "execute_result"
    },
    {
     "data": {
      "image/png": "[encoded data removed]",
      "text/plain": [
       "<Figure size 360x360 with 1 Axes>"
      ]
     },
     "metadata": {
      "needs_background": "light"
     },
     "output_type": "display_data"
    }
   ],
   "source": [
    "sns.displot(home_loan[\"TotalIncome\"])"
   ]
  },
  {
   "cell_type": "markdown",
   "id": "633789b3",
   "metadata": {},
   "source": [
    "The plot shows skewness: its a right-skewed distribution and we have to do a log transformation to get a normally distributed data."
   ]
  },
  {
   "cell_type": "markdown",
   "id": "172f3057",
   "metadata": {},
   "source": [
    "**Log Transformation**"
   ]
  },
  {
   "cell_type": "code",
   "execution_count": 95,
   "id": "80426b04",
   "metadata": {},
   "outputs": [
    {
     "data": {
      "text/plain": [
       "<seaborn.axisgrid.FacetGrid at 0x1de2c42cf10>"
      ]
     },
     "execution_count": 95,
     "metadata": {},
     "output_type": "execute_result"
    },
    {
     "data": {
      "image/png": "[encoded data removed]",
      "text/plain": [
       "<Figure size 360x360 with 1 Axes>"
      ]
     },
     "metadata": {
      "needs_background": "light"
     },
     "output_type": "display_data"
    }
   ],
   "source": [
    "home_loan[\"TotalIncome\"]=np.log(home_loan[\"TotalIncome\"])\n",
    "sns.displot(home_loan[\"TotalIncome\"])"
   ]
  },
  {
   "cell_type": "markdown",
   "id": "dcb031ad",
   "metadata": {},
   "source": [
    "The plot above now is normally distributed."
   ]
  },
  {
   "cell_type": "code",
   "execution_count": 96,
   "id": "3cab7c2e",
   "metadata": {},
   "outputs": [
    {
     "data": {
      "text/plain": [
       "<seaborn.axisgrid.FacetGrid at 0x1de2c3ce5b0>"
      ]
     },
     "execution_count": 96,
     "metadata": {},
     "output_type": "execute_result"
    },
    {
     "data": {
      "image/png": "[encoded data removed]",
      "text/plain": [
       "<Figure size 360x360 with 1 Axes>"
      ]
     },
     "metadata": {
      "needs_background": "light"
     },
     "output_type": "display_data"
    }
   ],
   "source": [
    "sns.displot(home_loan[\"LoanAmount\"])"
   ]
  },
  {
   "cell_type": "code",
   "execution_count": 97,
   "id": "31675ba1",
   "metadata": {},
   "outputs": [
    {
     "data": {
      "text/plain": [
       "<AxesSubplot:>"
      ]
     },
     "execution_count": 97,
     "metadata": {},
     "output_type": "execute_result"
    },
    {
     "data": {
      "image/png": "[encoded data removed]",
      "text/plain": [
       "<Figure size 432x288 with 1 Axes>"
      ]
     },
     "metadata": {
      "needs_background": "light"
     },
     "output_type": "display_data"
    }
   ],
   "source": [
    "home_loan['LoanAmount'].hist(bins=25)"
   ]
  },
  {
   "cell_type": "markdown",
   "id": "4ffac4d5",
   "metadata": {},
   "source": [
    "we can see some outliers due to which majority of the data in the loan amount is at the left and the right tail is longer. This is called right-skewed distribution.\n",
    "\n",
    "we can remove this skewness by log transformation. As we take the log transformation, it does not affect the smaller values much, but reduces the larger values.\n",
    "\n",
    "Hence, we get a normal distribution."
   ]
  },
  {
   "cell_type": "markdown",
   "id": "13455fa5",
   "metadata": {},
   "source": [
    "**Log Transformation**"
   ]
  },
  {
   "cell_type": "code",
   "execution_count": 98,
   "id": "ce22591d",
   "metadata": {},
   "outputs": [],
   "source": [
    "home_loan['LoanAmount']= np.log(home_loan['LoanAmount'])"
   ]
  },
  {
   "cell_type": "code",
   "execution_count": 99,
   "id": "c90025d5",
   "metadata": {},
   "outputs": [
    {
     "data": {
      "text/plain": [
       "<seaborn.axisgrid.FacetGrid at 0x1de2c3a9340>"
      ]
     },
     "execution_count": 99,
     "metadata": {},
     "output_type": "execute_result"
    },
    {
     "data": {
      "image/png": "[encoded data removed]",
      "text/plain": [
       "<Figure size 360x360 with 1 Axes>"
      ]
     },
     "metadata": {
      "needs_background": "light"
     },
     "output_type": "display_data"
    }
   ],
   "source": [
    "sns.displot(home_loan.LoanAmount)"
   ]
  },
  {
   "cell_type": "markdown",
   "id": "b69b938c",
   "metadata": {},
   "source": [
    "**2. EMI**"
   ]
  },
  {
   "cell_type": "code",
   "execution_count": 100,
   "id": "af117358",
   "metadata": {},
   "outputs": [],
   "source": [
    "home_loan[\"EMI\"]= home_loan[\"LoanAmount\"]/home_loan[\"Loan_Amount_Term\"]"
   ]
  },
  {
   "cell_type": "code",
   "execution_count": 101,
   "id": "40b173a8",
   "metadata": {},
   "outputs": [
    {
     "data": {
      "text/plain": [
       "0    0.013851\n",
       "1    0.013478\n",
       "2    0.011638\n",
       "3    0.013299\n",
       "4    0.013747\n",
       "Name: EMI, dtype: float64"
      ]
     },
     "execution_count": 101,
     "metadata": {},
     "output_type": "execute_result"
    }
   ],
   "source": [
    "home_loan[\"EMI\"].head()"
   ]
  },
  {
   "cell_type": "markdown",
   "id": "eacf7929",
   "metadata": {},
   "source": [
    "**Distribution of EMI**"
   ]
  },
  {
   "cell_type": "code",
   "execution_count": 102,
   "id": "3b7b7759",
   "metadata": {},
   "outputs": [
    {
     "data": {
      "text/plain": [
       "<seaborn.axisgrid.FacetGrid at 0x1de2c2e6850>"
      ]
     },
     "execution_count": 102,
     "metadata": {},
     "output_type": "execute_result"
    },
    {
     "data": {
      "image/png": "[encoded data removed]",
      "text/plain": [
       "<Figure size 360x360 with 1 Axes>"
      ]
     },
     "metadata": {
      "needs_background": "light"
     },
     "output_type": "display_data"
    }
   ],
   "source": [
    "sns.displot(home_loan[\"EMI\"])"
   ]
  },
  {
   "cell_type": "markdown",
   "id": "89f90656",
   "metadata": {},
   "source": [
    "**3. EMI*1000**"
   ]
  },
  {
   "cell_type": "code",
   "execution_count": 103,
   "id": "55077ad9",
   "metadata": {},
   "outputs": [],
   "source": [
    "home_loan[\"EMI\"]=home_loan[\"EMI\"]*1000"
   ]
  },
  {
   "cell_type": "code",
   "execution_count": 104,
   "id": "3001aaf5",
   "metadata": {},
   "outputs": [
    {
     "data": {
      "text/plain": [
       "0    13.851182\n",
       "1    13.477862\n",
       "2    11.637930\n",
       "3    13.298588\n",
       "4    13.746555\n",
       "Name: EMI, dtype: float64"
      ]
     },
     "execution_count": 104,
     "metadata": {},
     "output_type": "execute_result"
    }
   ],
   "source": [
    "home_loan[\"EMI\"].head()"
   ]
  },
  {
   "cell_type": "markdown",
   "id": "2e691932",
   "metadata": {},
   "source": [
    "**4. LABEL ENCODING**"
   ]
  },
  {
   "cell_type": "markdown",
   "id": "5d0ac852",
   "metadata": {},
   "source": [
    "Label Encoding replaces the categorical value with a numeric value between 0 and the number of classes minus 1, making them lot easier to quantify and compare."
   ]
  },
  {
   "cell_type": "code",
   "execution_count": 105,
   "id": "2796e75c",
   "metadata": {},
   "outputs": [],
   "source": [
    "columns=['Loan_Status','Gender', 'Married', 'Education','Self_Employed','Property_Area','Dependents']\n",
    "le = LabelEncoder()\n",
    "for column in columns:\n",
    "    home_loan[column]= le.fit_transform(home_loan[column])"
   ]
  },
  {
   "cell_type": "code",
   "execution_count": 106,
   "id": "89021499",
   "metadata": {},
   "outputs": [
    {
     "data": {
      "text/html": [
       "<div>\n",
       "<style scoped>\n",
       "    .dataframe tbody tr th:only-of-type {\n",
       "        vertical-align: middle;\n",
       "    }\n",
       "\n",
       "    .dataframe tbody tr th {\n",
       "        vertical-align: top;\n",
       "    }\n",
       "\n",
       "    .dataframe thead th {\n",
       "        text-align: right;\n",
       "    }\n",
       "</style>\n",
       "<table border=\"1\" class=\"dataframe\">\n",
       "  <thead>\n",
       "    <tr style=\"text-align: right;\">\n",
       "      <th></th>\n",
       "      <th>Loan_ID</th>\n",
       "      <th>Gender</th>\n",
       "      <th>Married</th>\n",
       "      <th>Dependents</th>\n",
       "      <th>Education</th>\n",
       "      <th>Self_Employed</th>\n",
       "      <th>ApplicantIncome</th>\n",
       "      <th>CoapplicantIncome</th>\n",
       "      <th>LoanAmount</th>\n",
       "      <th>Loan_Amount_Term</th>\n",
       "      <th>Credit_History</th>\n",
       "      <th>Property_Area</th>\n",
       "      <th>Loan_Status</th>\n",
       "      <th>TotalIncome</th>\n",
       "      <th>EMI</th>\n",
       "    </tr>\n",
       "  </thead>\n",
       "  <tbody>\n",
       "    <tr>\n",
       "      <th>0</th>\n",
       "      <td>LP001002</td>\n",
       "      <td>1</td>\n",
       "      <td>0</td>\n",
       "      <td>0</td>\n",
       "      <td>0</td>\n",
       "      <td>0</td>\n",
       "      <td>5849</td>\n",
       "      <td>0</td>\n",
       "      <td>4.986426</td>\n",
       "      <td>360.0</td>\n",
       "      <td>1.0</td>\n",
       "      <td>2</td>\n",
       "      <td>1</td>\n",
       "      <td>8.674026</td>\n",
       "      <td>13.851182</td>\n",
       "    </tr>\n",
       "    <tr>\n",
       "      <th>1</th>\n",
       "      <td>LP001003</td>\n",
       "      <td>1</td>\n",
       "      <td>1</td>\n",
       "      <td>1</td>\n",
       "      <td>0</td>\n",
       "      <td>0</td>\n",
       "      <td>4583</td>\n",
       "      <td>1508</td>\n",
       "      <td>4.852030</td>\n",
       "      <td>360.0</td>\n",
       "      <td>1.0</td>\n",
       "      <td>0</td>\n",
       "      <td>0</td>\n",
       "      <td>8.714568</td>\n",
       "      <td>13.477862</td>\n",
       "    </tr>\n",
       "    <tr>\n",
       "      <th>2</th>\n",
       "      <td>LP001005</td>\n",
       "      <td>1</td>\n",
       "      <td>1</td>\n",
       "      <td>0</td>\n",
       "      <td>0</td>\n",
       "      <td>1</td>\n",
       "      <td>3000</td>\n",
       "      <td>0</td>\n",
       "      <td>4.189655</td>\n",
       "      <td>360.0</td>\n",
       "      <td>1.0</td>\n",
       "      <td>2</td>\n",
       "      <td>1</td>\n",
       "      <td>8.006368</td>\n",
       "      <td>11.637930</td>\n",
       "    </tr>\n",
       "    <tr>\n",
       "      <th>3</th>\n",
       "      <td>LP001006</td>\n",
       "      <td>1</td>\n",
       "      <td>1</td>\n",
       "      <td>0</td>\n",
       "      <td>1</td>\n",
       "      <td>0</td>\n",
       "      <td>2583</td>\n",
       "      <td>2358</td>\n",
       "      <td>4.787492</td>\n",
       "      <td>360.0</td>\n",
       "      <td>1.0</td>\n",
       "      <td>2</td>\n",
       "      <td>1</td>\n",
       "      <td>8.505323</td>\n",
       "      <td>13.298588</td>\n",
       "    </tr>\n",
       "    <tr>\n",
       "      <th>4</th>\n",
       "      <td>LP001008</td>\n",
       "      <td>1</td>\n",
       "      <td>0</td>\n",
       "      <td>0</td>\n",
       "      <td>0</td>\n",
       "      <td>0</td>\n",
       "      <td>6000</td>\n",
       "      <td>0</td>\n",
       "      <td>4.948760</td>\n",
       "      <td>360.0</td>\n",
       "      <td>1.0</td>\n",
       "      <td>2</td>\n",
       "      <td>1</td>\n",
       "      <td>8.699515</td>\n",
       "      <td>13.746555</td>\n",
       "    </tr>\n",
       "    <tr>\n",
       "      <th>...</th>\n",
       "      <td>...</td>\n",
       "      <td>...</td>\n",
       "      <td>...</td>\n",
       "      <td>...</td>\n",
       "      <td>...</td>\n",
       "      <td>...</td>\n",
       "      <td>...</td>\n",
       "      <td>...</td>\n",
       "      <td>...</td>\n",
       "      <td>...</td>\n",
       "      <td>...</td>\n",
       "      <td>...</td>\n",
       "      <td>...</td>\n",
       "      <td>...</td>\n",
       "      <td>...</td>\n",
       "    </tr>\n",
       "    <tr>\n",
       "      <th>609</th>\n",
       "      <td>LP002978</td>\n",
       "      <td>0</td>\n",
       "      <td>0</td>\n",
       "      <td>0</td>\n",
       "      <td>0</td>\n",
       "      <td>0</td>\n",
       "      <td>2900</td>\n",
       "      <td>0</td>\n",
       "      <td>4.262680</td>\n",
       "      <td>360.0</td>\n",
       "      <td>1.0</td>\n",
       "      <td>0</td>\n",
       "      <td>1</td>\n",
       "      <td>7.972466</td>\n",
       "      <td>11.840777</td>\n",
       "    </tr>\n",
       "    <tr>\n",
       "      <th>610</th>\n",
       "      <td>LP002979</td>\n",
       "      <td>1</td>\n",
       "      <td>1</td>\n",
       "      <td>3</td>\n",
       "      <td>0</td>\n",
       "      <td>0</td>\n",
       "      <td>4106</td>\n",
       "      <td>0</td>\n",
       "      <td>3.688879</td>\n",
       "      <td>180.0</td>\n",
       "      <td>1.0</td>\n",
       "      <td>0</td>\n",
       "      <td>1</td>\n",
       "      <td>8.320205</td>\n",
       "      <td>20.493775</td>\n",
       "    </tr>\n",
       "    <tr>\n",
       "      <th>611</th>\n",
       "      <td>LP002983</td>\n",
       "      <td>1</td>\n",
       "      <td>1</td>\n",
       "      <td>1</td>\n",
       "      <td>0</td>\n",
       "      <td>0</td>\n",
       "      <td>8072</td>\n",
       "      <td>240</td>\n",
       "      <td>5.533389</td>\n",
       "      <td>360.0</td>\n",
       "      <td>1.0</td>\n",
       "      <td>2</td>\n",
       "      <td>1</td>\n",
       "      <td>9.025456</td>\n",
       "      <td>15.370526</td>\n",
       "    </tr>\n",
       "    <tr>\n",
       "      <th>612</th>\n",
       "      <td>LP002984</td>\n",
       "      <td>1</td>\n",
       "      <td>1</td>\n",
       "      <td>2</td>\n",
       "      <td>0</td>\n",
       "      <td>0</td>\n",
       "      <td>7583</td>\n",
       "      <td>0</td>\n",
       "      <td>5.231109</td>\n",
       "      <td>360.0</td>\n",
       "      <td>1.0</td>\n",
       "      <td>2</td>\n",
       "      <td>1</td>\n",
       "      <td>8.933664</td>\n",
       "      <td>14.530857</td>\n",
       "    </tr>\n",
       "    <tr>\n",
       "      <th>613</th>\n",
       "      <td>LP002990</td>\n",
       "      <td>0</td>\n",
       "      <td>0</td>\n",
       "      <td>0</td>\n",
       "      <td>0</td>\n",
       "      <td>1</td>\n",
       "      <td>4583</td>\n",
       "      <td>0</td>\n",
       "      <td>4.890349</td>\n",
       "      <td>360.0</td>\n",
       "      <td>0.0</td>\n",
       "      <td>1</td>\n",
       "      <td>0</td>\n",
       "      <td>8.430109</td>\n",
       "      <td>13.584303</td>\n",
       "    </tr>\n",
       "  </tbody>\n",
       "</table>\n",
       "<p>614 rows × 15 columns</p>\n",
       "</div>"
      ],
      "text/plain": [
       "      Loan_ID  Gender  Married  Dependents  Education  Self_Employed  \\\n",
       "0    LP001002       1        0           0          0              0   \n",
       "1    LP001003       1        1           1          0              0   \n",
       "2    LP001005       1        1           0          0              1   \n",
       "3    LP001006       1        1           0          1              0   \n",
       "4    LP001008       1        0           0          0              0   \n",
       "..        ...     ...      ...         ...        ...            ...   \n",
       "609  LP002978       0        0           0          0              0   \n",
       "610  LP002979       1        1           3          0              0   \n",
       "611  LP002983       1        1           1          0              0   \n",
       "612  LP002984       1        1           2          0              0   \n",
       "613  LP002990       0        0           0          0              1   \n",
       "\n",
       "     ApplicantIncome  CoapplicantIncome  LoanAmount  Loan_Amount_Term  \\\n",
       "0               5849                  0    4.986426             360.0   \n",
       "1               4583               1508    4.852030             360.0   \n",
       "2               3000                  0    4.189655             360.0   \n",
       "3               2583               2358    4.787492             360.0   \n",
       "4               6000                  0    4.948760             360.0   \n",
       "..               ...                ...         ...               ...   \n",
       "609             2900                  0    4.262680             360.0   \n",
       "610             4106                  0    3.688879             180.0   \n",
       "611             8072                240    5.533389             360.0   \n",
       "612             7583                  0    5.231109             360.0   \n",
       "613             4583                  0    4.890349             360.0   \n",
       "\n",
       "     Credit_History  Property_Area  Loan_Status  TotalIncome        EMI  \n",
       "0               1.0              2            1     8.674026  13.851182  \n",
       "1               1.0              0            0     8.714568  13.477862  \n",
       "2               1.0              2            1     8.006368  11.637930  \n",
       "3               1.0              2            1     8.505323  13.298588  \n",
       "4               1.0              2            1     8.699515  13.746555  \n",
       "..              ...            ...          ...          ...        ...  \n",
       "609             1.0              0            1     7.972466  11.840777  \n",
       "610             1.0              0            1     8.320205  20.493775  \n",
       "611             1.0              2            1     9.025456  15.370526  \n",
       "612             1.0              2            1     8.933664  14.530857  \n",
       "613             0.0              1            0     8.430109  13.584303  \n",
       "\n",
       "[614 rows x 15 columns]"
      ]
     },
     "execution_count": 106,
     "metadata": {},
     "output_type": "execute_result"
    }
   ],
   "source": [
    "home_loan"
   ]
  },
  {
   "cell_type": "code",
   "execution_count": 107,
   "id": "ee293dab",
   "metadata": {},
   "outputs": [
    {
     "data": {
      "text/plain": [
       "360.0    526\n",
       "180.0     44\n",
       "480.0     15\n",
       "300.0     13\n",
       "84.0       4\n",
       "240.0      4\n",
       "120.0      3\n",
       "36.0       2\n",
       "60.0       2\n",
       "12.0       1\n",
       "Name: Loan_Amount_Term, dtype: int64"
      ]
     },
     "execution_count": 107,
     "metadata": {},
     "output_type": "execute_result"
    }
   ],
   "source": [
    "home_loan.Loan_Amount_Term.value_counts(dropna=False)"
   ]
  },
  {
   "cell_type": "code",
   "execution_count": 108,
   "id": "ecdf9716",
   "metadata": {},
   "outputs": [
    {
     "data": {
      "text/plain": [
       "<AxesSubplot:>"
      ]
     },
     "execution_count": 108,
     "metadata": {},
     "output_type": "execute_result"
    },
    {
     "data": {
      "image/png": "[encoded data removed]",
      "text/plain": [
       "<Figure size 864x864 with 2 Axes>"
      ]
     },
     "metadata": {
      "needs_background": "light"
     },
     "output_type": "display_data"
    }
   ],
   "source": [
    "corr = home_loan.corr()\n",
    "plt.figure(figsize=(12,12))\n",
    "sns.heatmap(corr, annot = True, cmap= \"BuPu\")"
   ]
  },
  {
   "cell_type": "code",
   "execution_count": 109,
   "id": "81350494",
   "metadata": {},
   "outputs": [
    {
     "data": {
      "text/html": [
       "<div>\n",
       "<style scoped>\n",
       "    .dataframe tbody tr th:only-of-type {\n",
       "        vertical-align: middle;\n",
       "    }\n",
       "\n",
       "    .dataframe tbody tr th {\n",
       "        vertical-align: top;\n",
       "    }\n",
       "\n",
       "    .dataframe thead th {\n",
       "        text-align: right;\n",
       "    }\n",
       "</style>\n",
       "<table border=\"1\" class=\"dataframe\">\n",
       "  <thead>\n",
       "    <tr style=\"text-align: right;\">\n",
       "      <th></th>\n",
       "      <th>Gender</th>\n",
       "      <th>Married</th>\n",
       "      <th>Dependents</th>\n",
       "      <th>Education</th>\n",
       "      <th>Self_Employed</th>\n",
       "      <th>ApplicantIncome</th>\n",
       "      <th>CoapplicantIncome</th>\n",
       "      <th>LoanAmount</th>\n",
       "      <th>Loan_Amount_Term</th>\n",
       "      <th>Credit_History</th>\n",
       "      <th>Property_Area</th>\n",
       "      <th>Loan_Status</th>\n",
       "      <th>TotalIncome</th>\n",
       "      <th>EMI</th>\n",
       "    </tr>\n",
       "  </thead>\n",
       "  <tbody>\n",
       "    <tr>\n",
       "      <th>Gender</th>\n",
       "      <td>1.000000</td>\n",
       "      <td>0.364569</td>\n",
       "      <td>0.172914</td>\n",
       "      <td>0.045364</td>\n",
       "      <td>-0.000525</td>\n",
       "      <td>0.058809</td>\n",
       "      <td>0.082912</td>\n",
       "      <td>0.144378</td>\n",
       "      <td>-0.074030</td>\n",
       "      <td>0.009170</td>\n",
       "      <td>-0.025752</td>\n",
       "      <td>0.017987</td>\n",
       "      <td>0.167285</td>\n",
       "      <td>0.030316</td>\n",
       "    </tr>\n",
       "    <tr>\n",
       "      <th>Married</th>\n",
       "      <td>0.364569</td>\n",
       "      <td>1.000000</td>\n",
       "      <td>0.334216</td>\n",
       "      <td>0.012304</td>\n",
       "      <td>0.004489</td>\n",
       "      <td>0.051708</td>\n",
       "      <td>0.075947</td>\n",
       "      <td>0.180178</td>\n",
       "      <td>-0.100912</td>\n",
       "      <td>0.010938</td>\n",
       "      <td>0.004257</td>\n",
       "      <td>0.091478</td>\n",
       "      <td>0.151526</td>\n",
       "      <td>0.039616</td>\n",
       "    </tr>\n",
       "    <tr>\n",
       "      <th>Dependents</th>\n",
       "      <td>0.172914</td>\n",
       "      <td>0.334216</td>\n",
       "      <td>1.000000</td>\n",
       "      <td>0.055752</td>\n",
       "      <td>0.056798</td>\n",
       "      <td>0.118202</td>\n",
       "      <td>0.030429</td>\n",
       "      <td>0.156391</td>\n",
       "      <td>-0.103864</td>\n",
       "      <td>-0.040160</td>\n",
       "      <td>-0.000244</td>\n",
       "      <td>0.010118</td>\n",
       "      <td>0.112811</td>\n",
       "      <td>0.023612</td>\n",
       "    </tr>\n",
       "    <tr>\n",
       "      <th>Education</th>\n",
       "      <td>0.045364</td>\n",
       "      <td>0.012304</td>\n",
       "      <td>0.055752</td>\n",
       "      <td>1.000000</td>\n",
       "      <td>-0.010383</td>\n",
       "      <td>-0.140760</td>\n",
       "      <td>-0.062290</td>\n",
       "      <td>-0.143367</td>\n",
       "      <td>-0.073928</td>\n",
       "      <td>-0.073658</td>\n",
       "      <td>-0.065243</td>\n",
       "      <td>-0.085884</td>\n",
       "      <td>-0.204860</td>\n",
       "      <td>0.002216</td>\n",
       "    </tr>\n",
       "    <tr>\n",
       "      <th>Self_Employed</th>\n",
       "      <td>-0.000525</td>\n",
       "      <td>0.004489</td>\n",
       "      <td>0.056798</td>\n",
       "      <td>-0.010383</td>\n",
       "      <td>1.000000</td>\n",
       "      <td>0.127180</td>\n",
       "      <td>-0.016100</td>\n",
       "      <td>0.109629</td>\n",
       "      <td>-0.033739</td>\n",
       "      <td>-0.001550</td>\n",
       "      <td>-0.030860</td>\n",
       "      <td>-0.003700</td>\n",
       "      <td>0.176709</td>\n",
       "      <td>0.008613</td>\n",
       "    </tr>\n",
       "    <tr>\n",
       "      <th>ApplicantIncome</th>\n",
       "      <td>0.058809</td>\n",
       "      <td>0.051708</td>\n",
       "      <td>0.118202</td>\n",
       "      <td>-0.140760</td>\n",
       "      <td>0.127180</td>\n",
       "      <td>1.000000</td>\n",
       "      <td>-0.116604</td>\n",
       "      <td>0.434849</td>\n",
       "      <td>-0.046531</td>\n",
       "      <td>-0.018615</td>\n",
       "      <td>-0.009500</td>\n",
       "      <td>-0.004710</td>\n",
       "      <td>0.717829</td>\n",
       "      <td>0.038831</td>\n",
       "    </tr>\n",
       "    <tr>\n",
       "      <th>CoapplicantIncome</th>\n",
       "      <td>0.082912</td>\n",
       "      <td>0.075947</td>\n",
       "      <td>0.030429</td>\n",
       "      <td>-0.062290</td>\n",
       "      <td>-0.016100</td>\n",
       "      <td>-0.116604</td>\n",
       "      <td>1.000000</td>\n",
       "      <td>0.204179</td>\n",
       "      <td>-0.059382</td>\n",
       "      <td>0.011134</td>\n",
       "      <td>0.010521</td>\n",
       "      <td>-0.059188</td>\n",
       "      <td>0.383827</td>\n",
       "      <td>0.041003</td>\n",
       "    </tr>\n",
       "    <tr>\n",
       "      <th>LoanAmount</th>\n",
       "      <td>0.144378</td>\n",
       "      <td>0.180178</td>\n",
       "      <td>0.156391</td>\n",
       "      <td>-0.143367</td>\n",
       "      <td>0.109629</td>\n",
       "      <td>0.434849</td>\n",
       "      <td>0.204179</td>\n",
       "      <td>1.000000</td>\n",
       "      <td>0.084616</td>\n",
       "      <td>-0.019542</td>\n",
       "      <td>-0.092798</td>\n",
       "      <td>-0.041874</td>\n",
       "      <td>0.657508</td>\n",
       "      <td>0.049935</td>\n",
       "    </tr>\n",
       "    <tr>\n",
       "      <th>Loan_Amount_Term</th>\n",
       "      <td>-0.074030</td>\n",
       "      <td>-0.100912</td>\n",
       "      <td>-0.103864</td>\n",
       "      <td>-0.073928</td>\n",
       "      <td>-0.033739</td>\n",
       "      <td>-0.046531</td>\n",
       "      <td>-0.059382</td>\n",
       "      <td>0.084616</td>\n",
       "      <td>1.000000</td>\n",
       "      <td>-0.004705</td>\n",
       "      <td>-0.076120</td>\n",
       "      <td>-0.022549</td>\n",
       "      <td>-0.056042</td>\n",
       "      <td>-0.562348</td>\n",
       "    </tr>\n",
       "    <tr>\n",
       "      <th>Credit_History</th>\n",
       "      <td>0.009170</td>\n",
       "      <td>0.010938</td>\n",
       "      <td>-0.040160</td>\n",
       "      <td>-0.073658</td>\n",
       "      <td>-0.001550</td>\n",
       "      <td>-0.018615</td>\n",
       "      <td>0.011134</td>\n",
       "      <td>-0.019542</td>\n",
       "      <td>-0.004705</td>\n",
       "      <td>1.000000</td>\n",
       "      <td>0.001963</td>\n",
       "      <td>0.540556</td>\n",
       "      <td>0.020790</td>\n",
       "      <td>0.024442</td>\n",
       "    </tr>\n",
       "    <tr>\n",
       "      <th>Property_Area</th>\n",
       "      <td>-0.025752</td>\n",
       "      <td>0.004257</td>\n",
       "      <td>-0.000244</td>\n",
       "      <td>-0.065243</td>\n",
       "      <td>-0.030860</td>\n",
       "      <td>-0.009500</td>\n",
       "      <td>0.010521</td>\n",
       "      <td>-0.092798</td>\n",
       "      <td>-0.076120</td>\n",
       "      <td>0.001963</td>\n",
       "      <td>1.000000</td>\n",
       "      <td>0.032112</td>\n",
       "      <td>-0.046246</td>\n",
       "      <td>0.060814</td>\n",
       "    </tr>\n",
       "    <tr>\n",
       "      <th>Loan_Status</th>\n",
       "      <td>0.017987</td>\n",
       "      <td>0.091478</td>\n",
       "      <td>0.010118</td>\n",
       "      <td>-0.085884</td>\n",
       "      <td>-0.003700</td>\n",
       "      <td>-0.004710</td>\n",
       "      <td>-0.059188</td>\n",
       "      <td>-0.041874</td>\n",
       "      <td>-0.022549</td>\n",
       "      <td>0.540556</td>\n",
       "      <td>0.032112</td>\n",
       "      <td>1.000000</td>\n",
       "      <td>0.007240</td>\n",
       "      <td>0.001140</td>\n",
       "    </tr>\n",
       "    <tr>\n",
       "      <th>TotalIncome</th>\n",
       "      <td>0.167285</td>\n",
       "      <td>0.151526</td>\n",
       "      <td>0.112811</td>\n",
       "      <td>-0.204860</td>\n",
       "      <td>0.176709</td>\n",
       "      <td>0.717829</td>\n",
       "      <td>0.383827</td>\n",
       "      <td>0.657508</td>\n",
       "      <td>-0.056042</td>\n",
       "      <td>0.020790</td>\n",
       "      <td>-0.046246</td>\n",
       "      <td>0.007240</td>\n",
       "      <td>1.000000</td>\n",
       "      <td>0.069646</td>\n",
       "    </tr>\n",
       "    <tr>\n",
       "      <th>EMI</th>\n",
       "      <td>0.030316</td>\n",
       "      <td>0.039616</td>\n",
       "      <td>0.023612</td>\n",
       "      <td>0.002216</td>\n",
       "      <td>0.008613</td>\n",
       "      <td>0.038831</td>\n",
       "      <td>0.041003</td>\n",
       "      <td>0.049935</td>\n",
       "      <td>-0.562348</td>\n",
       "      <td>0.024442</td>\n",
       "      <td>0.060814</td>\n",
       "      <td>0.001140</td>\n",
       "      <td>0.069646</td>\n",
       "      <td>1.000000</td>\n",
       "    </tr>\n",
       "  </tbody>\n",
       "</table>\n",
       "</div>"
      ],
      "text/plain": [
       "                     Gender   Married  Dependents  Education  Self_Employed  \\\n",
       "Gender             1.000000  0.364569    0.172914   0.045364      -0.000525   \n",
       "Married            0.364569  1.000000    0.334216   0.012304       0.004489   \n",
       "Dependents         0.172914  0.334216    1.000000   0.055752       0.056798   \n",
       "Education          0.045364  0.012304    0.055752   1.000000      -0.010383   \n",
       "Self_Employed     -0.000525  0.004489    0.056798  -0.010383       1.000000   \n",
       "ApplicantIncome    0.058809  0.051708    0.118202  -0.140760       0.127180   \n",
       "CoapplicantIncome  0.082912  0.075947    0.030429  -0.062290      -0.016100   \n",
       "LoanAmount         0.144378  0.180178    0.156391  -0.143367       0.109629   \n",
       "Loan_Amount_Term  -0.074030 -0.100912   -0.103864  -0.073928      -0.033739   \n",
       "Credit_History     0.009170  0.010938   -0.040160  -0.073658      -0.001550   \n",
       "Property_Area     -0.025752  0.004257   -0.000244  -0.065243      -0.030860   \n",
       "Loan_Status        0.017987  0.091478    0.010118  -0.085884      -0.003700   \n",
       "TotalIncome        0.167285  0.151526    0.112811  -0.204860       0.176709   \n",
       "EMI                0.030316  0.039616    0.023612   0.002216       0.008613   \n",
       "\n",
       "                   ApplicantIncome  CoapplicantIncome  LoanAmount  \\\n",
       "Gender                    0.058809           0.082912    0.144378   \n",
       "Married                   0.051708           0.075947    0.180178   \n",
       "Dependents                0.118202           0.030429    0.156391   \n",
       "Education                -0.140760          -0.062290   -0.143367   \n",
       "Self_Employed             0.127180          -0.016100    0.109629   \n",
       "ApplicantIncome           1.000000          -0.116604    0.434849   \n",
       "CoapplicantIncome        -0.116604           1.000000    0.204179   \n",
       "LoanAmount                0.434849           0.204179    1.000000   \n",
       "Loan_Amount_Term         -0.046531          -0.059382    0.084616   \n",
       "Credit_History           -0.018615           0.011134   -0.019542   \n",
       "Property_Area            -0.009500           0.010521   -0.092798   \n",
       "Loan_Status              -0.004710          -0.059188   -0.041874   \n",
       "TotalIncome               0.717829           0.383827    0.657508   \n",
       "EMI                       0.038831           0.041003    0.049935   \n",
       "\n",
       "                   Loan_Amount_Term  Credit_History  Property_Area  \\\n",
       "Gender                    -0.074030        0.009170      -0.025752   \n",
       "Married                   -0.100912        0.010938       0.004257   \n",
       "Dependents                -0.103864       -0.040160      -0.000244   \n",
       "Education                 -0.073928       -0.073658      -0.065243   \n",
       "Self_Employed             -0.033739       -0.001550      -0.030860   \n",
       "ApplicantIncome           -0.046531       -0.018615      -0.009500   \n",
       "CoapplicantIncome         -0.059382        0.011134       0.010521   \n",
       "LoanAmount                 0.084616       -0.019542      -0.092798   \n",
       "Loan_Amount_Term           1.000000       -0.004705      -0.076120   \n",
       "Credit_History            -0.004705        1.000000       0.001963   \n",
       "Property_Area             -0.076120        0.001963       1.000000   \n",
       "Loan_Status               -0.022549        0.540556       0.032112   \n",
       "TotalIncome               -0.056042        0.020790      -0.046246   \n",
       "EMI                       -0.562348        0.024442       0.060814   \n",
       "\n",
       "                   Loan_Status  TotalIncome       EMI  \n",
       "Gender                0.017987     0.167285  0.030316  \n",
       "Married               0.091478     0.151526  0.039616  \n",
       "Dependents            0.010118     0.112811  0.023612  \n",
       "Education            -0.085884    -0.204860  0.002216  \n",
       "Self_Employed        -0.003700     0.176709  0.008613  \n",
       "ApplicantIncome      -0.004710     0.717829  0.038831  \n",
       "CoapplicantIncome    -0.059188     0.383827  0.041003  \n",
       "LoanAmount           -0.041874     0.657508  0.049935  \n",
       "Loan_Amount_Term     -0.022549    -0.056042 -0.562348  \n",
       "Credit_History        0.540556     0.020790  0.024442  \n",
       "Property_Area         0.032112    -0.046246  0.060814  \n",
       "Loan_Status           1.000000     0.007240  0.001140  \n",
       "TotalIncome           0.007240     1.000000  0.069646  \n",
       "EMI                   0.001140     0.069646  1.000000  "
      ]
     },
     "execution_count": 109,
     "metadata": {},
     "output_type": "execute_result"
    }
   ],
   "source": [
    "home_loan.corr()"
   ]
  },
  {
   "cell_type": "code",
   "execution_count": 110,
   "id": "530b558c",
   "metadata": {},
   "outputs": [
    {
     "data": {
      "text/plain": [
       "0.01798667870703216"
      ]
     },
     "execution_count": 110,
     "metadata": {},
     "output_type": "execute_result"
    }
   ],
   "source": [
    "home_loan['Loan_Status'].corr(home_loan['Gender'])"
   ]
  },
  {
   "cell_type": "code",
   "execution_count": 111,
   "id": "6a643991",
   "metadata": {},
   "outputs": [
    {
     "data": {
      "text/plain": [
       "0.09147782473606036"
      ]
     },
     "execution_count": 111,
     "metadata": {},
     "output_type": "execute_result"
    }
   ],
   "source": [
    "home_loan['Loan_Status'].corr(home_loan['Married'])"
   ]
  },
  {
   "cell_type": "code",
   "execution_count": 112,
   "id": "93be32d6",
   "metadata": {},
   "outputs": [
    {
     "data": {
      "text/plain": [
       "0.010118454497004551"
      ]
     },
     "execution_count": 112,
     "metadata": {},
     "output_type": "execute_result"
    }
   ],
   "source": [
    "home_loan['Loan_Status'].corr(home_loan['Dependents'])"
   ]
  },
  {
   "cell_type": "code",
   "execution_count": 113,
   "id": "781b6f01",
   "metadata": {},
   "outputs": [
    {
     "data": {
      "text/plain": [
       "-0.0858839146753654"
      ]
     },
     "execution_count": 113,
     "metadata": {},
     "output_type": "execute_result"
    }
   ],
   "source": [
    "home_loan['Loan_Status'].corr(home_loan['Education'])"
   ]
  },
  {
   "cell_type": "code",
   "execution_count": 114,
   "id": "b1c62e94",
   "metadata": {},
   "outputs": [
    {
     "data": {
      "text/plain": [
       "-0.0037004377149821312"
      ]
     },
     "execution_count": 114,
     "metadata": {},
     "output_type": "execute_result"
    }
   ],
   "source": [
    "home_loan['Loan_Status'].corr(home_loan['Self_Employed'])"
   ]
  },
  {
   "cell_type": "code",
   "execution_count": 115,
   "id": "76695b72",
   "metadata": {},
   "outputs": [
    {
     "data": {
      "text/plain": [
       "-0.004709522659351541"
      ]
     },
     "execution_count": 115,
     "metadata": {},
     "output_type": "execute_result"
    }
   ],
   "source": [
    "home_loan['Loan_Status'].corr(home_loan['ApplicantIncome'])"
   ]
  },
  {
   "cell_type": "code",
   "execution_count": 116,
   "id": "050e9867",
   "metadata": {},
   "outputs": [
    {
     "data": {
      "text/plain": [
       "-0.05918765124189558"
      ]
     },
     "execution_count": 116,
     "metadata": {},
     "output_type": "execute_result"
    }
   ],
   "source": [
    "home_loan['Loan_Status'].corr(home_loan['CoapplicantIncome'])"
   ]
  },
  {
   "cell_type": "code",
   "execution_count": 117,
   "id": "98eb1cb6",
   "metadata": {},
   "outputs": [
    {
     "data": {
      "text/plain": [
       "0.007239517007191832"
      ]
     },
     "execution_count": 117,
     "metadata": {},
     "output_type": "execute_result"
    }
   ],
   "source": [
    "home_loan['Loan_Status'].corr(home_loan['TotalIncome'])"
   ]
  },
  {
   "cell_type": "code",
   "execution_count": 118,
   "id": "0ef7d7a6",
   "metadata": {},
   "outputs": [
    {
     "data": {
      "text/plain": [
       "0.03211198462880024"
      ]
     },
     "execution_count": 118,
     "metadata": {},
     "output_type": "execute_result"
    }
   ],
   "source": [
    "home_loan['Loan_Status'].corr(home_loan['Property_Area'])"
   ]
  },
  {
   "cell_type": "code",
   "execution_count": 119,
   "id": "a38af3c1",
   "metadata": {},
   "outputs": [
    {
     "data": {
      "text/plain": [
       "0.5405560719222504"
      ]
     },
     "execution_count": 119,
     "metadata": {},
     "output_type": "execute_result"
    }
   ],
   "source": [
    "home_loan['Loan_Status'].corr(home_loan['Credit_History'])"
   ]
  },
  {
   "cell_type": "code",
   "execution_count": 120,
   "id": "dfae0a79",
   "metadata": {},
   "outputs": [
    {
     "data": {
      "text/plain": [
       "-0.04187358290777825"
      ]
     },
     "execution_count": 120,
     "metadata": {},
     "output_type": "execute_result"
    }
   ],
   "source": [
    "home_loan['Loan_Status'].corr(home_loan['LoanAmount'])"
   ]
  },
  {
   "cell_type": "code",
   "execution_count": 121,
   "id": "d28e3943",
   "metadata": {},
   "outputs": [
    {
     "data": {
      "text/plain": [
       "-0.022548993503422644"
      ]
     },
     "execution_count": 121,
     "metadata": {},
     "output_type": "execute_result"
    }
   ],
   "source": [
    "home_loan['Loan_Status'].corr(home_loan['Loan_Amount_Term'])"
   ]
  },
  {
   "cell_type": "markdown",
   "id": "593ac90a",
   "metadata": {},
   "source": [
    "**5. BALANCE INCOME**"
   ]
  },
  {
   "cell_type": "code",
   "execution_count": 122,
   "id": "8efea57a",
   "metadata": {},
   "outputs": [],
   "source": [
    "home_loan[\"Balance_Income\"] = home_loan[\"TotalIncome\"]-home_loan[\"EMI\"]"
   ]
  },
  {
   "cell_type": "code",
   "execution_count": 123,
   "id": "7ed05185",
   "metadata": {},
   "outputs": [
    {
     "data": {
      "text/plain": [
       "0   -5.177156\n",
       "1   -4.763294\n",
       "2   -3.631562\n",
       "3   -4.793265\n",
       "4   -5.047041\n",
       "Name: Balance_Income, dtype: float64"
      ]
     },
     "execution_count": 123,
     "metadata": {},
     "output_type": "execute_result"
    }
   ],
   "source": [
    "home_loan[\"Balance_Income\"].head()"
   ]
  },
  {
   "cell_type": "markdown",
   "id": "957c9990",
   "metadata": {},
   "source": [
    "**Drop the correlated features to remove the noise from the dataset**"
   ]
  },
  {
   "cell_type": "code",
   "execution_count": 124,
   "id": "fa780e2c",
   "metadata": {},
   "outputs": [],
   "source": [
    "home_loan.drop(['Loan_ID','ApplicantIncome','CoapplicantIncome'], axis=1, inplace=True)"
   ]
  },
  {
   "cell_type": "markdown",
   "id": "da30f9fd",
   "metadata": {},
   "source": [
    "**6. DEBT TO INCOME RATIO(DTI)**"
   ]
  },
  {
   "cell_type": "code",
   "execution_count": 125,
   "id": "9fc3584e",
   "metadata": {},
   "outputs": [],
   "source": [
    "home_loan[\"DTI\"]= (home_loan[\"EMI\"]/home_loan[\"TotalIncome\"])*100"
   ]
  },
  {
   "cell_type": "code",
   "execution_count": 126,
   "id": "3f15460d",
   "metadata": {},
   "outputs": [
    {
     "data": {
      "text/plain": [
       "0      159.685738\n",
       "1      154.658986\n",
       "2      145.358426\n",
       "3      156.356062\n",
       "4      158.015196\n",
       "          ...    \n",
       "609    148.520889\n",
       "610    246.313351\n",
       "611    170.301945\n",
       "612    162.652826\n",
       "613    161.140301\n",
       "Name: DTI, Length: 614, dtype: float64"
      ]
     },
     "execution_count": 126,
     "metadata": {},
     "output_type": "execute_result"
    }
   ],
   "source": [
    "home_loan[\"DTI\"]"
   ]
  },
  {
   "cell_type": "code",
   "execution_count": 127,
   "id": "3f2e8980",
   "metadata": {},
   "outputs": [
    {
     "data": {
      "text/html": [
       "<div>\n",
       "<style scoped>\n",
       "    .dataframe tbody tr th:only-of-type {\n",
       "        vertical-align: middle;\n",
       "    }\n",
       "\n",
       "    .dataframe tbody tr th {\n",
       "        vertical-align: top;\n",
       "    }\n",
       "\n",
       "    .dataframe thead th {\n",
       "        text-align: right;\n",
       "    }\n",
       "</style>\n",
       "<table border=\"1\" class=\"dataframe\">\n",
       "  <thead>\n",
       "    <tr style=\"text-align: right;\">\n",
       "      <th></th>\n",
       "      <th>Gender</th>\n",
       "      <th>Married</th>\n",
       "      <th>Dependents</th>\n",
       "      <th>Education</th>\n",
       "      <th>Self_Employed</th>\n",
       "      <th>LoanAmount</th>\n",
       "      <th>Loan_Amount_Term</th>\n",
       "      <th>Credit_History</th>\n",
       "      <th>Property_Area</th>\n",
       "      <th>Loan_Status</th>\n",
       "      <th>TotalIncome</th>\n",
       "      <th>EMI</th>\n",
       "      <th>Balance_Income</th>\n",
       "      <th>DTI</th>\n",
       "    </tr>\n",
       "  </thead>\n",
       "  <tbody>\n",
       "    <tr>\n",
       "      <th>0</th>\n",
       "      <td>1</td>\n",
       "      <td>0</td>\n",
       "      <td>0</td>\n",
       "      <td>0</td>\n",
       "      <td>0</td>\n",
       "      <td>4.986426</td>\n",
       "      <td>360.0</td>\n",
       "      <td>1.0</td>\n",
       "      <td>2</td>\n",
       "      <td>1</td>\n",
       "      <td>8.674026</td>\n",
       "      <td>13.851182</td>\n",
       "      <td>-5.177156</td>\n",
       "      <td>159.685738</td>\n",
       "    </tr>\n",
       "    <tr>\n",
       "      <th>1</th>\n",
       "      <td>1</td>\n",
       "      <td>1</td>\n",
       "      <td>1</td>\n",
       "      <td>0</td>\n",
       "      <td>0</td>\n",
       "      <td>4.852030</td>\n",
       "      <td>360.0</td>\n",
       "      <td>1.0</td>\n",
       "      <td>0</td>\n",
       "      <td>0</td>\n",
       "      <td>8.714568</td>\n",
       "      <td>13.477862</td>\n",
       "      <td>-4.763294</td>\n",
       "      <td>154.658986</td>\n",
       "    </tr>\n",
       "    <tr>\n",
       "      <th>2</th>\n",
       "      <td>1</td>\n",
       "      <td>1</td>\n",
       "      <td>0</td>\n",
       "      <td>0</td>\n",
       "      <td>1</td>\n",
       "      <td>4.189655</td>\n",
       "      <td>360.0</td>\n",
       "      <td>1.0</td>\n",
       "      <td>2</td>\n",
       "      <td>1</td>\n",
       "      <td>8.006368</td>\n",
       "      <td>11.637930</td>\n",
       "      <td>-3.631562</td>\n",
       "      <td>145.358426</td>\n",
       "    </tr>\n",
       "    <tr>\n",
       "      <th>3</th>\n",
       "      <td>1</td>\n",
       "      <td>1</td>\n",
       "      <td>0</td>\n",
       "      <td>1</td>\n",
       "      <td>0</td>\n",
       "      <td>4.787492</td>\n",
       "      <td>360.0</td>\n",
       "      <td>1.0</td>\n",
       "      <td>2</td>\n",
       "      <td>1</td>\n",
       "      <td>8.505323</td>\n",
       "      <td>13.298588</td>\n",
       "      <td>-4.793265</td>\n",
       "      <td>156.356062</td>\n",
       "    </tr>\n",
       "    <tr>\n",
       "      <th>4</th>\n",
       "      <td>1</td>\n",
       "      <td>0</td>\n",
       "      <td>0</td>\n",
       "      <td>0</td>\n",
       "      <td>0</td>\n",
       "      <td>4.948760</td>\n",
       "      <td>360.0</td>\n",
       "      <td>1.0</td>\n",
       "      <td>2</td>\n",
       "      <td>1</td>\n",
       "      <td>8.699515</td>\n",
       "      <td>13.746555</td>\n",
       "      <td>-5.047041</td>\n",
       "      <td>158.015196</td>\n",
       "    </tr>\n",
       "  </tbody>\n",
       "</table>\n",
       "</div>"
      ],
      "text/plain": [
       "   Gender  Married  Dependents  Education  Self_Employed  LoanAmount  \\\n",
       "0       1        0           0          0              0    4.986426   \n",
       "1       1        1           1          0              0    4.852030   \n",
       "2       1        1           0          0              1    4.189655   \n",
       "3       1        1           0          1              0    4.787492   \n",
       "4       1        0           0          0              0    4.948760   \n",
       "\n",
       "   Loan_Amount_Term  Credit_History  Property_Area  Loan_Status  TotalIncome  \\\n",
       "0             360.0             1.0              2            1     8.674026   \n",
       "1             360.0             1.0              0            0     8.714568   \n",
       "2             360.0             1.0              2            1     8.006368   \n",
       "3             360.0             1.0              2            1     8.505323   \n",
       "4             360.0             1.0              2            1     8.699515   \n",
       "\n",
       "         EMI  Balance_Income         DTI  \n",
       "0  13.851182       -5.177156  159.685738  \n",
       "1  13.477862       -4.763294  154.658986  \n",
       "2  11.637930       -3.631562  145.358426  \n",
       "3  13.298588       -4.793265  156.356062  \n",
       "4  13.746555       -5.047041  158.015196  "
      ]
     },
     "execution_count": 127,
     "metadata": {},
     "output_type": "execute_result"
    }
   ],
   "source": [
    "home_loan.head()"
   ]
  },
  {
   "cell_type": "markdown",
   "id": "58f18613",
   "metadata": {},
   "source": [
    "**MODELING**"
   ]
  },
  {
   "cell_type": "markdown",
   "id": "07b1b1d6",
   "metadata": {},
   "source": [
    "After creating new features, we can continue the model building process. We will start with logistic regression model and then move over to RandomForest and Decision Tree model."
   ]
  },
  {
   "cell_type": "markdown",
   "id": "8b8ba810",
   "metadata": {},
   "source": [
    "**TRAIN-TEST SPLIT**"
   ]
  },
  {
   "cell_type": "markdown",
   "id": "94d16cef",
   "metadata": {},
   "source": [
    "We will split our dataset into training and test set in the ratio of 70:30 respectively.Then we will train the model on the training dataset and make predictions for the test dataset."
   ]
  },
  {
   "cell_type": "markdown",
   "id": "2a26cd22",
   "metadata": {},
   "source": [
    "**IMPORT the required libraries**"
   ]
  },
  {
   "cell_type": "code",
   "execution_count": 128,
   "id": "2bc10668",
   "metadata": {},
   "outputs": [],
   "source": [
    "from sklearn.datasets import make_classification\n",
    "from sklearn.linear_model import LogisticRegression\n",
    "from sklearn.model_selection import train_test_split\n",
    "from sklearn.metrics import roc_curve\n",
    "from sklearn.metrics import accuracy_score\n",
    "from sklearn.pipeline import make_pipeline"
   ]
  },
  {
   "cell_type": "markdown",
   "id": "a174ac56",
   "metadata": {},
   "source": [
    "**Separating the data and labels**"
   ]
  },
  {
   "cell_type": "code",
   "execution_count": 129,
   "id": "ba015a23",
   "metadata": {},
   "outputs": [],
   "source": [
    "X = home_loan.drop(columns = 'Loan_Status', axis=1)\n",
    "y = home_loan['Loan_Status']"
   ]
  },
  {
   "cell_type": "code",
   "execution_count": 130,
   "id": "4c646b23",
   "metadata": {},
   "outputs": [
    {
     "data": {
      "text/html": [
       "<div>\n",
       "<style scoped>\n",
       "    .dataframe tbody tr th:only-of-type {\n",
       "        vertical-align: middle;\n",
       "    }\n",
       "\n",
       "    .dataframe tbody tr th {\n",
       "        vertical-align: top;\n",
       "    }\n",
       "\n",
       "    .dataframe thead th {\n",
       "        text-align: right;\n",
       "    }\n",
       "</style>\n",
       "<table border=\"1\" class=\"dataframe\">\n",
       "  <thead>\n",
       "    <tr style=\"text-align: right;\">\n",
       "      <th></th>\n",
       "      <th>Gender</th>\n",
       "      <th>Married</th>\n",
       "      <th>Dependents</th>\n",
       "      <th>Education</th>\n",
       "      <th>Self_Employed</th>\n",
       "      <th>LoanAmount</th>\n",
       "      <th>Loan_Amount_Term</th>\n",
       "      <th>Credit_History</th>\n",
       "      <th>Property_Area</th>\n",
       "      <th>TotalIncome</th>\n",
       "      <th>EMI</th>\n",
       "      <th>Balance_Income</th>\n",
       "      <th>DTI</th>\n",
       "    </tr>\n",
       "  </thead>\n",
       "  <tbody>\n",
       "    <tr>\n",
       "      <th>0</th>\n",
       "      <td>1</td>\n",
       "      <td>0</td>\n",
       "      <td>0</td>\n",
       "      <td>0</td>\n",
       "      <td>0</td>\n",
       "      <td>4.986426</td>\n",
       "      <td>360.0</td>\n",
       "      <td>1.0</td>\n",
       "      <td>2</td>\n",
       "      <td>8.674026</td>\n",
       "      <td>13.851182</td>\n",
       "      <td>-5.177156</td>\n",
       "      <td>159.685738</td>\n",
       "    </tr>\n",
       "    <tr>\n",
       "      <th>1</th>\n",
       "      <td>1</td>\n",
       "      <td>1</td>\n",
       "      <td>1</td>\n",
       "      <td>0</td>\n",
       "      <td>0</td>\n",
       "      <td>4.852030</td>\n",
       "      <td>360.0</td>\n",
       "      <td>1.0</td>\n",
       "      <td>0</td>\n",
       "      <td>8.714568</td>\n",
       "      <td>13.477862</td>\n",
       "      <td>-4.763294</td>\n",
       "      <td>154.658986</td>\n",
       "    </tr>\n",
       "    <tr>\n",
       "      <th>2</th>\n",
       "      <td>1</td>\n",
       "      <td>1</td>\n",
       "      <td>0</td>\n",
       "      <td>0</td>\n",
       "      <td>1</td>\n",
       "      <td>4.189655</td>\n",
       "      <td>360.0</td>\n",
       "      <td>1.0</td>\n",
       "      <td>2</td>\n",
       "      <td>8.006368</td>\n",
       "      <td>11.637930</td>\n",
       "      <td>-3.631562</td>\n",
       "      <td>145.358426</td>\n",
       "    </tr>\n",
       "    <tr>\n",
       "      <th>3</th>\n",
       "      <td>1</td>\n",
       "      <td>1</td>\n",
       "      <td>0</td>\n",
       "      <td>1</td>\n",
       "      <td>0</td>\n",
       "      <td>4.787492</td>\n",
       "      <td>360.0</td>\n",
       "      <td>1.0</td>\n",
       "      <td>2</td>\n",
       "      <td>8.505323</td>\n",
       "      <td>13.298588</td>\n",
       "      <td>-4.793265</td>\n",
       "      <td>156.356062</td>\n",
       "    </tr>\n",
       "    <tr>\n",
       "      <th>4</th>\n",
       "      <td>1</td>\n",
       "      <td>0</td>\n",
       "      <td>0</td>\n",
       "      <td>0</td>\n",
       "      <td>0</td>\n",
       "      <td>4.948760</td>\n",
       "      <td>360.0</td>\n",
       "      <td>1.0</td>\n",
       "      <td>2</td>\n",
       "      <td>8.699515</td>\n",
       "      <td>13.746555</td>\n",
       "      <td>-5.047041</td>\n",
       "      <td>158.015196</td>\n",
       "    </tr>\n",
       "    <tr>\n",
       "      <th>...</th>\n",
       "      <td>...</td>\n",
       "      <td>...</td>\n",
       "      <td>...</td>\n",
       "      <td>...</td>\n",
       "      <td>...</td>\n",
       "      <td>...</td>\n",
       "      <td>...</td>\n",
       "      <td>...</td>\n",
       "      <td>...</td>\n",
       "      <td>...</td>\n",
       "      <td>...</td>\n",
       "      <td>...</td>\n",
       "      <td>...</td>\n",
       "    </tr>\n",
       "    <tr>\n",
       "      <th>609</th>\n",
       "      <td>0</td>\n",
       "      <td>0</td>\n",
       "      <td>0</td>\n",
       "      <td>0</td>\n",
       "      <td>0</td>\n",
       "      <td>4.262680</td>\n",
       "      <td>360.0</td>\n",
       "      <td>1.0</td>\n",
       "      <td>0</td>\n",
       "      <td>7.972466</td>\n",
       "      <td>11.840777</td>\n",
       "      <td>-3.868311</td>\n",
       "      <td>148.520889</td>\n",
       "    </tr>\n",
       "    <tr>\n",
       "      <th>610</th>\n",
       "      <td>1</td>\n",
       "      <td>1</td>\n",
       "      <td>3</td>\n",
       "      <td>0</td>\n",
       "      <td>0</td>\n",
       "      <td>3.688879</td>\n",
       "      <td>180.0</td>\n",
       "      <td>1.0</td>\n",
       "      <td>0</td>\n",
       "      <td>8.320205</td>\n",
       "      <td>20.493775</td>\n",
       "      <td>-12.173570</td>\n",
       "      <td>246.313351</td>\n",
       "    </tr>\n",
       "    <tr>\n",
       "      <th>611</th>\n",
       "      <td>1</td>\n",
       "      <td>1</td>\n",
       "      <td>1</td>\n",
       "      <td>0</td>\n",
       "      <td>0</td>\n",
       "      <td>5.533389</td>\n",
       "      <td>360.0</td>\n",
       "      <td>1.0</td>\n",
       "      <td>2</td>\n",
       "      <td>9.025456</td>\n",
       "      <td>15.370526</td>\n",
       "      <td>-6.345071</td>\n",
       "      <td>170.301945</td>\n",
       "    </tr>\n",
       "    <tr>\n",
       "      <th>612</th>\n",
       "      <td>1</td>\n",
       "      <td>1</td>\n",
       "      <td>2</td>\n",
       "      <td>0</td>\n",
       "      <td>0</td>\n",
       "      <td>5.231109</td>\n",
       "      <td>360.0</td>\n",
       "      <td>1.0</td>\n",
       "      <td>2</td>\n",
       "      <td>8.933664</td>\n",
       "      <td>14.530857</td>\n",
       "      <td>-5.597193</td>\n",
       "      <td>162.652826</td>\n",
       "    </tr>\n",
       "    <tr>\n",
       "      <th>613</th>\n",
       "      <td>0</td>\n",
       "      <td>0</td>\n",
       "      <td>0</td>\n",
       "      <td>0</td>\n",
       "      <td>1</td>\n",
       "      <td>4.890349</td>\n",
       "      <td>360.0</td>\n",
       "      <td>0.0</td>\n",
       "      <td>1</td>\n",
       "      <td>8.430109</td>\n",
       "      <td>13.584303</td>\n",
       "      <td>-5.154194</td>\n",
       "      <td>161.140301</td>\n",
       "    </tr>\n",
       "  </tbody>\n",
       "</table>\n",
       "<p>614 rows × 13 columns</p>\n",
       "</div>"
      ],
      "text/plain": [
       "     Gender  Married  Dependents  Education  Self_Employed  LoanAmount  \\\n",
       "0         1        0           0          0              0    4.986426   \n",
       "1         1        1           1          0              0    4.852030   \n",
       "2         1        1           0          0              1    4.189655   \n",
       "3         1        1           0          1              0    4.787492   \n",
       "4         1        0           0          0              0    4.948760   \n",
       "..      ...      ...         ...        ...            ...         ...   \n",
       "609       0        0           0          0              0    4.262680   \n",
       "610       1        1           3          0              0    3.688879   \n",
       "611       1        1           1          0              0    5.533389   \n",
       "612       1        1           2          0              0    5.231109   \n",
       "613       0        0           0          0              1    4.890349   \n",
       "\n",
       "     Loan_Amount_Term  Credit_History  Property_Area  TotalIncome        EMI  \\\n",
       "0               360.0             1.0              2     8.674026  13.851182   \n",
       "1               360.0             1.0              0     8.714568  13.477862   \n",
       "2               360.0             1.0              2     8.006368  11.637930   \n",
       "3               360.0             1.0              2     8.505323  13.298588   \n",
       "4               360.0             1.0              2     8.699515  13.746555   \n",
       "..                ...             ...            ...          ...        ...   \n",
       "609             360.0             1.0              0     7.972466  11.840777   \n",
       "610             180.0             1.0              0     8.320205  20.493775   \n",
       "611             360.0             1.0              2     9.025456  15.370526   \n",
       "612             360.0             1.0              2     8.933664  14.530857   \n",
       "613             360.0             0.0              1     8.430109  13.584303   \n",
       "\n",
       "     Balance_Income         DTI  \n",
       "0         -5.177156  159.685738  \n",
       "1         -4.763294  154.658986  \n",
       "2         -3.631562  145.358426  \n",
       "3         -4.793265  156.356062  \n",
       "4         -5.047041  158.015196  \n",
       "..              ...         ...  \n",
       "609       -3.868311  148.520889  \n",
       "610      -12.173570  246.313351  \n",
       "611       -6.345071  170.301945  \n",
       "612       -5.597193  162.652826  \n",
       "613       -5.154194  161.140301  \n",
       "\n",
       "[614 rows x 13 columns]"
      ]
     },
     "execution_count": 130,
     "metadata": {},
     "output_type": "execute_result"
    }
   ],
   "source": [
    "X"
   ]
  },
  {
   "cell_type": "code",
   "execution_count": 131,
   "id": "ab7706b2",
   "metadata": {},
   "outputs": [
    {
     "data": {
      "text/plain": [
       "0      1\n",
       "1      0\n",
       "2      1\n",
       "3      1\n",
       "4      1\n",
       "      ..\n",
       "609    1\n",
       "610    1\n",
       "611    1\n",
       "612    1\n",
       "613    0\n",
       "Name: Loan_Status, Length: 614, dtype: int32"
      ]
     },
     "execution_count": 131,
     "metadata": {},
     "output_type": "execute_result"
    }
   ],
   "source": [
    "y"
   ]
  },
  {
   "cell_type": "code",
   "execution_count": 132,
   "id": "ff8bc90e",
   "metadata": {},
   "outputs": [],
   "source": [
    "X_train, X_test, y_train, y_test = train_test_split(X,y, test_size =0.3, random_state=1)"
   ]
  },
  {
   "cell_type": "code",
   "execution_count": 133,
   "id": "59662342",
   "metadata": {},
   "outputs": [
    {
     "data": {
      "text/plain": [
       "429"
      ]
     },
     "execution_count": 133,
     "metadata": {},
     "output_type": "execute_result"
    }
   ],
   "source": [
    "len(X_train)"
   ]
  },
  {
   "cell_type": "code",
   "execution_count": 134,
   "id": "1b8c8b77",
   "metadata": {},
   "outputs": [
    {
     "data": {
      "text/plain": [
       "185"
      ]
     },
     "execution_count": 134,
     "metadata": {},
     "output_type": "execute_result"
    }
   ],
   "source": [
    "len(X_test)"
   ]
  },
  {
   "cell_type": "markdown",
   "id": "e05b2a73",
   "metadata": {},
   "source": [
    "**FIT THE MODEL**"
   ]
  },
  {
   "cell_type": "markdown",
   "id": "cfccf708",
   "metadata": {},
   "source": [
    "**1. LOGISTIC REGRESSION**"
   ]
  },
  {
   "cell_type": "code",
   "execution_count": 135,
   "id": "d7a4eafc",
   "metadata": {},
   "outputs": [],
   "source": [
    "logistic_model = LogisticRegression()"
   ]
  },
  {
   "cell_type": "code",
   "execution_count": 136,
   "id": "08e6b462",
   "metadata": {},
   "outputs": [],
   "source": [
    "X, y = make_classification()"
   ]
  },
  {
   "cell_type": "code",
   "execution_count": 137,
   "id": "f15521dc",
   "metadata": {},
   "outputs": [],
   "source": [
    "pipe = make_pipeline(StandardScaler(),LogisticRegression())"
   ]
  },
  {
   "cell_type": "code",
   "execution_count": 138,
   "id": "700a5d0b",
   "metadata": {},
   "outputs": [
    {
     "data": {
      "text/plain": [
       "Pipeline(steps=[('standardscaler', StandardScaler()),\n",
       "                ('logisticregression', LogisticRegression())])"
      ]
     },
     "execution_count": 138,
     "metadata": {},
     "output_type": "execute_result"
    }
   ],
   "source": [
    "pipe.fit(X_train, y_train)"
   ]
  },
  {
   "cell_type": "code",
   "execution_count": 139,
   "id": "ced84178",
   "metadata": {},
   "outputs": [
    {
     "data": {
      "text/plain": [
       "0.7891891891891892"
      ]
     },
     "execution_count": 139,
     "metadata": {},
     "output_type": "execute_result"
    }
   ],
   "source": [
    "pipe.score(X_test, y_test)"
   ]
  },
  {
   "cell_type": "markdown",
   "id": "b9b1118b",
   "metadata": {},
   "source": [
    "It shows our predictions are almost 79% accurate, i.e. we have identified 79% of the loan status correctly from our logistic regression model."
   ]
  },
  {
   "cell_type": "code",
   "execution_count": 140,
   "id": "b350bd52",
   "metadata": {},
   "outputs": [
    {
     "data": {
      "text/plain": [
       "array([1, 1, 1, 1, 1, 0, 1, 1, 1, 0, 1, 1, 1, 1, 1, 1, 1, 1, 1, 1, 1, 1,\n",
       "       1, 1, 1, 1, 1, 0, 1, 1, 1, 1, 1, 0, 1, 1, 1, 1, 1, 1, 1, 1, 1, 1,\n",
       "       1, 1, 1, 0, 1, 1, 1, 1, 1, 1, 1, 0, 1, 0, 1, 1, 1, 1, 1, 0, 0, 1,\n",
       "       1, 1, 1, 1, 1, 1, 1, 0, 1, 1, 1, 1, 0, 0, 0, 1, 1, 1, 1, 1, 1, 1,\n",
       "       1, 1, 0, 1, 1, 1, 1, 1, 1, 1, 1, 1, 1, 1, 1, 1, 1, 1, 1, 1, 0, 1,\n",
       "       1, 1, 1, 1, 0, 1, 1, 1, 1, 1, 1, 0, 1, 0, 1, 1, 1, 0, 1, 1, 1, 0,\n",
       "       1, 1, 1, 1, 1, 1, 1, 1, 1, 1, 1, 1, 0, 1, 1, 1, 1, 1, 1, 1, 1, 1,\n",
       "       1, 1, 1, 1, 1, 1, 1, 1, 1, 1, 1, 0, 1, 1, 1, 1, 0, 1, 1, 0, 1, 1,\n",
       "       1, 0, 1, 1, 0, 1, 1, 1, 1])"
      ]
     },
     "execution_count": 140,
     "metadata": {},
     "output_type": "execute_result"
    }
   ],
   "source": [
    "pipe.predict(X_test)"
   ]
  },
  {
   "cell_type": "code",
   "execution_count": 141,
   "id": "a614cd26",
   "metadata": {},
   "outputs": [],
   "source": [
    "from sklearn.metrics import confusion_matrix"
   ]
  },
  {
   "cell_type": "code",
   "execution_count": 142,
   "id": "43a3a2c0",
   "metadata": {},
   "outputs": [],
   "source": [
    "def plot_roc_curve(fpr,tpr):\n",
    "    plt.plot(fpr,tpr, color='orange',label='ROC')\n",
    "    plt.plot([0,1],[0,1], color='blue',linestyle ='--')\n",
    "    plt.xlabel('False Positive Rate')\n",
    "    plt.ylabel('True Positive Rate')\n",
    "    plt.title('ROC Curve')\n",
    "    plt.legend()\n",
    "    plt.show()"
   ]
  },
  {
   "cell_type": "code",
   "execution_count": 143,
   "id": "10db0e78",
   "metadata": {},
   "outputs": [],
   "source": [
    "probs=pipe.predict_proba(X_test)"
   ]
  },
  {
   "cell_type": "code",
   "execution_count": 144,
   "id": "02a131c9",
   "metadata": {},
   "outputs": [
    {
     "data": {
      "text/plain": [
       "array([[0.21241591, 0.78758409],\n",
       "       [0.22743173, 0.77256827],\n",
       "       [0.22020863, 0.77979137],\n",
       "       [0.21681227, 0.78318773],\n",
       "       [0.16670243, 0.83329757],\n",
       "       [0.93542359, 0.06457641],\n",
       "       [0.12551322, 0.87448678],\n",
       "       [0.29656435, 0.70343565],\n",
       "       [0.32364263, 0.67635737],\n",
       "       [0.92037015, 0.07962985],\n",
       "       [0.16793302, 0.83206698],\n",
       "       [0.16667185, 0.83332815],\n",
       "       [0.24146486, 0.75853514],\n",
       "       [0.27574286, 0.72425714],\n",
       "       [0.23233368, 0.76766632],\n",
       "       [0.26214065, 0.73785935],\n",
       "       [0.14060689, 0.85939311],\n",
       "       [0.22108733, 0.77891267],\n",
       "       [0.15025173, 0.84974827],\n",
       "       [0.22133578, 0.77866422],\n",
       "       [0.24850122, 0.75149878],\n",
       "       [0.16961778, 0.83038222],\n",
       "       [0.24320871, 0.75679129],\n",
       "       [0.13095141, 0.86904859],\n",
       "       [0.17783374, 0.82216626],\n",
       "       [0.34401986, 0.65598014],\n",
       "       [0.36948758, 0.63051242],\n",
       "       [0.91796172, 0.08203828],\n",
       "       [0.17685941, 0.82314059],\n",
       "       [0.25843436, 0.74156564],\n",
       "       [0.29481217, 0.70518783],\n",
       "       [0.26001065, 0.73998935],\n",
       "       [0.20410213, 0.79589787],\n",
       "       [0.87211048, 0.12788952],\n",
       "       [0.19490769, 0.80509231],\n",
       "       [0.14505446, 0.85494554],\n",
       "       [0.27561308, 0.72438692],\n",
       "       [0.25144362, 0.74855638],\n",
       "       [0.12008951, 0.87991049],\n",
       "       [0.1985568 , 0.8014432 ],\n",
       "       [0.19925029, 0.80074971],\n",
       "       [0.11468651, 0.88531349],\n",
       "       [0.21032259, 0.78967741],\n",
       "       [0.17292509, 0.82707491],\n",
       "       [0.19015176, 0.80984824],\n",
       "       [0.25592345, 0.74407655],\n",
       "       [0.13218221, 0.86781779],\n",
       "       [0.91770999, 0.08229001],\n",
       "       [0.17286829, 0.82713171],\n",
       "       [0.18856864, 0.81143136],\n",
       "       [0.20609268, 0.79390732],\n",
       "       [0.26480179, 0.73519821],\n",
       "       [0.19168905, 0.80831095],\n",
       "       [0.17295623, 0.82704377],\n",
       "       [0.20503519, 0.79496481],\n",
       "       [0.88702428, 0.11297572],\n",
       "       [0.20201574, 0.79798426],\n",
       "       [0.96357232, 0.03642768],\n",
       "       [0.13814007, 0.86185993],\n",
       "       [0.17397543, 0.82602457],\n",
       "       [0.21050057, 0.78949943],\n",
       "       [0.13650663, 0.86349337],\n",
       "       [0.18997271, 0.81002729],\n",
       "       [0.91641393, 0.08358607],\n",
       "       [0.9369395 , 0.0630605 ],\n",
       "       [0.1927102 , 0.8072898 ],\n",
       "       [0.19488413, 0.80511587],\n",
       "       [0.18680527, 0.81319473],\n",
       "       [0.2645107 , 0.7354893 ],\n",
       "       [0.15323059, 0.84676941],\n",
       "       [0.19896535, 0.80103465],\n",
       "       [0.12366154, 0.87633846],\n",
       "       [0.1198428 , 0.8801572 ],\n",
       "       [0.93772608, 0.06227392],\n",
       "       [0.21014783, 0.78985217],\n",
       "       [0.26497067, 0.73502933],\n",
       "       [0.33357521, 0.66642479],\n",
       "       [0.19997058, 0.80002942],\n",
       "       [0.94398121, 0.05601879],\n",
       "       [0.91513269, 0.08486731],\n",
       "       [0.90292677, 0.09707323],\n",
       "       [0.18205936, 0.81794064],\n",
       "       [0.20784189, 0.79215811],\n",
       "       [0.24534757, 0.75465243],\n",
       "       [0.24497702, 0.75502298],\n",
       "       [0.14504041, 0.85495959],\n",
       "       [0.21220998, 0.78779002],\n",
       "       [0.13599421, 0.86400579],\n",
       "       [0.15505875, 0.84494125],\n",
       "       [0.17846672, 0.82153328],\n",
       "       [0.94357511, 0.05642489],\n",
       "       [0.32633076, 0.67366924],\n",
       "       [0.29016128, 0.70983872],\n",
       "       [0.19398647, 0.80601353],\n",
       "       [0.12719585, 0.87280415],\n",
       "       [0.19552101, 0.80447899],\n",
       "       [0.18129687, 0.81870313],\n",
       "       [0.1167844 , 0.8832156 ],\n",
       "       [0.15540446, 0.84459554],\n",
       "       [0.17554768, 0.82445232],\n",
       "       [0.23602231, 0.76397769],\n",
       "       [0.18920008, 0.81079992],\n",
       "       [0.2065052 , 0.7934948 ],\n",
       "       [0.19229827, 0.80770173],\n",
       "       [0.18283   , 0.81717   ],\n",
       "       [0.21573325, 0.78426675],\n",
       "       [0.15416171, 0.84583829],\n",
       "       [0.14129257, 0.85870743],\n",
       "       [0.89301436, 0.10698564],\n",
       "       [0.2246401 , 0.7753599 ],\n",
       "       [0.21564464, 0.78435536],\n",
       "       [0.25545266, 0.74454734],\n",
       "       [0.27784577, 0.72215423],\n",
       "       [0.16364893, 0.83635107],\n",
       "       [0.94583774, 0.05416226],\n",
       "       [0.25738667, 0.74261333],\n",
       "       [0.1972923 , 0.8027077 ],\n",
       "       [0.18922498, 0.81077502],\n",
       "       [0.20658118, 0.79341882],\n",
       "       [0.25810336, 0.74189664],\n",
       "       [0.16908799, 0.83091201],\n",
       "       [0.93568599, 0.06431401],\n",
       "       [0.30235198, 0.69764802],\n",
       "       [0.88754063, 0.11245937],\n",
       "       [0.24248759, 0.75751241],\n",
       "       [0.14714813, 0.85285187],\n",
       "       [0.21657953, 0.78342047],\n",
       "       [0.92556846, 0.07443154],\n",
       "       [0.23509571, 0.76490429],\n",
       "       [0.1718265 , 0.8281735 ],\n",
       "       [0.20372941, 0.79627059],\n",
       "       [0.88540961, 0.11459039],\n",
       "       [0.23069237, 0.76930763],\n",
       "       [0.14023945, 0.85976055],\n",
       "       [0.17976229, 0.82023771],\n",
       "       [0.20361478, 0.79638522],\n",
       "       [0.17279848, 0.82720152],\n",
       "       [0.28791188, 0.71208812],\n",
       "       [0.32260417, 0.67739583],\n",
       "       [0.29182562, 0.70817438],\n",
       "       [0.24262274, 0.75737726],\n",
       "       [0.18511389, 0.81488611],\n",
       "       [0.18730013, 0.81269987],\n",
       "       [0.19421803, 0.80578197],\n",
       "       [0.88590825, 0.11409175],\n",
       "       [0.19965065, 0.80034935],\n",
       "       [0.20280374, 0.79719626],\n",
       "       [0.23615279, 0.76384721],\n",
       "       [0.20399283, 0.79600717],\n",
       "       [0.23837513, 0.76162487],\n",
       "       [0.18083201, 0.81916799],\n",
       "       [0.26930565, 0.73069435],\n",
       "       [0.25635601, 0.74364399],\n",
       "       [0.20730774, 0.79269226],\n",
       "       [0.15250131, 0.84749869],\n",
       "       [0.16832804, 0.83167196],\n",
       "       [0.24285805, 0.75714195],\n",
       "       [0.12631244, 0.87368756],\n",
       "       [0.20192846, 0.79807154],\n",
       "       [0.12346115, 0.87653885],\n",
       "       [0.23826998, 0.76173002],\n",
       "       [0.17431115, 0.82568885],\n",
       "       [0.28929176, 0.71070824],\n",
       "       [0.14696463, 0.85303537],\n",
       "       [0.13407967, 0.86592033],\n",
       "       [0.9433349 , 0.0566651 ],\n",
       "       [0.09931583, 0.90068417],\n",
       "       [0.24087716, 0.75912284],\n",
       "       [0.35996198, 0.64003802],\n",
       "       [0.20229852, 0.79770148],\n",
       "       [0.88502303, 0.11497697],\n",
       "       [0.17886878, 0.82113122],\n",
       "       [0.18152743, 0.81847257],\n",
       "       [0.91224578, 0.08775422],\n",
       "       [0.1529626 , 0.8470374 ],\n",
       "       [0.16086497, 0.83913503],\n",
       "       [0.18247266, 0.81752734],\n",
       "       [0.85394503, 0.14605497],\n",
       "       [0.19727179, 0.80272821],\n",
       "       [0.20572722, 0.79427278],\n",
       "       [0.88705928, 0.11294072],\n",
       "       [0.23209014, 0.76790986],\n",
       "       [0.19275073, 0.80724927],\n",
       "       [0.21793779, 0.78206221],\n",
       "       [0.19421602, 0.80578398]])"
      ]
     },
     "execution_count": 144,
     "metadata": {},
     "output_type": "execute_result"
    }
   ],
   "source": [
    "probs"
   ]
  },
  {
   "cell_type": "code",
   "execution_count": 145,
   "id": "f86fc858",
   "metadata": {},
   "outputs": [],
   "source": [
    "probs = probs[:, 1]"
   ]
  },
  {
   "cell_type": "code",
   "execution_count": 146,
   "id": "61fd398b",
   "metadata": {},
   "outputs": [],
   "source": [
    "from sklearn.metrics import roc_auc_score"
   ]
  },
  {
   "cell_type": "code",
   "execution_count": 147,
   "id": "de930da7",
   "metadata": {},
   "outputs": [],
   "source": [
    "auc = roc_auc_score(y_test, probs)"
   ]
  },
  {
   "cell_type": "code",
   "execution_count": 148,
   "id": "45074635",
   "metadata": {},
   "outputs": [
    {
     "name": "stdout",
     "output_type": "stream",
     "text": [
      "AUC: 0.72\n"
     ]
    }
   ],
   "source": [
    "print ('AUC: %.2f' % auc)"
   ]
  },
  {
   "cell_type": "code",
   "execution_count": 149,
   "id": "71052ac9",
   "metadata": {},
   "outputs": [],
   "source": [
    "fpr, tpr, thresholds = roc_curve(y_test, probs)"
   ]
  },
  {
   "cell_type": "code",
   "execution_count": 150,
   "id": "8d025e65",
   "metadata": {},
   "outputs": [
    {
     "data": {
      "image/png": "[encoded data removed]",
      "text/plain": [
       "<Figure size 432x288 with 1 Axes>"
      ]
     },
     "metadata": {
      "needs_background": "light"
     },
     "output_type": "display_data"
    }
   ],
   "source": [
    "plot_roc_curve(fpr,tpr)"
   ]
  },
  {
   "cell_type": "code",
   "execution_count": 151,
   "id": "fe3a7b67",
   "metadata": {},
   "outputs": [
    {
     "data": {
      "text/plain": [
       "array([0.78758409, 0.77256827, 0.77979137, 0.78318773, 0.83329757,\n",
       "       0.06457641, 0.87448678, 0.70343565, 0.67635737, 0.07962985,\n",
       "       0.83206698, 0.83332815, 0.75853514, 0.72425714, 0.76766632,\n",
       "       0.73785935, 0.85939311, 0.77891267, 0.84974827, 0.77866422,\n",
       "       0.75149878, 0.83038222, 0.75679129, 0.86904859, 0.82216626,\n",
       "       0.65598014, 0.63051242, 0.08203828, 0.82314059, 0.74156564,\n",
       "       0.70518783, 0.73998935, 0.79589787, 0.12788952, 0.80509231,\n",
       "       0.85494554, 0.72438692, 0.74855638, 0.87991049, 0.8014432 ,\n",
       "       0.80074971, 0.88531349, 0.78967741, 0.82707491, 0.80984824,\n",
       "       0.74407655, 0.86781779, 0.08229001, 0.82713171, 0.81143136,\n",
       "       0.79390732, 0.73519821, 0.80831095, 0.82704377, 0.79496481,\n",
       "       0.11297572, 0.79798426, 0.03642768, 0.86185993, 0.82602457,\n",
       "       0.78949943, 0.86349337, 0.81002729, 0.08358607, 0.0630605 ,\n",
       "       0.8072898 , 0.80511587, 0.81319473, 0.7354893 , 0.84676941,\n",
       "       0.80103465, 0.87633846, 0.8801572 , 0.06227392, 0.78985217,\n",
       "       0.73502933, 0.66642479, 0.80002942, 0.05601879, 0.08486731,\n",
       "       0.09707323, 0.81794064, 0.79215811, 0.75465243, 0.75502298,\n",
       "       0.85495959, 0.78779002, 0.86400579, 0.84494125, 0.82153328,\n",
       "       0.05642489, 0.67366924, 0.70983872, 0.80601353, 0.87280415,\n",
       "       0.80447899, 0.81870313, 0.8832156 , 0.84459554, 0.82445232,\n",
       "       0.76397769, 0.81079992, 0.7934948 , 0.80770173, 0.81717   ,\n",
       "       0.78426675, 0.84583829, 0.85870743, 0.10698564, 0.7753599 ,\n",
       "       0.78435536, 0.74454734, 0.72215423, 0.83635107, 0.05416226,\n",
       "       0.74261333, 0.8027077 , 0.81077502, 0.79341882, 0.74189664,\n",
       "       0.83091201, 0.06431401, 0.69764802, 0.11245937, 0.75751241,\n",
       "       0.85285187, 0.78342047, 0.07443154, 0.76490429, 0.8281735 ,\n",
       "       0.79627059, 0.11459039, 0.76930763, 0.85976055, 0.82023771,\n",
       "       0.79638522, 0.82720152, 0.71208812, 0.67739583, 0.70817438,\n",
       "       0.75737726, 0.81488611, 0.81269987, 0.80578197, 0.11409175,\n",
       "       0.80034935, 0.79719626, 0.76384721, 0.79600717, 0.76162487,\n",
       "       0.81916799, 0.73069435, 0.74364399, 0.79269226, 0.84749869,\n",
       "       0.83167196, 0.75714195, 0.87368756, 0.79807154, 0.87653885,\n",
       "       0.76173002, 0.82568885, 0.71070824, 0.85303537, 0.86592033,\n",
       "       0.0566651 , 0.90068417, 0.75912284, 0.64003802, 0.79770148,\n",
       "       0.11497697, 0.82113122, 0.81847257, 0.08775422, 0.8470374 ,\n",
       "       0.83913503, 0.81752734, 0.14605497, 0.80272821, 0.79427278,\n",
       "       0.11294072, 0.76790986, 0.80724927, 0.78206221, 0.80578398])"
      ]
     },
     "execution_count": 151,
     "metadata": {},
     "output_type": "execute_result"
    }
   ],
   "source": [
    "probs"
   ]
  },
  {
   "cell_type": "markdown",
   "id": "a1f11801",
   "metadata": {},
   "source": [
    "**HYPERPARAMETER TUNING USING GridSearchCV**"
   ]
  },
  {
   "cell_type": "markdown",
   "id": "07fb3081",
   "metadata": {},
   "source": [
    "Hyperparameter Tuning or optimization is choosing a set of optimal hyperparameters for a learning algorithm."
   ]
  },
  {
   "cell_type": "code",
   "execution_count": 152,
   "id": "1fb21860",
   "metadata": {},
   "outputs": [],
   "source": [
    "param_grid = [\n",
    "    {'penalty': ['l1','l2','elasticnet','none'],\n",
    "     'C' : np.logspace(-4, 4, 20),\n",
    "     'solver' : ['lbfgs','newton-cg','liblinear','sag', 'saga'],\n",
    "     'class_weight' : ['balanced','none'],\n",
    "     'max_iter': [100, 1000, 2500, 5000]\n",
    "    }\n",
    "]"
   ]
  },
  {
   "cell_type": "code",
   "execution_count": 153,
   "id": "218759cf",
   "metadata": {},
   "outputs": [],
   "source": [
    "from sklearn.model_selection import GridSearchCV"
   ]
  },
  {
   "cell_type": "code",
   "execution_count": 154,
   "id": "63c3e997",
   "metadata": {},
   "outputs": [],
   "source": [
    "clf = GridSearchCV(logistic_model, param_grid = param_grid, cv=5, verbose = True, n_jobs=-1)"
   ]
  },
  {
   "cell_type": "code",
   "execution_count": 155,
   "id": "be3f7596",
   "metadata": {},
   "outputs": [
    {
     "name": "stdout",
     "output_type": "stream",
     "text": [
      "Fitting 5 folds for each of 3200 candidates, totalling 16000 fits\n"
     ]
    },
    {
     "name": "stderr",
     "output_type": "stream",
     "text": [
      "C:\\Users\\joshm\\anaconda3\\lib\\site-packages\\sklearn\\model_selection\\_search.py:918: UserWarning: One or more of the test scores are non-finite: [       nan        nan 0.30536252 ...        nan 0.69228454 0.69228454]\n",
      "  warnings.warn(\n",
      "C:\\Users\\joshm\\anaconda3\\lib\\site-packages\\sklearn\\svm\\_base.py:985: ConvergenceWarning: Liblinear failed to converge, increase the number of iterations.\n",
      "  warnings.warn(\"Liblinear failed to converge, increase \"\n"
     ]
    }
   ],
   "source": [
    "best_clf = clf.fit(X_train,y_train)"
   ]
  },
  {
   "cell_type": "code",
   "execution_count": 156,
   "id": "a80d7761",
   "metadata": {},
   "outputs": [
    {
     "data": {
      "text/plain": [
       "LogisticRegression(C=0.23357214690901212, class_weight='balanced', penalty='l1',\n",
       "                   solver='liblinear')"
      ]
     },
     "execution_count": 156,
     "metadata": {},
     "output_type": "execute_result"
    }
   ],
   "source": [
    "best_clf.best_estimator_"
   ]
  },
  {
   "cell_type": "markdown",
   "id": "25d95122",
   "metadata": {},
   "source": [
    "**ACCURACY**"
   ]
  },
  {
   "cell_type": "code",
   "execution_count": 157,
   "id": "d7483453",
   "metadata": {},
   "outputs": [
    {
     "name": "stdout",
     "output_type": "stream",
     "text": [
      "Accuracy - : 0.795\n"
     ]
    }
   ],
   "source": [
    "print(f'Accuracy - : {best_clf.score(X_test,y_test):.3f}')"
   ]
  },
  {
   "cell_type": "code",
   "execution_count": 158,
   "id": "5234b7e9",
   "metadata": {},
   "outputs": [
    {
     "data": {
      "text/plain": [
       "array([[-0.08320265,  0.14560519,  0.17657151, -0.15922271, -0.06417995,\n",
       "        -0.10628938, -0.13155506,  1.3404641 ,  0.04121842,  0.09326795,\n",
       "         0.08357154, -0.08102364, -0.2294412 ]])"
      ]
     },
     "execution_count": 158,
     "metadata": {},
     "output_type": "execute_result"
    }
   ],
   "source": [
    "pipe.named_steps['logisticregression'].coef_"
   ]
  },
  {
   "cell_type": "markdown",
   "id": "947b76ae",
   "metadata": {},
   "source": [
    "We find that 'Credit_History', 'BalanceIncome','Total Income', 'DTI' 'EMI', 'Education'  features are most important in predicting the target variable (Loan_Status).\n",
    "Since in Label encoding the Education column, the 'Graduate' label is coded as 0 and 'Not Graduate' label coded as 1, hence it is showing a negative correlation to the Education feature. In our dataset, applicants who are Graduates  have a higher Loan approval rate as compared to the 'Not Graduates'.\n",
    "In the column 'Balance Income', all the values are negative, hence Balance Income and DTI (Debt to Income)feature shows a negative correlation."
   ]
  },
  {
   "cell_type": "markdown",
   "id": "a453a38b",
   "metadata": {},
   "source": [
    "**2. RANDOM FOREST MODEL**"
   ]
  },
  {
   "cell_type": "code",
   "execution_count": 159,
   "id": "fd6bcc08",
   "metadata": {},
   "outputs": [],
   "source": [
    "from sklearn.ensemble import RandomForestClassifier"
   ]
  },
  {
   "cell_type": "code",
   "execution_count": 160,
   "id": "daf57560",
   "metadata": {},
   "outputs": [],
   "source": [
    "X, y = make_classification(n_samples=614, n_features=14,random_state=3)"
   ]
  },
  {
   "cell_type": "code",
   "execution_count": 161,
   "id": "44ee2570",
   "metadata": {},
   "outputs": [],
   "source": [
    "rf_model = RandomForestClassifier(n_estimators=300, random_state = 1,n_jobs=-1)"
   ]
  },
  {
   "cell_type": "code",
   "execution_count": 162,
   "id": "57b41fc2",
   "metadata": {},
   "outputs": [
    {
     "data": {
      "text/plain": [
       "RandomForestClassifier(n_estimators=300, n_jobs=-1, random_state=1)"
      ]
     },
     "execution_count": 162,
     "metadata": {},
     "output_type": "execute_result"
    }
   ],
   "source": [
    "rf_model.fit(X_train, y_train)"
   ]
  },
  {
   "cell_type": "code",
   "execution_count": 163,
   "id": "be85a87a",
   "metadata": {},
   "outputs": [
    {
     "data": {
      "text/plain": [
       "array([1, 1, 1, 0, 1, 0, 1, 0, 1, 0, 0, 1, 1, 1, 1, 1, 1, 1, 1, 1, 1, 1,\n",
       "       1, 1, 1, 1, 1, 0, 1, 1, 1, 1, 0, 0, 1, 0, 1, 1, 1, 1, 1, 1, 0, 1,\n",
       "       1, 1, 0, 0, 1, 1, 1, 0, 1, 1, 1, 0, 1, 0, 1, 1, 1, 1, 1, 0, 0, 1,\n",
       "       1, 1, 1, 1, 1, 1, 1, 0, 1, 1, 1, 1, 0, 0, 0, 1, 0, 0, 0, 1, 1, 1,\n",
       "       1, 1, 0, 1, 1, 1, 1, 1, 1, 1, 1, 1, 1, 1, 1, 1, 0, 1, 1, 1, 0, 1,\n",
       "       1, 1, 1, 1, 0, 1, 1, 1, 1, 1, 1, 0, 1, 0, 1, 0, 1, 0, 1, 1, 1, 0,\n",
       "       1, 1, 1, 1, 1, 1, 1, 1, 1, 1, 1, 1, 0, 1, 1, 1, 1, 1, 1, 0, 1, 1,\n",
       "       1, 1, 1, 1, 1, 1, 1, 1, 0, 1, 0, 0, 1, 1, 1, 1, 0, 1, 1, 0, 1, 1,\n",
       "       0, 0, 1, 1, 0, 1, 0, 1, 1])"
      ]
     },
     "execution_count": 163,
     "metadata": {},
     "output_type": "execute_result"
    }
   ],
   "source": [
    "rf_model.predict(X_test)"
   ]
  },
  {
   "cell_type": "code",
   "execution_count": 164,
   "id": "42f7b2b1",
   "metadata": {},
   "outputs": [
    {
     "data": {
      "text/plain": [
       "0.7675675675675676"
      ]
     },
     "execution_count": 164,
     "metadata": {},
     "output_type": "execute_result"
    }
   ],
   "source": [
    "rf_model.score(X_test, y_test)"
   ]
  },
  {
   "cell_type": "markdown",
   "id": "a92a81f6",
   "metadata": {},
   "source": [
    "The predictions are almost 77% accurate, i.e. we have identified 77% of the loan status correctly from the Random Forest model."
   ]
  },
  {
   "cell_type": "code",
   "execution_count": 165,
   "id": "5924a4fe",
   "metadata": {},
   "outputs": [],
   "source": [
    "y_proba = rf_model.predict_proba(X_test)[:,1]"
   ]
  },
  {
   "cell_type": "code",
   "execution_count": 166,
   "id": "3a50d8fd",
   "metadata": {},
   "outputs": [],
   "source": [
    "fpr, tpr, thresholds = roc_curve(y_test, y_proba)"
   ]
  },
  {
   "cell_type": "code",
   "execution_count": 167,
   "id": "945bed72",
   "metadata": {},
   "outputs": [
    {
     "data": {
      "image/png": "[encoded data removed]",
      "text/plain": [
       "<Figure size 432x288 with 1 Axes>"
      ]
     },
     "metadata": {
      "needs_background": "light"
     },
     "output_type": "display_data"
    }
   ],
   "source": [
    "plot_roc_curve(fpr,tpr)"
   ]
  },
  {
   "cell_type": "markdown",
   "id": "ae448c7f",
   "metadata": {},
   "source": [
    "**HYPERPARAMETER TUNING**"
   ]
  },
  {
   "cell_type": "markdown",
   "id": "38b630ca",
   "metadata": {},
   "source": [
    "*PARAMETERS**\n",
    "**For increasing the predictive power:**\n",
    "*n_estimators* : number of trees the algorithm builds before taking the maximum voting or taking the averages of predictions.\n",
    "*max_features* : maximum number of features random forest considers to split a node.\n",
    "*random_state* : hyperparameter makes the model’s output replicable\n",
    "*min_samples_leaf*:The minimum number of samples required to be at a leaf node"
   ]
  },
  {
   "cell_type": "code",
   "execution_count": 168,
   "id": "e0c360c5",
   "metadata": {},
   "outputs": [
    {
     "name": "stdout",
     "output_type": "stream",
     "text": [
      "0.7891891891891892\n"
     ]
    }
   ],
   "source": [
    "rf_model=RandomForestClassifier(n_estimators=300,criterion='entropy',\n",
    "                             max_features='sqrt',min_samples_leaf=10,random_state=100).fit(X_train,y_train)\n",
    "predictions=rf_model.predict(X_test)\n",
    "\n",
    "print(accuracy_score(y_test,predictions))"
   ]
  },
  {
   "cell_type": "code",
   "execution_count": 169,
   "id": "1cefcd68",
   "metadata": {},
   "outputs": [
    {
     "name": "stdout",
     "output_type": "stream",
     "text": [
      "Accuracy - : 0.789\n"
     ]
    }
   ],
   "source": [
    "print(f'Accuracy - : {rf_model.score(X_test,y_test):.3f}')"
   ]
  },
  {
   "cell_type": "code",
   "execution_count": 170,
   "id": "de2cb846",
   "metadata": {},
   "outputs": [],
   "source": [
    "from sklearn import metrics"
   ]
  },
  {
   "cell_type": "code",
   "execution_count": 171,
   "id": "bf7af62b",
   "metadata": {},
   "outputs": [],
   "source": [
    "y_pred = rf_model.predict(X_test)"
   ]
  },
  {
   "cell_type": "code",
   "execution_count": 172,
   "id": "41b569e4",
   "metadata": {},
   "outputs": [
    {
     "name": "stdout",
     "output_type": "stream",
     "text": [
      "area under curve (auc):  0.6886567953463776\n"
     ]
    }
   ],
   "source": [
    "print(\"area under curve (auc): \", metrics.roc_auc_score(y_test, y_pred))"
   ]
  },
  {
   "cell_type": "markdown",
   "id": "c53e060c",
   "metadata": {},
   "source": [
    "**3. DECISION TREE MODEL**"
   ]
  },
  {
   "cell_type": "code",
   "execution_count": 173,
   "id": "ba86ea8c",
   "metadata": {},
   "outputs": [
    {
     "data": {
      "text/plain": [
       "DecisionTreeClassifier()"
      ]
     },
     "execution_count": 173,
     "metadata": {},
     "output_type": "execute_result"
    }
   ],
   "source": [
    "from sklearn.tree import DecisionTreeClassifier\n",
    "# Creating the parameter grid \n",
    "\n",
    "param_grid = {\n",
    "    'max_depth': range(5, 15, 5),\n",
    "    'min_samples_leaf': range(50, 150, 50),\n",
    "    'min_samples_split': range(50, 150, 50),\n",
    "}\n",
    "\n",
    "dtree = DecisionTreeClassifier()\n",
    "dtree.fit(X_train, y_train)"
   ]
  },
  {
   "cell_type": "code",
   "execution_count": 174,
   "id": "dca93718",
   "metadata": {},
   "outputs": [],
   "source": [
    "y_pred = dtree.predict(X_test)"
   ]
  },
  {
   "cell_type": "code",
   "execution_count": 175,
   "id": "f05803b9",
   "metadata": {},
   "outputs": [
    {
     "data": {
      "text/plain": [
       "0.6972972972972973"
      ]
     },
     "execution_count": 175,
     "metadata": {},
     "output_type": "execute_result"
    }
   ],
   "source": [
    "dtree.score(X_test, y_test)"
   ]
  },
  {
   "cell_type": "markdown",
   "id": "888a92ae",
   "metadata": {},
   "source": [
    "In this model, our  predictions are almost 71% accurate, i.e. we have identified 71% of the loan status correctly from the Decision tree model."
   ]
  },
  {
   "cell_type": "code",
   "execution_count": 176,
   "id": "671b5e19",
   "metadata": {},
   "outputs": [],
   "source": [
    "y_proba = dtree.predict_proba(X_test)[:,1]"
   ]
  },
  {
   "cell_type": "code",
   "execution_count": 177,
   "id": "d391dca6",
   "metadata": {},
   "outputs": [],
   "source": [
    "fpr, tpr, thresholds = roc_curve(y_test, y_proba)"
   ]
  },
  {
   "cell_type": "code",
   "execution_count": 178,
   "id": "32e70c7c",
   "metadata": {},
   "outputs": [
    {
     "data": {
      "image/png": "[encoded data removed]",
      "text/plain": [
       "<Figure size 432x288 with 1 Axes>"
      ]
     },
     "metadata": {
      "needs_background": "light"
     },
     "output_type": "display_data"
    }
   ],
   "source": [
    "plot_roc_curve(fpr,tpr)"
   ]
  },
  {
   "cell_type": "markdown",
   "id": "a63d95fb",
   "metadata": {},
   "source": [
    "**HYPERPARAMETER TUNING**"
   ]
  },
  {
   "cell_type": "code",
   "execution_count": 179,
   "id": "31343703",
   "metadata": {},
   "outputs": [
    {
     "name": "stdout",
     "output_type": "stream",
     "text": [
      "Fitting 5 folds for each of 8 candidates, totalling 40 fits\n"
     ]
    },
    {
     "data": {
      "text/plain": [
       "GridSearchCV(cv=5, estimator=DecisionTreeClassifier(),\n",
       "             param_grid={'max_depth': range(5, 15, 5),\n",
       "                         'min_samples_leaf': range(50, 150, 50),\n",
       "                         'min_samples_split': range(50, 150, 50)},\n",
       "             scoring='roc_auc', verbose=1)"
      ]
     },
     "execution_count": 179,
     "metadata": {},
     "output_type": "execute_result"
    }
   ],
   "source": [
    "grid_search = GridSearchCV(estimator = dtree, \n",
    "                           param_grid = param_grid, \n",
    "                           scoring= 'roc_auc',\n",
    "                           cv = 5, \n",
    "                           verbose = 1)\n",
    "\n",
    "# Fit the grid search to the data\n",
    "grid_search.fit(X_train, y_train)"
   ]
  },
  {
   "cell_type": "code",
   "execution_count": 180,
   "id": "4459c8e2",
   "metadata": {
    "scrolled": true
   },
   "outputs": [
    {
     "name": "stdout",
     "output_type": "stream",
     "text": [
      "Best roc_auc:- 0.6773728813559322\n",
      "DecisionTreeClassifier(max_depth=5, min_samples_leaf=50, min_samples_split=100)\n"
     ]
    }
   ],
   "source": [
    "print(\"Best roc_auc:-\", grid_search.best_score_)\n",
    "print(grid_search.best_estimator_)"
   ]
  },
  {
   "cell_type": "code",
   "execution_count": 181,
   "id": "922ffec6",
   "metadata": {},
   "outputs": [
    {
     "name": "stdout",
     "output_type": "stream",
     "text": [
      "Accuracy - : 0.697\n"
     ]
    }
   ],
   "source": [
    "print(f'Accuracy - : {dtree.score(X_test,y_test):.3f}')"
   ]
  },
  {
   "cell_type": "markdown",
   "id": "2d4045c6",
   "metadata": {},
   "source": [
    "**ROC-AUC score: Model comparison**"
   ]
  },
  {
   "cell_type": "code",
   "execution_count": 182,
   "id": "db98f455",
   "metadata": {},
   "outputs": [
    {
     "data": {
      "image/png": "[encoded data removed]",
      "text/plain": [
       "<Figure size 432x288 with 1 Axes>"
      ]
     },
     "metadata": {},
     "output_type": "display_data"
    }
   ],
   "source": [
    "sns.set_theme(style=\"whitegrid\")\n",
    "sns.barplot(x=[\"logistic_model\",\"RandomForest\", \"dtree\"],\n",
    "            y=[roc_auc_score(pipe.predict(X_test), y_test), roc_auc_score(rf_model.predict(X_test), y_test), roc_auc_score(dtree.predict(X_test), y_test)])\n",
    "               \n",
    "plt.ylabel(\"AUC\") \n",
    "plt.show()"
   ]
  },
  {
   "cell_type": "markdown",
   "id": "aa6fd54a",
   "metadata": {},
   "source": [
    "**Drop the correlated variables,EMI and Balance_Income**"
   ]
  },
  {
   "cell_type": "code",
   "execution_count": 183,
   "id": "aa0cbf8a",
   "metadata": {},
   "outputs": [],
   "source": [
    "home_loan.drop(['EMI','Balance_Income'], axis=1, inplace=True)"
   ]
  },
  {
   "cell_type": "code",
   "execution_count": 186,
   "id": "de260808",
   "metadata": {},
   "outputs": [
    {
     "data": {
      "text/plain": [
       "<AxesSubplot:>"
      ]
     },
     "execution_count": 186,
     "metadata": {},
     "output_type": "execute_result"
    },
    {
     "data": {
      "image/png": "[encoded data removed]",
      "text/plain": [
       "<Figure size 864x720 with 2 Axes>"
      ]
     },
     "metadata": {},
     "output_type": "display_data"
    }
   ],
   "source": [
    "corr = home_loan.corr()\n",
    "plt.figure(figsize=(12,10))\n",
    "sns.heatmap(corr, annot = True, cmap= \"BuPu\")"
   ]
  },
  {
   "cell_type": "code",
   "execution_count": null,
   "id": "97ebef4e",
   "metadata": {},
   "outputs": [],
   "source": []
  }
 ],
 "metadata": {
  "kernelspec": {
   "display_name": "Python 3",
   "language": "python",
   "name": "python3"
  },
  "language_info": {
   "codemirror_mode": {
    "name": "ipython",
    "version": 3
   },
   "file_extension": ".py",
   "mimetype": "text/x-python",
   "name": "python",
   "nbconvert_exporter": "python",
   "pygments_lexer": "ipython3",
   "version": "3.8.8"
  }
 },
 "nbformat": 4,
 "nbformat_minor": 5
}
